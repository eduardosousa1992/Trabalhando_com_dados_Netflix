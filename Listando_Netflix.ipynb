{
  "nbformat": 4,
  "nbformat_minor": 0,
  "metadata": {
    "colab": {
      "name": "Listando_Netflix.ipynb",
      "provenance": [],
      "authorship_tag": "ABX9TyPJq9vdpymPkvCQrf2H1e/G",
      "include_colab_link": true
    },
    "kernelspec": {
      "name": "python3",
      "display_name": "Python 3"
    }
  },
  "cells": [
    {
      "cell_type": "markdown",
      "metadata": {
        "id": "view-in-github",
        "colab_type": "text"
      },
      "source": [
        "<a href=\"https://colab.research.google.com/github/eduardosousa1992/Trabalhando_com_dados_Netflix/blob/main/Listando_Netflix.ipynb\" target=\"_parent\"><img src=\"https://colab.research.google.com/assets/colab-badge.svg\" alt=\"Open In Colab\"/></a>"
      ]
    },
    {
      "cell_type": "code",
      "metadata": {
        "id": "GY9txiQFO_Dj"
      },
      "source": [
        "import pandas as pd\r\n",
        "import matplotlib.pyplot as plt\r\n",
        "import seaborn as sns\r\n",
        "import numpy as np"
      ],
      "execution_count": 3,
      "outputs": []
    },
    {
      "cell_type": "code",
      "metadata": {
        "id": "nhauR9e1WHyk"
      },
      "source": [
        "dados = pd.read_csv('netflix_titles.csv')"
      ],
      "execution_count": 4,
      "outputs": []
    },
    {
      "cell_type": "code",
      "metadata": {
        "colab": {
          "base_uri": "https://localhost:8080/",
          "height": 1000
        },
        "id": "PF9CVRdsWszP",
        "outputId": "83fe76bc-f6e5-4011-bf80-dedb5de73375"
      },
      "source": [
        "dados"
      ],
      "execution_count": 5,
      "outputs": [
        {
          "output_type": "execute_result",
          "data": {
            "text/html": [
              "<div>\n",
              "<style scoped>\n",
              "    .dataframe tbody tr th:only-of-type {\n",
              "        vertical-align: middle;\n",
              "    }\n",
              "\n",
              "    .dataframe tbody tr th {\n",
              "        vertical-align: top;\n",
              "    }\n",
              "\n",
              "    .dataframe thead th {\n",
              "        text-align: right;\n",
              "    }\n",
              "</style>\n",
              "<table border=\"1\" class=\"dataframe\">\n",
              "  <thead>\n",
              "    <tr style=\"text-align: right;\">\n",
              "      <th></th>\n",
              "      <th>show_id</th>\n",
              "      <th>type</th>\n",
              "      <th>title</th>\n",
              "      <th>director</th>\n",
              "      <th>cast</th>\n",
              "      <th>country</th>\n",
              "      <th>date_added</th>\n",
              "      <th>release_year</th>\n",
              "      <th>rating</th>\n",
              "      <th>duration</th>\n",
              "      <th>listed_in</th>\n",
              "      <th>description</th>\n",
              "    </tr>\n",
              "  </thead>\n",
              "  <tbody>\n",
              "    <tr>\n",
              "      <th>0</th>\n",
              "      <td>s1</td>\n",
              "      <td>TV Show</td>\n",
              "      <td>3%</td>\n",
              "      <td>NaN</td>\n",
              "      <td>João Miguel, Bianca Comparato, Michel Gomes, R...</td>\n",
              "      <td>Brazil</td>\n",
              "      <td>August 14, 2020</td>\n",
              "      <td>2020</td>\n",
              "      <td>TV-MA</td>\n",
              "      <td>4 Seasons</td>\n",
              "      <td>International TV Shows, TV Dramas, TV Sci-Fi &amp;...</td>\n",
              "      <td>In a future where the elite inhabit an island ...</td>\n",
              "    </tr>\n",
              "    <tr>\n",
              "      <th>1</th>\n",
              "      <td>s2</td>\n",
              "      <td>Movie</td>\n",
              "      <td>7:19</td>\n",
              "      <td>Jorge Michel Grau</td>\n",
              "      <td>Demián Bichir, Héctor Bonilla, Oscar Serrano, ...</td>\n",
              "      <td>Mexico</td>\n",
              "      <td>December 23, 2016</td>\n",
              "      <td>2016</td>\n",
              "      <td>TV-MA</td>\n",
              "      <td>93 min</td>\n",
              "      <td>Dramas, International Movies</td>\n",
              "      <td>After a devastating earthquake hits Mexico Cit...</td>\n",
              "    </tr>\n",
              "    <tr>\n",
              "      <th>2</th>\n",
              "      <td>s3</td>\n",
              "      <td>Movie</td>\n",
              "      <td>23:59</td>\n",
              "      <td>Gilbert Chan</td>\n",
              "      <td>Tedd Chan, Stella Chung, Henley Hii, Lawrence ...</td>\n",
              "      <td>Singapore</td>\n",
              "      <td>December 20, 2018</td>\n",
              "      <td>2011</td>\n",
              "      <td>R</td>\n",
              "      <td>78 min</td>\n",
              "      <td>Horror Movies, International Movies</td>\n",
              "      <td>When an army recruit is found dead, his fellow...</td>\n",
              "    </tr>\n",
              "    <tr>\n",
              "      <th>3</th>\n",
              "      <td>s4</td>\n",
              "      <td>Movie</td>\n",
              "      <td>9</td>\n",
              "      <td>Shane Acker</td>\n",
              "      <td>Elijah Wood, John C. Reilly, Jennifer Connelly...</td>\n",
              "      <td>United States</td>\n",
              "      <td>November 16, 2017</td>\n",
              "      <td>2009</td>\n",
              "      <td>PG-13</td>\n",
              "      <td>80 min</td>\n",
              "      <td>Action &amp; Adventure, Independent Movies, Sci-Fi...</td>\n",
              "      <td>In a postapocalyptic world, rag-doll robots hi...</td>\n",
              "    </tr>\n",
              "    <tr>\n",
              "      <th>4</th>\n",
              "      <td>s5</td>\n",
              "      <td>Movie</td>\n",
              "      <td>21</td>\n",
              "      <td>Robert Luketic</td>\n",
              "      <td>Jim Sturgess, Kevin Spacey, Kate Bosworth, Aar...</td>\n",
              "      <td>United States</td>\n",
              "      <td>January 1, 2020</td>\n",
              "      <td>2008</td>\n",
              "      <td>PG-13</td>\n",
              "      <td>123 min</td>\n",
              "      <td>Dramas</td>\n",
              "      <td>A brilliant group of students become card-coun...</td>\n",
              "    </tr>\n",
              "    <tr>\n",
              "      <th>...</th>\n",
              "      <td>...</td>\n",
              "      <td>...</td>\n",
              "      <td>...</td>\n",
              "      <td>...</td>\n",
              "      <td>...</td>\n",
              "      <td>...</td>\n",
              "      <td>...</td>\n",
              "      <td>...</td>\n",
              "      <td>...</td>\n",
              "      <td>...</td>\n",
              "      <td>...</td>\n",
              "      <td>...</td>\n",
              "    </tr>\n",
              "    <tr>\n",
              "      <th>7782</th>\n",
              "      <td>s7783</td>\n",
              "      <td>Movie</td>\n",
              "      <td>Zozo</td>\n",
              "      <td>Josef Fares</td>\n",
              "      <td>Imad Creidi, Antoinette Turk, Elias Gergi, Car...</td>\n",
              "      <td>Sweden, Czech Republic, United Kingdom, Denmar...</td>\n",
              "      <td>October 19, 2020</td>\n",
              "      <td>2005</td>\n",
              "      <td>TV-MA</td>\n",
              "      <td>99 min</td>\n",
              "      <td>Dramas, International Movies</td>\n",
              "      <td>When Lebanon's Civil War deprives Zozo of his ...</td>\n",
              "    </tr>\n",
              "    <tr>\n",
              "      <th>7783</th>\n",
              "      <td>s7784</td>\n",
              "      <td>Movie</td>\n",
              "      <td>Zubaan</td>\n",
              "      <td>Mozez Singh</td>\n",
              "      <td>Vicky Kaushal, Sarah-Jane Dias, Raaghav Chanan...</td>\n",
              "      <td>India</td>\n",
              "      <td>March 2, 2019</td>\n",
              "      <td>2015</td>\n",
              "      <td>TV-14</td>\n",
              "      <td>111 min</td>\n",
              "      <td>Dramas, International Movies, Music &amp; Musicals</td>\n",
              "      <td>A scrappy but poor boy worms his way into a ty...</td>\n",
              "    </tr>\n",
              "    <tr>\n",
              "      <th>7784</th>\n",
              "      <td>s7785</td>\n",
              "      <td>Movie</td>\n",
              "      <td>Zulu Man in Japan</td>\n",
              "      <td>NaN</td>\n",
              "      <td>Nasty C</td>\n",
              "      <td>NaN</td>\n",
              "      <td>September 25, 2020</td>\n",
              "      <td>2019</td>\n",
              "      <td>TV-MA</td>\n",
              "      <td>44 min</td>\n",
              "      <td>Documentaries, International Movies, Music &amp; M...</td>\n",
              "      <td>In this documentary, South African rapper Nast...</td>\n",
              "    </tr>\n",
              "    <tr>\n",
              "      <th>7785</th>\n",
              "      <td>s7786</td>\n",
              "      <td>TV Show</td>\n",
              "      <td>Zumbo's Just Desserts</td>\n",
              "      <td>NaN</td>\n",
              "      <td>Adriano Zumbo, Rachel Khoo</td>\n",
              "      <td>Australia</td>\n",
              "      <td>October 31, 2020</td>\n",
              "      <td>2019</td>\n",
              "      <td>TV-PG</td>\n",
              "      <td>1 Season</td>\n",
              "      <td>International TV Shows, Reality TV</td>\n",
              "      <td>Dessert wizard Adriano Zumbo looks for the nex...</td>\n",
              "    </tr>\n",
              "    <tr>\n",
              "      <th>7786</th>\n",
              "      <td>s7787</td>\n",
              "      <td>Movie</td>\n",
              "      <td>ZZ TOP: THAT LITTLE OL' BAND FROM TEXAS</td>\n",
              "      <td>Sam Dunn</td>\n",
              "      <td>NaN</td>\n",
              "      <td>United Kingdom, Canada, United States</td>\n",
              "      <td>March 1, 2020</td>\n",
              "      <td>2019</td>\n",
              "      <td>TV-MA</td>\n",
              "      <td>90 min</td>\n",
              "      <td>Documentaries, Music &amp; Musicals</td>\n",
              "      <td>This documentary delves into the mystique behi...</td>\n",
              "    </tr>\n",
              "  </tbody>\n",
              "</table>\n",
              "<p>7787 rows × 12 columns</p>\n",
              "</div>"
            ],
            "text/plain": [
              "     show_id  ...                                        description\n",
              "0         s1  ...  In a future where the elite inhabit an island ...\n",
              "1         s2  ...  After a devastating earthquake hits Mexico Cit...\n",
              "2         s3  ...  When an army recruit is found dead, his fellow...\n",
              "3         s4  ...  In a postapocalyptic world, rag-doll robots hi...\n",
              "4         s5  ...  A brilliant group of students become card-coun...\n",
              "...      ...  ...                                                ...\n",
              "7782   s7783  ...  When Lebanon's Civil War deprives Zozo of his ...\n",
              "7783   s7784  ...  A scrappy but poor boy worms his way into a ty...\n",
              "7784   s7785  ...  In this documentary, South African rapper Nast...\n",
              "7785   s7786  ...  Dessert wizard Adriano Zumbo looks for the nex...\n",
              "7786   s7787  ...  This documentary delves into the mystique behi...\n",
              "\n",
              "[7787 rows x 12 columns]"
            ]
          },
          "metadata": {
            "tags": []
          },
          "execution_count": 5
        }
      ]
    },
    {
      "cell_type": "code",
      "metadata": {
        "colab": {
          "base_uri": "https://localhost:8080/",
          "height": 683
        },
        "id": "4-rpRCWyWt3z",
        "outputId": "082c495e-48f7-48f6-c38c-503d36dcdfef"
      },
      "source": [
        "dados.head()"
      ],
      "execution_count": 6,
      "outputs": [
        {
          "output_type": "execute_result",
          "data": {
            "text/html": [
              "<div>\n",
              "<style scoped>\n",
              "    .dataframe tbody tr th:only-of-type {\n",
              "        vertical-align: middle;\n",
              "    }\n",
              "\n",
              "    .dataframe tbody tr th {\n",
              "        vertical-align: top;\n",
              "    }\n",
              "\n",
              "    .dataframe thead th {\n",
              "        text-align: right;\n",
              "    }\n",
              "</style>\n",
              "<table border=\"1\" class=\"dataframe\">\n",
              "  <thead>\n",
              "    <tr style=\"text-align: right;\">\n",
              "      <th></th>\n",
              "      <th>show_id</th>\n",
              "      <th>type</th>\n",
              "      <th>title</th>\n",
              "      <th>director</th>\n",
              "      <th>cast</th>\n",
              "      <th>country</th>\n",
              "      <th>date_added</th>\n",
              "      <th>release_year</th>\n",
              "      <th>rating</th>\n",
              "      <th>duration</th>\n",
              "      <th>listed_in</th>\n",
              "      <th>description</th>\n",
              "    </tr>\n",
              "  </thead>\n",
              "  <tbody>\n",
              "    <tr>\n",
              "      <th>0</th>\n",
              "      <td>s1</td>\n",
              "      <td>TV Show</td>\n",
              "      <td>3%</td>\n",
              "      <td>NaN</td>\n",
              "      <td>João Miguel, Bianca Comparato, Michel Gomes, R...</td>\n",
              "      <td>Brazil</td>\n",
              "      <td>August 14, 2020</td>\n",
              "      <td>2020</td>\n",
              "      <td>TV-MA</td>\n",
              "      <td>4 Seasons</td>\n",
              "      <td>International TV Shows, TV Dramas, TV Sci-Fi &amp;...</td>\n",
              "      <td>In a future where the elite inhabit an island ...</td>\n",
              "    </tr>\n",
              "    <tr>\n",
              "      <th>1</th>\n",
              "      <td>s2</td>\n",
              "      <td>Movie</td>\n",
              "      <td>7:19</td>\n",
              "      <td>Jorge Michel Grau</td>\n",
              "      <td>Demián Bichir, Héctor Bonilla, Oscar Serrano, ...</td>\n",
              "      <td>Mexico</td>\n",
              "      <td>December 23, 2016</td>\n",
              "      <td>2016</td>\n",
              "      <td>TV-MA</td>\n",
              "      <td>93 min</td>\n",
              "      <td>Dramas, International Movies</td>\n",
              "      <td>After a devastating earthquake hits Mexico Cit...</td>\n",
              "    </tr>\n",
              "    <tr>\n",
              "      <th>2</th>\n",
              "      <td>s3</td>\n",
              "      <td>Movie</td>\n",
              "      <td>23:59</td>\n",
              "      <td>Gilbert Chan</td>\n",
              "      <td>Tedd Chan, Stella Chung, Henley Hii, Lawrence ...</td>\n",
              "      <td>Singapore</td>\n",
              "      <td>December 20, 2018</td>\n",
              "      <td>2011</td>\n",
              "      <td>R</td>\n",
              "      <td>78 min</td>\n",
              "      <td>Horror Movies, International Movies</td>\n",
              "      <td>When an army recruit is found dead, his fellow...</td>\n",
              "    </tr>\n",
              "    <tr>\n",
              "      <th>3</th>\n",
              "      <td>s4</td>\n",
              "      <td>Movie</td>\n",
              "      <td>9</td>\n",
              "      <td>Shane Acker</td>\n",
              "      <td>Elijah Wood, John C. Reilly, Jennifer Connelly...</td>\n",
              "      <td>United States</td>\n",
              "      <td>November 16, 2017</td>\n",
              "      <td>2009</td>\n",
              "      <td>PG-13</td>\n",
              "      <td>80 min</td>\n",
              "      <td>Action &amp; Adventure, Independent Movies, Sci-Fi...</td>\n",
              "      <td>In a postapocalyptic world, rag-doll robots hi...</td>\n",
              "    </tr>\n",
              "    <tr>\n",
              "      <th>4</th>\n",
              "      <td>s5</td>\n",
              "      <td>Movie</td>\n",
              "      <td>21</td>\n",
              "      <td>Robert Luketic</td>\n",
              "      <td>Jim Sturgess, Kevin Spacey, Kate Bosworth, Aar...</td>\n",
              "      <td>United States</td>\n",
              "      <td>January 1, 2020</td>\n",
              "      <td>2008</td>\n",
              "      <td>PG-13</td>\n",
              "      <td>123 min</td>\n",
              "      <td>Dramas</td>\n",
              "      <td>A brilliant group of students become card-coun...</td>\n",
              "    </tr>\n",
              "  </tbody>\n",
              "</table>\n",
              "</div>"
            ],
            "text/plain": [
              "  show_id  ...                                        description\n",
              "0      s1  ...  In a future where the elite inhabit an island ...\n",
              "1      s2  ...  After a devastating earthquake hits Mexico Cit...\n",
              "2      s3  ...  When an army recruit is found dead, his fellow...\n",
              "3      s4  ...  In a postapocalyptic world, rag-doll robots hi...\n",
              "4      s5  ...  A brilliant group of students become card-coun...\n",
              "\n",
              "[5 rows x 12 columns]"
            ]
          },
          "metadata": {
            "tags": []
          },
          "execution_count": 6
        }
      ]
    },
    {
      "cell_type": "code",
      "metadata": {
        "id": "UORdxmYJW0Ts"
      },
      "source": [
        "from scipy.special import comb"
      ],
      "execution_count": 7,
      "outputs": []
    },
    {
      "cell_type": "code",
      "metadata": {
        "id": "HB6sBaCZXKIH"
      },
      "source": [
        "dados.columns = [\"show_id\", \"Modelo\", \"Título\", \"Diretor\", \"Elenco\", \"País\", \"Data_Adicionado\", \"Ano_de_lançamento\",\"Avaliação\", \"Duração\", \"Listados_em\", \"Descrição\"]"
      ],
      "execution_count": 10,
      "outputs": []
    },
    {
      "cell_type": "code",
      "metadata": {
        "colab": {
          "base_uri": "https://localhost:8080/",
          "height": 683
        },
        "id": "9HsAcsdHZ2rL",
        "outputId": "00ec2282-de7f-46f8-e3d7-8618e0fb0140"
      },
      "source": [
        "dados.head()"
      ],
      "execution_count": 11,
      "outputs": [
        {
          "output_type": "execute_result",
          "data": {
            "text/html": [
              "<div>\n",
              "<style scoped>\n",
              "    .dataframe tbody tr th:only-of-type {\n",
              "        vertical-align: middle;\n",
              "    }\n",
              "\n",
              "    .dataframe tbody tr th {\n",
              "        vertical-align: top;\n",
              "    }\n",
              "\n",
              "    .dataframe thead th {\n",
              "        text-align: right;\n",
              "    }\n",
              "</style>\n",
              "<table border=\"1\" class=\"dataframe\">\n",
              "  <thead>\n",
              "    <tr style=\"text-align: right;\">\n",
              "      <th></th>\n",
              "      <th>show_id</th>\n",
              "      <th>Modelo</th>\n",
              "      <th>Título</th>\n",
              "      <th>Diretor</th>\n",
              "      <th>Elenco</th>\n",
              "      <th>País</th>\n",
              "      <th>Data_Adicionado</th>\n",
              "      <th>Ano_de_lançamento</th>\n",
              "      <th>Avaliação</th>\n",
              "      <th>Duração</th>\n",
              "      <th>Listados_em</th>\n",
              "      <th>Descrição</th>\n",
              "    </tr>\n",
              "  </thead>\n",
              "  <tbody>\n",
              "    <tr>\n",
              "      <th>0</th>\n",
              "      <td>s1</td>\n",
              "      <td>TV Show</td>\n",
              "      <td>3%</td>\n",
              "      <td>NaN</td>\n",
              "      <td>João Miguel, Bianca Comparato, Michel Gomes, R...</td>\n",
              "      <td>Brazil</td>\n",
              "      <td>August 14, 2020</td>\n",
              "      <td>2020</td>\n",
              "      <td>TV-MA</td>\n",
              "      <td>4 Seasons</td>\n",
              "      <td>International TV Shows, TV Dramas, TV Sci-Fi &amp;...</td>\n",
              "      <td>In a future where the elite inhabit an island ...</td>\n",
              "    </tr>\n",
              "    <tr>\n",
              "      <th>1</th>\n",
              "      <td>s2</td>\n",
              "      <td>Movie</td>\n",
              "      <td>7:19</td>\n",
              "      <td>Jorge Michel Grau</td>\n",
              "      <td>Demián Bichir, Héctor Bonilla, Oscar Serrano, ...</td>\n",
              "      <td>Mexico</td>\n",
              "      <td>December 23, 2016</td>\n",
              "      <td>2016</td>\n",
              "      <td>TV-MA</td>\n",
              "      <td>93 min</td>\n",
              "      <td>Dramas, International Movies</td>\n",
              "      <td>After a devastating earthquake hits Mexico Cit...</td>\n",
              "    </tr>\n",
              "    <tr>\n",
              "      <th>2</th>\n",
              "      <td>s3</td>\n",
              "      <td>Movie</td>\n",
              "      <td>23:59</td>\n",
              "      <td>Gilbert Chan</td>\n",
              "      <td>Tedd Chan, Stella Chung, Henley Hii, Lawrence ...</td>\n",
              "      <td>Singapore</td>\n",
              "      <td>December 20, 2018</td>\n",
              "      <td>2011</td>\n",
              "      <td>R</td>\n",
              "      <td>78 min</td>\n",
              "      <td>Horror Movies, International Movies</td>\n",
              "      <td>When an army recruit is found dead, his fellow...</td>\n",
              "    </tr>\n",
              "    <tr>\n",
              "      <th>3</th>\n",
              "      <td>s4</td>\n",
              "      <td>Movie</td>\n",
              "      <td>9</td>\n",
              "      <td>Shane Acker</td>\n",
              "      <td>Elijah Wood, John C. Reilly, Jennifer Connelly...</td>\n",
              "      <td>United States</td>\n",
              "      <td>November 16, 2017</td>\n",
              "      <td>2009</td>\n",
              "      <td>PG-13</td>\n",
              "      <td>80 min</td>\n",
              "      <td>Action &amp; Adventure, Independent Movies, Sci-Fi...</td>\n",
              "      <td>In a postapocalyptic world, rag-doll robots hi...</td>\n",
              "    </tr>\n",
              "    <tr>\n",
              "      <th>4</th>\n",
              "      <td>s5</td>\n",
              "      <td>Movie</td>\n",
              "      <td>21</td>\n",
              "      <td>Robert Luketic</td>\n",
              "      <td>Jim Sturgess, Kevin Spacey, Kate Bosworth, Aar...</td>\n",
              "      <td>United States</td>\n",
              "      <td>January 1, 2020</td>\n",
              "      <td>2008</td>\n",
              "      <td>PG-13</td>\n",
              "      <td>123 min</td>\n",
              "      <td>Dramas</td>\n",
              "      <td>A brilliant group of students become card-coun...</td>\n",
              "    </tr>\n",
              "  </tbody>\n",
              "</table>\n",
              "</div>"
            ],
            "text/plain": [
              "  show_id  ...                                          Descrição\n",
              "0      s1  ...  In a future where the elite inhabit an island ...\n",
              "1      s2  ...  After a devastating earthquake hits Mexico Cit...\n",
              "2      s3  ...  When an army recruit is found dead, his fellow...\n",
              "3      s4  ...  In a postapocalyptic world, rag-doll robots hi...\n",
              "4      s5  ...  A brilliant group of students become card-coun...\n",
              "\n",
              "[5 rows x 12 columns]"
            ]
          },
          "metadata": {
            "tags": []
          },
          "execution_count": 11
        }
      ]
    },
    {
      "cell_type": "code",
      "metadata": {
        "colab": {
          "base_uri": "https://localhost:8080/"
        },
        "id": "Poag4ELSZ58T",
        "outputId": "fbfd2e97-30db-43c7-838b-7130c1166a95"
      },
      "source": [
        "dados[\"Título\"]"
      ],
      "execution_count": 14,
      "outputs": [
        {
          "output_type": "execute_result",
          "data": {
            "text/plain": [
              "0                                            3%\n",
              "1                                          7:19\n",
              "2                                         23:59\n",
              "3                                             9\n",
              "4                                            21\n",
              "                         ...                   \n",
              "7782                                       Zozo\n",
              "7783                                     Zubaan\n",
              "7784                          Zulu Man in Japan\n",
              "7785                      Zumbo's Just Desserts\n",
              "7786    ZZ TOP: THAT LITTLE OL' BAND FROM TEXAS\n",
              "Name: Título, Length: 7787, dtype: object"
            ]
          },
          "metadata": {
            "tags": []
          },
          "execution_count": 14
        }
      ]
    },
    {
      "cell_type": "code",
      "metadata": {
        "colab": {
          "base_uri": "https://localhost:8080/"
        },
        "id": "wi_A33woaMmV",
        "outputId": "ac3368d9-5f95-4647-c265-8f5c92124989"
      },
      "source": [
        "dados[\"Título\"].unique()"
      ],
      "execution_count": 18,
      "outputs": [
        {
          "output_type": "execute_result",
          "data": {
            "text/plain": [
              "array(['3%', '7:19', '23:59', ..., 'Zulu Man in Japan',\n",
              "       \"Zumbo's Just Desserts\", \"ZZ TOP: THAT LITTLE OL' BAND FROM TEXAS\"],\n",
              "      dtype=object)"
            ]
          },
          "metadata": {
            "tags": []
          },
          "execution_count": 18
        }
      ]
    },
    {
      "cell_type": "code",
      "metadata": {
        "colab": {
          "base_uri": "https://localhost:8080/"
        },
        "id": "3aRZBhs2asdD",
        "outputId": "356ad764-9d19-4322-8f07-7542c3308648"
      },
      "source": [
        "dados.País"
      ],
      "execution_count": 19,
      "outputs": [
        {
          "output_type": "execute_result",
          "data": {
            "text/plain": [
              "0                                                  Brazil\n",
              "1                                                  Mexico\n",
              "2                                               Singapore\n",
              "3                                           United States\n",
              "4                                           United States\n",
              "                              ...                        \n",
              "7782    Sweden, Czech Republic, United Kingdom, Denmar...\n",
              "7783                                                India\n",
              "7784                                                  NaN\n",
              "7785                                            Australia\n",
              "7786                United Kingdom, Canada, United States\n",
              "Name: País, Length: 7787, dtype: object"
            ]
          },
          "metadata": {
            "tags": []
          },
          "execution_count": 19
        }
      ]
    },
    {
      "cell_type": "code",
      "metadata": {
        "colab": {
          "base_uri": "https://localhost:8080/"
        },
        "id": "51RDqy4XbBmO",
        "outputId": "6c284c8c-a504-44c7-dc40-9040fd9ce324"
      },
      "source": [
        "dados[\"País\"].unique()"
      ],
      "execution_count": 22,
      "outputs": [
        {
          "output_type": "execute_result",
          "data": {
            "text/plain": [
              "array(['Brazil', 'Mexico', 'Singapore', 'United States', 'Turkey',\n",
              "       'Egypt', 'India', 'Poland, United States', 'Thailand', 'Nigeria',\n",
              "       nan, 'Norway, Iceland, United States', 'United Kingdom', 'Japan',\n",
              "       'South Korea', 'Italy', 'Canada', 'Indonesia', 'Romania', 'Spain',\n",
              "       'Iceland', 'South Africa, Nigeria', 'France',\n",
              "       'United States, South Africa', 'Portugal, Spain',\n",
              "       'Hong Kong, China, Singapore', 'United States, Germany',\n",
              "       'South Africa, China, United States', 'Argentina',\n",
              "       'United States, France, Serbia', 'Germany',\n",
              "       'Denmark, France, Poland', 'Poland', 'Kenya',\n",
              "       'New Zealand, United Kingdom', 'Pakistan', 'Australia',\n",
              "       'Australia, United States', 'Mexico, United States',\n",
              "       'United States, China', 'China, Hong Kong', 'Taiwan',\n",
              "       'United States, United Kingdom', 'France, South Korea, Japan',\n",
              "       'United States, Canada', 'United Kingdom, United States',\n",
              "       'Netherlands, Denmark, South Africa', 'Canada, United States',\n",
              "       'Denmark', 'Hong Kong', 'France, Netherlands, Singapore', 'China',\n",
              "       'Philippines', 'United Kingdom, Spain, United States',\n",
              "       'United Arab Emirates, United States', 'Netherlands',\n",
              "       'United Kingdom, Hong Kong', 'Iran, France',\n",
              "       'United States, United Kingdom, France',\n",
              "       'United Kingdom, France, Belgium, United States, China',\n",
              "       'Argentina, Brazil, France, Poland, Germany, Denmark',\n",
              "       'Israel, United States', 'United States, Mexico',\n",
              "       'Uruguay, Argentina, Spain', 'Singapore, France',\n",
              "       'United Kingdom, United States, France, Germany',\n",
              "       'Turkey, United States', 'Bulgaria, United States',\n",
              "       'Australia, France', 'Hong Kong, Iceland, United States',\n",
              "       'United Arab Emirates', 'United States, Chile',\n",
              "       'Germany, France, Russia', 'Mauritius, South Africa',\n",
              "       'United States, Japan', 'Lebanon', 'United States, Bulgaria',\n",
              "       'Colombia', 'Uruguay, Argentina', 'Egypt, Algeria',\n",
              "       'France, Egypt', 'Uruguay', 'Soviet Union, India',\n",
              "       'Sweden, United States', 'South Africa', 'Malaysia',\n",
              "       'Ireland, United Kingdom, United States', 'Spain, Italy',\n",
              "       'United Kingdom, France, Germany',\n",
              "       'United States, Germany, Canada', 'United States, India',\n",
              "       'Japan, United States', 'Denmark, United States',\n",
              "       'South Africa, United States', 'Canada, Luxembourg',\n",
              "       'Serbia, United States', 'Canada, Nigeria',\n",
              "       'Iceland, Sweden, Belgium', 'Ireland, Canada',\n",
              "       'United States, Italy', 'Finland', 'India, Germany',\n",
              "       'China, Spain, South Korea, United States', 'Spain, Belgium',\n",
              "       'United Kingdom, Canada, United States, Germany',\n",
              "       'Brazil, Netherlands, United States, Colombia, Austria, Germany',\n",
              "       'France, Canada, Belgium',\n",
              "       'India, United Kingdom, China, Canada, Japan, South Korea, United States',\n",
              "       'France, Belgium', 'Indonesia, South Korea, Singapore', 'Norway',\n",
              "       'Peru', 'France, Senegal, Belgium', 'Canada, France', 'Chile',\n",
              "       'Romania, France, Switzerland, Germany',\n",
              "       'Bulgaria, United States, Spain, Canada', 'Sweden, Netherlands',\n",
              "       'Ghana', 'France, United States, Mexico',\n",
              "       'Australia, United Kingdom, United Arab Emirates, Canada',\n",
              "       'Singapore, United States', 'Japan, Canada, United States',\n",
              "       'Saudi Arabia',\n",
              "       'Australia, Armenia, Japan, Jordan, Mexico, Mongolia, New Zealand, Philippines, South Africa, Sweden, United States, Uruguay',\n",
              "       'United States, France', 'Norway, Denmark, Netherlands, Sweden',\n",
              "       'Namibia', 'Mexico, Finland', 'United States, Australia', 'Russia',\n",
              "       'Australia, Canada', 'United Kingdom, Ireland', 'Belgium, France',\n",
              "       'New Zealand', 'Uruguay, Spain, Mexico', 'South Korea, China',\n",
              "       'United States, Canada, Indonesia, United Kingdom, China, Singapore',\n",
              "       'India, Iran', 'United States, France, Japan',\n",
              "       'United Kingdom, France', 'Turkey, India', 'Philippines, Qatar',\n",
              "       'Vietnam', 'Ireland, Luxembourg, Belgium',\n",
              "       'Saudi Arabia, Syria, Egypt, Lebanon, Kuwait',\n",
              "       'Russia, United States', 'United Kingdom, Russia, United States',\n",
              "       'Argentina, Spain', 'Germany, Jordan, Netherlands',\n",
              "       'Hong Kong, China', 'Argentina, United States',\n",
              "       'France, Belgium, Spain', 'Germany, United States',\n",
              "       'Denmark, Sweden, Israel, United States',\n",
              "       'Ireland, United Kingdom', 'United States, Iceland',\n",
              "       'United Arab Emirates, United Kingdom, India', 'Sweden',\n",
              "       'Norway, Germany, Sweden', 'Finland, France', 'Denmark, Spain',\n",
              "       'United Kingdom, Russia',\n",
              "       'United States, United Kingdom, Australia',\n",
              "       'India, United Kingdom', 'United States, Canada, Ireland',\n",
              "       'Canada, United Kingdom',\n",
              "       'United States, Israel, Italy, South Africa',\n",
              "       'India, United States', 'United Kingdom, China',\n",
              "       'Indonesia, Singapore', 'Netherlands, Denmark, France, Germany',\n",
              "       'South Korea, Japan',\n",
              "       'Philippines, Canada, United Kingdom, United States',\n",
              "       'France, Malta, United States', 'Kuwait',\n",
              "       'United Kingdom, Pakistan', 'Ireland', 'France, New Zealand',\n",
              "       'United Kingdom, United States, Australia',\n",
              "       'United Kingdom, Czech Republic, United States, Germany, Bahamas',\n",
              "       'United States, Australia, China',\n",
              "       'China, Germany, India, United States', 'Germany, Sri Lanka',\n",
              "       'United States, Sweden', 'Canada, United States, Cayman Islands',\n",
              "       'India, France', 'United Kingdom, Canada',\n",
              "       'United States, India, Bangladesh',\n",
              "       'United States, Canada, France',\n",
              "       'Taiwan, China, France, United States', 'Brazil, France, Germany',\n",
              "       'United States,', 'Turkey, France, Germany, Poland',\n",
              "       'Australia, New Zealand, United States',\n",
              "       'Germany, United States, Hong Kong, Singapore',\n",
              "       'France, Germany, Switzerland', 'Mexico, Argentina',\n",
              "       'Italy, United States, Argentina',\n",
              "       'Germany, France, Luxembourg, United Kingdom, United States',\n",
              "       'Canada, United States, United Kingdom',\n",
              "       'United Kingdom, Canada, Italy', 'Czech Republic, France',\n",
              "       'Zimbabwe', 'United Kingdom, France, Germany, Spain',\n",
              "       'Taiwan, Hong Kong, United States, China', 'China, United States',\n",
              "       'Canada, Brazil', 'United Kingdom, Australia', 'Hungary',\n",
              "       'Germany, Australia', 'United Kingdom, Poland, United States',\n",
              "       'Bulgaria', 'Philippines, United States', 'Finland, Germany',\n",
              "       'United States, Thailand',\n",
              "       'Spain, Belgium, Switzerland, United States, China, United Kingdom',\n",
              "       'Denmark, Zimbabwe', 'United Kingdom, South Africa',\n",
              "       'Finland, Sweden, Norway, Latvia, Germany',\n",
              "       'United Kingdom, India',\n",
              "       'South Africa, United States, New Zealand, Canada',\n",
              "       'France, Qatar', 'France, Algeria',\n",
              "       'United States, Italy, United Kingdom, Liechtenstein',\n",
              "       'Denmark, France, Belgium, Italy, Netherlands, United States, United Kingdom',\n",
              "       'United States, Australia, Mexico',\n",
              "       'United Kingdom, Czech Republic, Germany, United States',\n",
              "       'Russia, Poland, Serbia', 'France, China, Japan, United States',\n",
              "       'United States, South Korea, China', 'Germany, Belgium',\n",
              "       'Chile, Argentina', 'China, United States, United Kingdom',\n",
              "       'Pakistan, Norway, United States',\n",
              "       'United Kingdom, Japan, United States', 'Philippines, Singapore',\n",
              "       'United States, Canada, Belgium, United Kingdom', 'Venezuela',\n",
              "       'Argentina, Uruguay, Serbia', 'United States, Mexico, Colombia',\n",
              "       'Colombia, Peru, United Kingdom', 'Brazil, United States',\n",
              "       'Czech Republic, United States',\n",
              "       'Canada, France, Italy, Morocco, United States',\n",
              "       'Canada, Spain, France', 'Hong Kong, United States',\n",
              "       'France, Canada, China, Cambodia', 'United States, Indonesia',\n",
              "       'Spain, France', 'Spain, Mexico, France', 'Spain, France, Italy',\n",
              "       'Spain, France, United States', 'United States, France, Canada',\n",
              "       'Israel', 'Italy, France', 'United Kingdom, Canada, United States',\n",
              "       'Cambodia, United States', 'China, Japan',\n",
              "       'United Arab Emirates, United States, United Kingdom',\n",
              "       'Argentina, Italy', 'United Kingdom, Israel, Russia',\n",
              "       'Italy, Switzerland, Albania, Poland', 'Spain, Cuba',\n",
              "       'United States, Brazil', 'United States, France, Mexico',\n",
              "       'United States, Nicaragua', 'Austria, Germany',\n",
              "       'United Arab Emirates, Jordan, Lebanon',\n",
              "       'France, United Kingdom, United States',\n",
              "       'United Kingdom, United States, Spain, Germany, Greece, Canada',\n",
              "       'France, Belgium, Luxembourg, Cambodia,', 'Italy, Turkey',\n",
              "       'Brazil, France', 'India, Turkey', 'Kenya, United States',\n",
              "       'United States, South Korea', 'South Korea, United States',\n",
              "       'Italy, Canada, France', 'Thailand, United States',\n",
              "       'United Kingdom, Denmark, Canada, Croatia', 'Netherlands, Belgium',\n",
              "       'United Kingdom, Canada, United States, Cayman Islands',\n",
              "       'Italy, Germany', 'United States, France, United Kingdom, Japan',\n",
              "       'United States, United Kingdom, Denmark, Sweden',\n",
              "       'United States, United Kingdom, Italy',\n",
              "       'United States, France, Canada, Spain', 'Uruguay, Guatemala',\n",
              "       'Germany, Australia, France, China',\n",
              "       'United States, United Kingdom, Japan',\n",
              "       'United States, United Kingdom, Canada',\n",
              "       'Italy, Switzerland, France, Germany',\n",
              "       'Russia, United States, China', 'United States, Canada, Germany',\n",
              "       'United States, Czech Republic', 'Ireland, United States',\n",
              "       'United States, United Arab Emirates',\n",
              "       'France, Australia, Germany', 'Hong Kong, China, United States',\n",
              "       'Lebanon, United Arab Emirates, France, Switzerland, Germany',\n",
              "       'United States, South Korea, Japan', 'Romania, United States',\n",
              "       'West Germany', 'United States, Ireland', 'Chile, Italy',\n",
              "       'Ireland, United Kingdom, Italy, United States', 'Belgium',\n",
              "       'Poland,', 'Slovenia, Croatia, Germany, Czech Republic, Qatar',\n",
              "       'Canada, United Kingdom, Netherlands',\n",
              "       'United Kingdom, United States, France',\n",
              "       'Indonesia, United Kingdom', 'United States, Spain, Germany',\n",
              "       'India, Japan', 'Switzerland, France, Belgium, United States',\n",
              "       'China, South Korea, United States',\n",
              "       'United Kingdom, France, Belgium',\n",
              "       'Canada, Ireland, United States',\n",
              "       'United Kingdom, United States, Dominican Republic',\n",
              "       'United States, Senegal', 'Germany, United Kingdom, United States',\n",
              "       'United States, Canada, United Kingdom',\n",
              "       'Canada, United States, France', 'United Kingdom, Germany, Canada',\n",
              "       'Argentina, France', 'South Africa, Germany, Netherlands, France',\n",
              "       'Canada, United States, United Kingdom, France, Luxembourg',\n",
              "       'Finland, Germany, Belgium',\n",
              "       'United States, United Kingdom, Germany', 'Taiwan, China',\n",
              "       'Cambodia', 'Spain, Portugal', 'Ireland, United States, France',\n",
              "       'Jordan', 'Austria', 'Germany, United States, Canada',\n",
              "       'United Kingdom, Germany, Canada, United States',\n",
              "       'United States, France, Canada, Lebanon, Qatar',\n",
              "       'Indonesia, Netherlands',\n",
              "       'Netherlands, Belgium, United Kingdom, United States',\n",
              "       'China, United States, Australia',\n",
              "       'France, Belgium, China, United States', 'Spain, United Kingdom',\n",
              "       'United States, Chile, Israel', 'Bangladesh',\n",
              "       'United Kingdom, Norway, Denmark, Germany, Sweden',\n",
              "       'United States, Japan, Canada', 'Norway, Denmark, Sweden',\n",
              "       'China, India, Nepal', 'United States, Argentina',\n",
              "       'Mexico, United States, Spain, Colombia',\n",
              "       'Colombia, Mexico, United States',\n",
              "       'United Kingdom, Belgium, Sweden', 'Nigeria, United Kingdom',\n",
              "       'United Kingdom, South Korea', 'United States, Taiwan',\n",
              "       'Netherlands, Belgium, Germany, Jordan', 'France, Canada',\n",
              "       'United Kingdom, France, United States',\n",
              "       'Denmark, Singapore, Canada, United States', 'Denmark, China',\n",
              "       'Malaysia, Singapore, Hong Kong', 'Norway, United States',\n",
              "       'United States, Philippines', 'United States, Greece, Brazil',\n",
              "       'France, United States', 'South Korea, France',\n",
              "       'United States, Australia, Samoa, United Kingdom',\n",
              "       'Canada, South Africa', 'United Kingdom, Italy',\n",
              "       'Germany, United Kingdom', 'China, United Kingdom',\n",
              "       'Argentina, Chile, Peru', 'United States, Russia',\n",
              "       'Uruguay, Germany', 'Turkey, Azerbaijan',\n",
              "       'United States, China, Hong Kong',\n",
              "       'Canada, Germany, France, United States',\n",
              "       'Argentina, United States, Mexico',\n",
              "       'France, United Kingdom, India', 'China, Taiwan',\n",
              "       'Italy, United Kingdom, France', 'Poland, West Germany',\n",
              "       'Germany, United States, Sweden', 'Canada, Spain',\n",
              "       'United Kingdom, France, Belgium, United States', 'France, Japan',\n",
              "       'Netherlands, Germany, Italy, Canada', 'United States, Cambodia',\n",
              "       'United States, Greece', 'United States, China, Colombia',\n",
              "       'United States, Spain, Italy',\n",
              "       'Norway, United Kingdom, France, Ireland',\n",
              "       'United States, Bermuda, Ecuador', 'United Kingdom, Poland',\n",
              "       'China, Canada, United States', 'United States, Spain',\n",
              "       'India, Mexico', 'United Kingdom, West Germany',\n",
              "       'Pakistan, United States', 'Israel, Sweden, Germany, Netherlands',\n",
              "       'Chile, United States, France', 'France, Morocco',\n",
              "       'United Kingdom, Germany', 'Georgia, Germany, France',\n",
              "       'Switzerland, France', 'Turkey, South Korea', 'Italy, India',\n",
              "       'United States, Botswana', 'United States, Colombia, Mexico',\n",
              "       'Chile, Argentina, France, Spain, United States',\n",
              "       'Puerto Rico, United States, Colombia', 'United States, Nigeria',\n",
              "       'Germany, United States, France',\n",
              "       'Spain, Germany, Denmark, United States',\n",
              "       'United Kingdom, United States, Japan',\n",
              "       'Netherlands, United States',\n",
              "       'United States, India, South Korea, China',\n",
              "       'Denmark, Germany, Belgium, United Kingdom, France',\n",
              "       'Denmark, Germany, Belgium, United Kingdom, France, Sweden',\n",
              "       'France, Switzerland, Spain, United States, United Arab Emirates',\n",
              "       'Norway, Sweden', 'United States, Ireland, United Kingdom, India',\n",
              "       'United Kingdom, Singapore', 'Spain, Germany',\n",
              "       'Germany, Czech Republic',\n",
              "       'Denmark, Brazil, France, Portugal, Sweden',\n",
              "       'Brazil, India, China, United States', 'India, Germany, Austria',\n",
              "       'Italy, United States', 'Denmark, France, United States, Sweden',\n",
              "       'Australia, Iraq', 'China, Morocco, Hong Kong', 'Spain, Colombia',\n",
              "       'Australia, United Arab Emirates',\n",
              "       'Canada, United States, Germany', 'France, Belgium, Italy',\n",
              "       'United Kingdom, Thailand', 'Venezuela, Colombia',\n",
              "       'France, Luxembourg, Canada', 'India, Nepal', 'Mexico, Spain',\n",
              "       'Colombia, United States', 'Colombia, Mexico',\n",
              "       'France, Germany, Czech Republic, Belgium',\n",
              "       'Germany, China, United Kingdom', 'Canada, Hungary, United States',\n",
              "       'Pakistan, United Arab Emirates', 'France, United Kingdom',\n",
              "       'Spain, United Kingdom, United States', 'United Kingdom, Kenya',\n",
              "       'United States, Norway, Canada', 'Canada, United States, Ireland',\n",
              "       'Switzerland, Vatican City, Italy, Germany, France',\n",
              "       'Portugal, France, Poland, United States',\n",
              "       'France, Japan, United States', 'United States, New Zealand',\n",
              "       'United States, New Zealand, Japan',\n",
              "       'United States, Netherlands, Japan, France', 'India, Switzerland',\n",
              "       'Canada, India', 'Canada, Japan, United States',\n",
              "       'United States, Morocco', 'United States, Mexico, Spain, Malta',\n",
              "       'Norway, Denmark', 'South Korea, Canada, United States, China',\n",
              "       'Singapore, Japan, France',\n",
              "       'Canada, Mexico, Germany, South Africa',\n",
              "       'United Kingdom, United States, Canada',\n",
              "       'Germany, France, United States, Canada, United Kingdom',\n",
              "       'Peru, Germany, Norway', 'Singapore, Malaysia',\n",
              "       'United States, Uruguay', 'India, Canada',\n",
              "       'Ireland, Canada, United Kingdom, United States',\n",
              "       'United States, Germany, Australia', 'Senegal',\n",
              "       'Israel, Germany, France', 'Australia, France, Ireland',\n",
              "       'South Africa, Angola', 'Austria, Czech Republic',\n",
              "       'Australia, India', 'United States, United Kingdom, Canada, Japan',\n",
              "       'Sweden, United Kingdom, Finland', 'Hong Kong, Taiwan',\n",
              "       'United States, United Kingdom, Spain, South Korea',\n",
              "       'South Korea, China, United States', 'Guatemala', 'Ukraine',\n",
              "       'United States, United Kingdom, Canada, China',\n",
              "       'Italy, South Africa, West Germany, Australia, United States',\n",
              "       'United Kingdom, Finland, Germany',\n",
              "       'South Africa, United States, Germany',\n",
              "       'United States, Germany, United Kingdom, Australia',\n",
              "       'India, Soviet Union', 'Italy, France, Switzerland',\n",
              "       'Canada, France, United States', 'United States, Colombia',\n",
              "       'India, Malaysia', 'Switzerland, United States',\n",
              "       'Thailand, Canada, United States',\n",
              "       'China, Hong Kong, United States', 'United Kingdom, New Zealand',\n",
              "       'United Kingdom, France, Germany, United States',\n",
              "       'South Korea, Czech Republic',\n",
              "       'Czech Republic, United Kingdom, France',\n",
              "       'Australia, United Kingdom, Canada',\n",
              "       'Canada, United Kingdom, United States', 'United States, Hungary',\n",
              "       'Jamaica, United States', 'Switzerland',\n",
              "       'Australia, United Kingdom, United States, New Zealand, Italy, France',\n",
              "       'France, United States, Canada', 'Australia, United Kingdom',\n",
              "       'United States, Denmark',\n",
              "       'United Kingdom, France, Canada, Belgium, United States',\n",
              "       'Denmark, United Kingdom, Sweden', 'Belarus', 'Cyprus',\n",
              "       'Lebanon, United States, United Arab Emirates',\n",
              "       'United States, Hong Kong', 'United States, Kazakhstan',\n",
              "       'Argentina, France, United States, Germany, Qatar',\n",
              "       'United States, Germany, United Kingdom',\n",
              "       'United States, Germany, United Kingdom, Italy',\n",
              "       'United States, New Zealand, United Kingdom',\n",
              "       'Finland, United States', 'Spain, France, Uruguay',\n",
              "       'France, Belgium, United States', 'France, Canada, United States',\n",
              "       'Spain, Argentina', 'United Kingdom, India, United States',\n",
              "       'Chile, France',\n",
              "       'United States, United Kingdom, France, Germany, Japan',\n",
              "       'Canada, Norway', 'United States, Hungary, Ireland, Canada',\n",
              "       'United States, Canada, China', 'United Kingdom, Malawi',\n",
              "       'Ireland, Canada, Luxembourg, United States, United Kingdom, Philippines, India',\n",
              "       'United States, Czech Republic, United Kingdom',\n",
              "       'Ghana, United States', 'Israel, Germany', 'Spain, Mexico',\n",
              "       'Mexico, France', 'Brazil, United Kingdom',\n",
              "       'France, Belgium, Luxembourg, Romania, Canada, United States',\n",
              "       'Israel, Germany, Poland, Luxembourg, Belgium, France, United States',\n",
              "       'France, Germany', 'United States, Malta, France, United Kingdom',\n",
              "       'United Kingdom, United States, Germany, Denmark, Belgium, Japan',\n",
              "       'Austria, United States', 'Canada, Australia',\n",
              "       'Greece, United States',\n",
              "       'United Kingdom, France, Belgium, Canada, United States',\n",
              "       'Argentina, Chile', 'Czech Republic, Slovakia',\n",
              "       'United Kingdom, Germany, United States, France',\n",
              "       'United Kingdom, Lithuania', 'Egypt, France',\n",
              "       'Spain, France, Canada', 'United States, Greece, United Kingdom',\n",
              "       'United Kingdom, China, United States, India', 'Taiwan, Malaysia',\n",
              "       'United States, Sweden, Norway',\n",
              "       'United Kingdom, United States, Morocco',\n",
              "       'United States, United Kingdom, Morocco',\n",
              "       'United States, China, Canada', 'Spain, Canada, United States',\n",
              "       'Canada, Belgium', 'United States, India, United Arab Emirates',\n",
              "       'United Kingdom, Canada, France, United States',\n",
              "       'Spain, Thailand, United States', 'Canada, Germany, South Africa',\n",
              "       'India, Germany, France',\n",
              "       'United States, Israel, United Kingdom, Canada',\n",
              "       'United Kingdom, Hungary, Australia', 'Lebanon, France',\n",
              "       'Belgium, Ireland, Netherlands, Germany, Afghanistan',\n",
              "       'Chile, Peru', 'Paraguay, Argentina',\n",
              "       'United Kingdom, Italy, Israel, Peru, United States',\n",
              "       'Norway, Germany', 'France, Canada, Italy, United States, China',\n",
              "       'Netherlands, Germany, Denmark, United Kingdom', 'France, Lebanon',\n",
              "       'Ireland, United Kingdom, Greece, France, Netherlands',\n",
              "       'Denmark, Indonesia, Finland, Norway, United Kingdom, Israel, France, United States, Germany, Netherlands',\n",
              "       'New Zealand, United States', 'Argentina, Uruguay, Spain, France',\n",
              "       'United Kingdom, Germany, United States',\n",
              "       'United States, Australia, South Africa, United Kingdom',\n",
              "       'Italy, Belgium', 'United States, Germany, Mexico',\n",
              "       'Chile, Spain, Argentina, Germany', 'Germany, Italy',\n",
              "       'United Kingdom, Nigeria',\n",
              "       'Belgium, United Kingdom, United States', 'Australia, New Zealand',\n",
              "       'Spain, Switzerland', 'Indonesia, United States',\n",
              "       'Canada, South Korea, United States',\n",
              "       'France, Iran, United States', 'Croatia',\n",
              "       'Somalia, Kenya, Sudan, South Africa, United States',\n",
              "       'Ireland, France, Iceland, United States, Mexico, Belgium, United Kingdom, Hong Kong',\n",
              "       'Spain, United States', 'United States, Canada, Japan, Panama',\n",
              "       'United Kingdom, Spain, Belgium', 'Serbia, South Korea, Slovenia',\n",
              "       'Denmark, United Kingdom, South Africa, Sweden, Belgium',\n",
              "       'Germany, Canada, United States', 'Ireland, South Africa',\n",
              "       'Canada, Germany', 'Spain, France, Canada, United States',\n",
              "       'India, United Kingdom, Canada, United States',\n",
              "       'United States, Belgium, Canada',\n",
              "       'United States, France, Canada, Belgium',\n",
              "       'United Kingdom, Egypt, United States',\n",
              "       'United Kingdom, Germany, United Arab Emirates, New Zealand',\n",
              "       'United Kingdom, France, United States, Belgium, Luxembourg, China, Germany',\n",
              "       'United Kingdom, Spain, United States, Germany',\n",
              "       'United States, France, Italy, United Kingdom', 'Georgia',\n",
              "       'United States, United Kingdom, India',\n",
              "       'Ireland, Canada, United States, United Kingdom',\n",
              "       'New Zealand, United Kingdom, Australia', 'United States, Poland',\n",
              "       'United Arab Emirates, Romania',\n",
              "       'United Kingdom, Australia, Canada, United States',\n",
              "       'Mexico, Netherlands', 'Spain, Italy, Argentina',\n",
              "       'Germany, United States, Italy', 'United States, Venezuela',\n",
              "       'United Kingdom, Canada, Japan', 'Canada, Japan, Netherlands',\n",
              "       'United Kingdom, United States, Czech Republic',\n",
              "       'United Kingdom, China, United States',\n",
              "       'United Kingdom, Brazil, Germany',\n",
              "       'Thailand, China, United States',\n",
              "       'United Kingdom, Namibia, South Africa, Zimbabwe, United States',\n",
              "       'United Kingdom, South Africa, Australia, United States',\n",
              "       'Canada, United States, India, United Kingdom',\n",
              "       'United States, Brazil, South Korea, Mexico, Japan, Germany',\n",
              "       'France, Lebanon, United Kingdom',\n",
              "       'United Kingdom, Jordan, Qatar, Iran',\n",
              "       'Switzerland, United Kingdom, United States',\n",
              "       'Belgium, Netherlands',\n",
              "       'United Kingdom, Germany, France, United States',\n",
              "       'Romania, United Kingdom', 'Lebanon, Qatar',\n",
              "       'United Kingdom, India, Sweden', 'United Kingdom, Belgium',\n",
              "       'India, Pakistan', 'United Kingdom,',\n",
              "       'Saudi Arabia, Netherlands, Germany, Jordan, United Arab Emirates, United States',\n",
              "       'France, Brazil, Spain, Belgium',\n",
              "       'United States, Brazil, India, Uganda, China',\n",
              "       'United Kingdom, Ireland, United States',\n",
              "       'Lebanon, Canada, France', 'India, Australia',\n",
              "       'Austria, Iraq, United States', 'France, Norway, Lebanon, Belgium',\n",
              "       'United Kingdom, France, United States, Belgium',\n",
              "       'Saudi Arabia, United Arab Emirates',\n",
              "       'Peru, United States, United Kingdom',\n",
              "       'Germany, United States, United Kingdom, Canada',\n",
              "       'Uruguay, Argentina, Germany, Spain',\n",
              "       'France, Luxembourg, United States', 'United Kingdom, Spain',\n",
              "       'Canada, India, Thailand, United States, United Arab Emirates',\n",
              "       'Romania, Bulgaria, Hungary',\n",
              "       'United States, East Germany, West Germany',\n",
              "       'France, Netherlands, South Africa, Finland',\n",
              "       'United Kingdom, Ukraine, United States',\n",
              "       'Egypt, Austria, United States', 'Russia, Spain',\n",
              "       'Croatia, Slovenia, Serbia, Montenegro', 'Japan, Canada',\n",
              "       'United States, France, South Korea, Indonesia',\n",
              "       'United Arab Emirates, Jordan',\n",
              "       'Sweden, Czech Republic, United Kingdom, Denmark, Netherlands'],\n",
              "      dtype=object)"
            ]
          },
          "metadata": {
            "tags": []
          },
          "execution_count": 22
        }
      ]
    },
    {
      "cell_type": "code",
      "metadata": {
        "colab": {
          "base_uri": "https://localhost:8080/"
        },
        "id": "v4s9aOjobGK2",
        "outputId": "79507d00-f435-4cd0-f5c8-16b80f787618"
      },
      "source": [
        "dados[\"País\"].value_counts()"
      ],
      "execution_count": 26,
      "outputs": [
        {
          "output_type": "execute_result",
          "data": {
            "text/plain": [
              "United States                             2555\n",
              "India                                      923\n",
              "United Kingdom                             397\n",
              "Japan                                      226\n",
              "South Korea                                183\n",
              "                                          ... \n",
              "United Kingdom, United States, Japan         1\n",
              "Bulgaria, United States, Spain, Canada       1\n",
              "Germany, Czech Republic                      1\n",
              "Bulgaria                                     1\n",
              "Singapore, Japan, France                     1\n",
              "Name: País, Length: 681, dtype: int64"
            ]
          },
          "metadata": {
            "tags": []
          },
          "execution_count": 26
        }
      ]
    },
    {
      "cell_type": "code",
      "metadata": {
        "colab": {
          "base_uri": "https://localhost:8080/"
        },
        "id": "wRGWn6v8br2S",
        "outputId": "140b1bad-5615-41a4-e64a-2bc841e0e6e5"
      },
      "source": [
        "dados[\"Ano_de_lançamento\"].mean()"
      ],
      "execution_count": 30,
      "outputs": [
        {
          "output_type": "execute_result",
          "data": {
            "text/plain": [
              "2013.932579940927"
            ]
          },
          "metadata": {
            "tags": []
          },
          "execution_count": 30
        }
      ]
    },
    {
      "cell_type": "code",
      "metadata": {
        "colab": {
          "base_uri": "https://localhost:8080/"
        },
        "id": "ttz5uz6kb7zx",
        "outputId": "56d2e430-fa77-418b-effb-b9dedb641ac1"
      },
      "source": [
        "dados[\"Ano_de_lançamento\"]"
      ],
      "execution_count": 31,
      "outputs": [
        {
          "output_type": "execute_result",
          "data": {
            "text/plain": [
              "0       2020\n",
              "1       2016\n",
              "2       2011\n",
              "3       2009\n",
              "4       2008\n",
              "        ... \n",
              "7782    2005\n",
              "7783    2015\n",
              "7784    2019\n",
              "7785    2019\n",
              "7786    2019\n",
              "Name: Ano_de_lançamento, Length: 7787, dtype: int64"
            ]
          },
          "metadata": {
            "tags": []
          },
          "execution_count": 31
        }
      ]
    },
    {
      "cell_type": "code",
      "metadata": {
        "colab": {
          "base_uri": "https://localhost:8080/",
          "height": 282
        },
        "id": "ux6yKPr1cYqF",
        "outputId": "05cc4e2d-d3f3-4eff-a5bf-8254eca084d9"
      },
      "source": [
        "dados.Ano_de_lançamento.plot()"
      ],
      "execution_count": 32,
      "outputs": [
        {
          "output_type": "execute_result",
          "data": {
            "text/plain": [
              "<matplotlib.axes._subplots.AxesSubplot at 0x7ffae455ed50>"
            ]
          },
          "metadata": {
            "tags": []
          },
          "execution_count": 32
        },
        {
          "output_type": "display_data",
          "data": {
            "image/png": "[encoded data removed]",
            "text/plain": [
              "<Figure size 432x288 with 1 Axes>"
            ]
          },
          "metadata": {
            "tags": [],
            "needs_background": "light"
          }
        }
      ]
    },
    {
      "cell_type": "code",
      "metadata": {
        "colab": {
          "base_uri": "https://localhost:8080/",
          "height": 282
        },
        "id": "TZv827SecmH7",
        "outputId": "64ef3e1f-0a9e-4b80-a9c0-2156dd793b94"
      },
      "source": [
        "dados.Ano_de_lançamento.plot(kind='hist')"
      ],
      "execution_count": 33,
      "outputs": [
        {
          "output_type": "execute_result",
          "data": {
            "text/plain": [
              "<matplotlib.axes._subplots.AxesSubplot at 0x7ffae3fe8310>"
            ]
          },
          "metadata": {
            "tags": []
          },
          "execution_count": 33
        },
        {
          "output_type": "display_data",
          "data": {
            "image/png": "[encoded data removed]",
            "text/plain": [
              "<Figure size 432x288 with 1 Axes>"
            ]
          },
          "metadata": {
            "tags": [],
            "needs_background": "light"
          }
        }
      ]
    },
    {
      "cell_type": "code",
      "metadata": {
        "colab": {
          "base_uri": "https://localhost:8080/",
          "height": 451
        },
        "id": "g8CKMplYcx5C",
        "outputId": "bafbad08-a7a3-474c-8f31-046022aa2b97"
      },
      "source": [
        "dados.sample(3)"
      ],
      "execution_count": 34,
      "outputs": [
        {
          "output_type": "execute_result",
          "data": {
            "text/html": [
              "<div>\n",
              "<style scoped>\n",
              "    .dataframe tbody tr th:only-of-type {\n",
              "        vertical-align: middle;\n",
              "    }\n",
              "\n",
              "    .dataframe tbody tr th {\n",
              "        vertical-align: top;\n",
              "    }\n",
              "\n",
              "    .dataframe thead th {\n",
              "        text-align: right;\n",
              "    }\n",
              "</style>\n",
              "<table border=\"1\" class=\"dataframe\">\n",
              "  <thead>\n",
              "    <tr style=\"text-align: right;\">\n",
              "      <th></th>\n",
              "      <th>show_id</th>\n",
              "      <th>Modelo</th>\n",
              "      <th>Título</th>\n",
              "      <th>Diretor</th>\n",
              "      <th>Elenco</th>\n",
              "      <th>País</th>\n",
              "      <th>Data_Adicionado</th>\n",
              "      <th>Ano_de_lançamento</th>\n",
              "      <th>Avaliação</th>\n",
              "      <th>Duração</th>\n",
              "      <th>Listados_em</th>\n",
              "      <th>Descrição</th>\n",
              "    </tr>\n",
              "  </thead>\n",
              "  <tbody>\n",
              "    <tr>\n",
              "      <th>5652</th>\n",
              "      <td>s5653</td>\n",
              "      <td>Movie</td>\n",
              "      <td>Sky Ladder: The Art of Cai Guo-Qiang</td>\n",
              "      <td>Kevin MacDonald</td>\n",
              "      <td>Cai Guo-Qiang</td>\n",
              "      <td>United States</td>\n",
              "      <td>October 14, 2016</td>\n",
              "      <td>2016</td>\n",
              "      <td>TV-MA</td>\n",
              "      <td>80 min</td>\n",
              "      <td>Documentaries</td>\n",
              "      <td>Known for his spectacular pyrotechnic displays...</td>\n",
              "    </tr>\n",
              "    <tr>\n",
              "      <th>7351</th>\n",
              "      <td>s7352</td>\n",
              "      <td>Movie</td>\n",
              "      <td>Unknown</td>\n",
              "      <td>Jaume Collet-Serra</td>\n",
              "      <td>Liam Neeson, Diane Kruger, January Jones, Aida...</td>\n",
              "      <td>United Kingdom, Germany, France, United States</td>\n",
              "      <td>January 1, 2021</td>\n",
              "      <td>2011</td>\n",
              "      <td>PG-13</td>\n",
              "      <td>113 min</td>\n",
              "      <td>Action &amp; Adventure, Thrillers</td>\n",
              "      <td>Liam Neeson stars as a man who regains conscio...</td>\n",
              "    </tr>\n",
              "    <tr>\n",
              "      <th>3096</th>\n",
              "      <td>s3097</td>\n",
              "      <td>Movie</td>\n",
              "      <td>Jack and the Cuckoo-Clock Heart</td>\n",
              "      <td>Mathias Malzieu, Stéphane Berla</td>\n",
              "      <td>Orlando Seale, Samantha Barks, Harry Sadeghi, ...</td>\n",
              "      <td>France, Belgium</td>\n",
              "      <td>February 8, 2017</td>\n",
              "      <td>2013</td>\n",
              "      <td>PG</td>\n",
              "      <td>93 min</td>\n",
              "      <td>Children &amp; Family Movies, Music &amp; Musicals</td>\n",
              "      <td>Equipped with a mechanical heart and determine...</td>\n",
              "    </tr>\n",
              "  </tbody>\n",
              "</table>\n",
              "</div>"
            ],
            "text/plain": [
              "     show_id  ...                                          Descrição\n",
              "5652   s5653  ...  Known for his spectacular pyrotechnic displays...\n",
              "7351   s7352  ...  Liam Neeson stars as a man who regains conscio...\n",
              "3096   s3097  ...  Equipped with a mechanical heart and determine...\n",
              "\n",
              "[3 rows x 12 columns]"
            ]
          },
          "metadata": {
            "tags": []
          },
          "execution_count": 34
        }
      ]
    },
    {
      "cell_type": "code",
      "metadata": {
        "id": "8gS37B37dTRy"
      },
      "source": [
        "cnt_tmp = dados.groupby('Modelo')['Ano_de_lançamento'].value_counts().unstack().fillna(0).astype(int).T\r\n",
        "movie_count, tvshow_count = cnt_tmp['Movie'], cnt_tmp['TV Show']"
      ],
      "execution_count": 36,
      "outputs": []
    },
    {
      "cell_type": "code",
      "metadata": {
        "colab": {
          "base_uri": "https://localhost:8080/",
          "height": 450
        },
        "id": "kt-68cW0eCMW",
        "outputId": "6f8cb374-a505-45ff-dddf-338b33d6a7b0"
      },
      "source": [
        "cnt_tmp"
      ],
      "execution_count": 37,
      "outputs": [
        {
          "output_type": "execute_result",
          "data": {
            "text/html": [
              "<div>\n",
              "<style scoped>\n",
              "    .dataframe tbody tr th:only-of-type {\n",
              "        vertical-align: middle;\n",
              "    }\n",
              "\n",
              "    .dataframe tbody tr th {\n",
              "        vertical-align: top;\n",
              "    }\n",
              "\n",
              "    .dataframe thead th {\n",
              "        text-align: right;\n",
              "    }\n",
              "</style>\n",
              "<table border=\"1\" class=\"dataframe\">\n",
              "  <thead>\n",
              "    <tr style=\"text-align: right;\">\n",
              "      <th>Modelo</th>\n",
              "      <th>Movie</th>\n",
              "      <th>TV Show</th>\n",
              "    </tr>\n",
              "    <tr>\n",
              "      <th>Ano_de_lançamento</th>\n",
              "      <th></th>\n",
              "      <th></th>\n",
              "    </tr>\n",
              "  </thead>\n",
              "  <tbody>\n",
              "    <tr>\n",
              "      <th>1925</th>\n",
              "      <td>0</td>\n",
              "      <td>1</td>\n",
              "    </tr>\n",
              "    <tr>\n",
              "      <th>1942</th>\n",
              "      <td>2</td>\n",
              "      <td>0</td>\n",
              "    </tr>\n",
              "    <tr>\n",
              "      <th>1943</th>\n",
              "      <td>3</td>\n",
              "      <td>0</td>\n",
              "    </tr>\n",
              "    <tr>\n",
              "      <th>1944</th>\n",
              "      <td>3</td>\n",
              "      <td>0</td>\n",
              "    </tr>\n",
              "    <tr>\n",
              "      <th>1945</th>\n",
              "      <td>3</td>\n",
              "      <td>0</td>\n",
              "    </tr>\n",
              "    <tr>\n",
              "      <th>...</th>\n",
              "      <td>...</td>\n",
              "      <td>...</td>\n",
              "    </tr>\n",
              "    <tr>\n",
              "      <th>2017</th>\n",
              "      <td>744</td>\n",
              "      <td>268</td>\n",
              "    </tr>\n",
              "    <tr>\n",
              "      <th>2018</th>\n",
              "      <td>734</td>\n",
              "      <td>387</td>\n",
              "    </tr>\n",
              "    <tr>\n",
              "      <th>2019</th>\n",
              "      <td>582</td>\n",
              "      <td>414</td>\n",
              "    </tr>\n",
              "    <tr>\n",
              "      <th>2020</th>\n",
              "      <td>411</td>\n",
              "      <td>457</td>\n",
              "    </tr>\n",
              "    <tr>\n",
              "      <th>2021</th>\n",
              "      <td>12</td>\n",
              "      <td>19</td>\n",
              "    </tr>\n",
              "  </tbody>\n",
              "</table>\n",
              "<p>73 rows × 2 columns</p>\n",
              "</div>"
            ],
            "text/plain": [
              "Modelo             Movie  TV Show\n",
              "Ano_de_lançamento                \n",
              "1925                   0        1\n",
              "1942                   2        0\n",
              "1943                   3        0\n",
              "1944                   3        0\n",
              "1945                   3        0\n",
              "...                  ...      ...\n",
              "2017                 744      268\n",
              "2018                 734      387\n",
              "2019                 582      414\n",
              "2020                 411      457\n",
              "2021                  12       19\n",
              "\n",
              "[73 rows x 2 columns]"
            ]
          },
          "metadata": {
            "tags": []
          },
          "execution_count": 37
        }
      ]
    },
    {
      "cell_type": "code",
      "metadata": {
        "id": "CA_s11CdeaET"
      },
      "source": [
        "movie_count = dados[dados['Modelo']=='Movie']['Ano_de_lançamento'].value_counts().sort_index()"
      ],
      "execution_count": 41,
      "outputs": []
    },
    {
      "cell_type": "code",
      "metadata": {
        "colab": {
          "base_uri": "https://localhost:8080/"
        },
        "id": "3gaI8t01e18P",
        "outputId": "38bf670c-b54f-49a7-f8c9-ff963003ec23"
      },
      "source": [
        "movie_count"
      ],
      "execution_count": 42,
      "outputs": [
        {
          "output_type": "execute_result",
          "data": {
            "text/plain": [
              "1942      2\n",
              "1943      3\n",
              "1944      3\n",
              "1945      3\n",
              "1946      1\n",
              "       ... \n",
              "2017    744\n",
              "2018    734\n",
              "2019    582\n",
              "2020    411\n",
              "2021     12\n",
              "Name: Ano_de_lançamento, Length: 72, dtype: int64"
            ]
          },
          "metadata": {
            "tags": []
          },
          "execution_count": 42
        }
      ]
    },
    {
      "cell_type": "code",
      "metadata": {
        "id": "dyhjwQJlfE-G"
      },
      "source": [
        "tvshow_count = dados[dados['Modelo']=='TV Show']['Ano_de_lançamento'].value_counts().sort_index()"
      ],
      "execution_count": 44,
      "outputs": []
    },
    {
      "cell_type": "code",
      "metadata": {
        "colab": {
          "base_uri": "https://localhost:8080/"
        },
        "id": "loEm0VjrfRI5",
        "outputId": "b6fd8bd6-76b8-4433-c541-c10518cce7d9"
      },
      "source": [
        "tvshow_count"
      ],
      "execution_count": 45,
      "outputs": [
        {
          "output_type": "execute_result",
          "data": {
            "text/plain": [
              "1925      1\n",
              "1946      1\n",
              "1963      1\n",
              "1967      1\n",
              "1968      1\n",
              "1972      1\n",
              "1974      1\n",
              "1977      1\n",
              "1979      1\n",
              "1981      1\n",
              "1985      1\n",
              "1986      2\n",
              "1988      2\n",
              "1989      1\n",
              "1990      3\n",
              "1991      1\n",
              "1992      2\n",
              "1993      4\n",
              "1994      1\n",
              "1995      2\n",
              "1996      3\n",
              "1997      4\n",
              "1998      4\n",
              "1999      7\n",
              "2000      4\n",
              "2001      4\n",
              "2002      6\n",
              "2003      9\n",
              "2004      9\n",
              "2005     12\n",
              "2006     13\n",
              "2007     13\n",
              "2008     23\n",
              "2009     34\n",
              "2010     37\n",
              "2011     39\n",
              "2012     61\n",
              "2013     65\n",
              "2014     90\n",
              "2015    159\n",
              "2016    240\n",
              "2017    268\n",
              "2018    387\n",
              "2019    414\n",
              "2020    457\n",
              "2021     19\n",
              "Name: Ano_de_lançamento, dtype: int64"
            ]
          },
          "metadata": {
            "tags": []
          },
          "execution_count": 45
        }
      ]
    },
    {
      "cell_type": "code",
      "metadata": {
        "colab": {
          "base_uri": "https://localhost:8080/"
        },
        "id": "T2-OxZuFfW3Z",
        "outputId": "0e63a0a6-0340-4d50-eb1a-59124b19be23"
      },
      "source": [
        "print (\"Media\", dados[\"Ano_de_lançamento\"].mean())\r\n",
        "print (\"Mediana\", dados[\"Ano_de_lançamento\"].median())"
      ],
      "execution_count": 47,
      "outputs": [
        {
          "output_type": "stream",
          "text": [
            "Media 2013.932579940927\n",
            "Mediana 2017.0\n"
          ],
          "name": "stdout"
        }
      ]
    },
    {
      "cell_type": "code",
      "metadata": {
        "colab": {
          "base_uri": "https://localhost:8080/"
        },
        "id": "39f0OsBufxFy",
        "outputId": "b7d6a0e8-2ad4-4b03-83e5-aab1f9dd99ce"
      },
      "source": [
        "dados.Ano_de_lançamento.describe()"
      ],
      "execution_count": 48,
      "outputs": [
        {
          "output_type": "execute_result",
          "data": {
            "text/plain": [
              "count    7787.000000\n",
              "mean     2013.932580\n",
              "std         8.757395\n",
              "min      1925.000000\n",
              "25%      2013.000000\n",
              "50%      2017.000000\n",
              "75%      2018.000000\n",
              "max      2021.000000\n",
              "Name: Ano_de_lançamento, dtype: float64"
            ]
          },
          "metadata": {
            "tags": []
          },
          "execution_count": 48
        }
      ]
    },
    {
      "cell_type": "code",
      "metadata": {
        "colab": {
          "base_uri": "https://localhost:8080/",
          "height": 351
        },
        "id": "InDtZiROgN3T",
        "outputId": "95fecd80-d1a4-425a-ad18-c1ca3645e3d8"
      },
      "source": [
        "sns.boxplot(dados.Ano_de_lançamento)"
      ],
      "execution_count": 49,
      "outputs": [
        {
          "output_type": "stream",
          "text": [
            "/usr/local/lib/python3.7/dist-packages/seaborn/_decorators.py:43: FutureWarning: Pass the following variable as a keyword arg: x. From version 0.12, the only valid positional argument will be `data`, and passing other arguments without an explicit keyword will result in an error or misinterpretation.\n",
            "  FutureWarning\n"
          ],
          "name": "stderr"
        },
        {
          "output_type": "execute_result",
          "data": {
            "text/plain": [
              "<matplotlib.axes._subplots.AxesSubplot at 0x7ffae3ee7150>"
            ]
          },
          "metadata": {
            "tags": []
          },
          "execution_count": 49
        },
        {
          "output_type": "display_data",
          "data": {
            "image/png": "[encoded data removed]",
            "text/plain": [
              "<Figure size 432x288 with 1 Axes>"
            ]
          },
          "metadata": {
            "tags": [],
            "needs_background": "light"
          }
        }
      ]
    },
    {
      "cell_type": "code",
      "metadata": {
        "id": "cD7e-0ibhD5M"
      },
      "source": [
        "import numpy as np\r\n",
        "import pandas as pd\r\n",
        "import seaborn as sns\r\n",
        "import matplotlib.pyplot as plt"
      ],
      "execution_count": 50,
      "outputs": []
    },
    {
      "cell_type": "code",
      "metadata": {
        "id": "l2GnomHVhUNC"
      },
      "source": [
        "import matplotlib.pyplot as plt"
      ],
      "execution_count": 51,
      "outputs": []
    },
    {
      "cell_type": "code",
      "metadata": {
        "colab": {
          "base_uri": "https://localhost:8080/",
          "height": 355
        },
        "id": "G53EFdPihaKw",
        "outputId": "5ec16618-da42-467c-b7dc-c268af7f2a28"
      },
      "source": [
        "sns.distplot(dados.Ano_de_lançamento)"
      ],
      "execution_count": 52,
      "outputs": [
        {
          "output_type": "stream",
          "text": [
            "/usr/local/lib/python3.7/dist-packages/seaborn/distributions.py:2557: FutureWarning: `distplot` is a deprecated function and will be removed in a future version. Please adapt your code to use either `displot` (a figure-level function with similar flexibility) or `histplot` (an axes-level function for histograms).\n",
            "  warnings.warn(msg, FutureWarning)\n"
          ],
          "name": "stderr"
        },
        {
          "output_type": "execute_result",
          "data": {
            "text/plain": [
              "<matplotlib.axes._subplots.AxesSubplot at 0x7ffae3db6cd0>"
            ]
          },
          "metadata": {
            "tags": []
          },
          "execution_count": 52
        },
        {
          "output_type": "display_data",
          "data": {
            "image/png": "[encoded data removed]",
            "text/plain": [
              "<Figure size 432x288 with 1 Axes>"
            ]
          },
          "metadata": {
            "tags": [],
            "needs_background": "light"
          }
        }
      ]
    },
    {
      "cell_type": "code",
      "metadata": {
        "colab": {
          "base_uri": "https://localhost:8080/",
          "height": 391
        },
        "id": "bKgnspQJhhI8",
        "outputId": "25ea8dab-e5ae-450a-e2d9-c39f6d5bc187"
      },
      "source": [
        "sns.distplot(dados.Ano_de_lançamento)\r\n",
        "sns.distplot(dados.Ano_de_lançamento, kde=False)"
      ],
      "execution_count": 53,
      "outputs": [
        {
          "output_type": "stream",
          "text": [
            "/usr/local/lib/python3.7/dist-packages/seaborn/distributions.py:2557: FutureWarning: `distplot` is a deprecated function and will be removed in a future version. Please adapt your code to use either `displot` (a figure-level function with similar flexibility) or `histplot` (an axes-level function for histograms).\n",
            "  warnings.warn(msg, FutureWarning)\n",
            "/usr/local/lib/python3.7/dist-packages/seaborn/distributions.py:2557: FutureWarning: `distplot` is a deprecated function and will be removed in a future version. Please adapt your code to use either `displot` (a figure-level function with similar flexibility) or `histplot` (an axes-level function for histograms).\n",
            "  warnings.warn(msg, FutureWarning)\n"
          ],
          "name": "stderr"
        },
        {
          "output_type": "execute_result",
          "data": {
            "text/plain": [
              "<matplotlib.axes._subplots.AxesSubplot at 0x7ffae3cc6dd0>"
            ]
          },
          "metadata": {
            "tags": []
          },
          "execution_count": 53
        },
        {
          "output_type": "display_data",
          "data": {
            "image/png": "[encoded data removed]",
            "text/plain": [
              "<Figure size 432x288 with 1 Axes>"
            ]
          },
          "metadata": {
            "tags": [],
            "needs_background": "light"
          }
        }
      ]
    },
    {
      "cell_type": "code",
      "metadata": {
        "colab": {
          "base_uri": "https://localhost:8080/",
          "height": 355
        },
        "id": "n4Moc13nhxPm",
        "outputId": "7218db48-d575-4d16-8410-d6a528f3f395"
      },
      "source": [
        "\r\n",
        "sns.countplot(dados.Ano_de_lançamento)"
      ],
      "execution_count": 54,
      "outputs": [
        {
          "output_type": "stream",
          "text": [
            "/usr/local/lib/python3.7/dist-packages/seaborn/_decorators.py:43: FutureWarning: Pass the following variable as a keyword arg: x. From version 0.12, the only valid positional argument will be `data`, and passing other arguments without an explicit keyword will result in an error or misinterpretation.\n",
            "  FutureWarning\n"
          ],
          "name": "stderr"
        },
        {
          "output_type": "execute_result",
          "data": {
            "text/plain": [
              "<matplotlib.axes._subplots.AxesSubplot at 0x7ffae3b05c50>"
            ]
          },
          "metadata": {
            "tags": []
          },
          "execution_count": 54
        },
        {
          "output_type": "display_data",
          "data": {
            "image/png": "[encoded data removed]",
            "text/plain": [
              "<Figure size 432x288 with 1 Axes>"
            ]
          },
          "metadata": {
            "tags": [],
            "needs_background": "light"
          }
        }
      ]
    },
    {
      "cell_type": "code",
      "metadata": {
        "colab": {
          "base_uri": "https://localhost:8080/",
          "height": 391
        },
        "id": "hbhtYDf4h7hE",
        "outputId": "5662a27b-39b1-44ad-ac64-430c36f47e2e"
      },
      "source": [
        "sns.distplot(dados.Ano_de_lançamento)\r\n",
        "sns.distplot(dados.Ano_de_lançamento, kde=False)"
      ],
      "execution_count": 59,
      "outputs": [
        {
          "output_type": "stream",
          "text": [
            "/usr/local/lib/python3.7/dist-packages/seaborn/distributions.py:2557: FutureWarning: `distplot` is a deprecated function and will be removed in a future version. Please adapt your code to use either `displot` (a figure-level function with similar flexibility) or `histplot` (an axes-level function for histograms).\n",
            "  warnings.warn(msg, FutureWarning)\n",
            "/usr/local/lib/python3.7/dist-packages/seaborn/distributions.py:2557: FutureWarning: `distplot` is a deprecated function and will be removed in a future version. Please adapt your code to use either `displot` (a figure-level function with similar flexibility) or `histplot` (an axes-level function for histograms).\n",
            "  warnings.warn(msg, FutureWarning)\n"
          ],
          "name": "stderr"
        },
        {
          "output_type": "execute_result",
          "data": {
            "text/plain": [
              "<matplotlib.axes._subplots.AxesSubplot at 0x7ffae3549cd0>"
            ]
          },
          "metadata": {
            "tags": []
          },
          "execution_count": 59
        },
        {
          "output_type": "display_data",
          "data": {
            "image/png": "[encoded data removed]",
            "text/plain": [
              "<Figure size 432x288 with 1 Axes>"
            ]
          },
          "metadata": {
            "tags": [],
            "needs_background": "light"
          }
        }
      ]
    },
    {
      "cell_type": "code",
      "metadata": {
        "colab": {
          "base_uri": "https://localhost:8080/",
          "height": 423
        },
        "id": "v_1zCDJKiKon",
        "outputId": "de1a1980-f698-48fb-b296-bf31ed6273f6"
      },
      "source": [
        "fig, ax = plt.subplots(1, 1, figsize=(15, 7))\r\n",
        "ax.bar(movie_count.index, movie_count, label='Movie') # Label for legend\r\n",
        "ax.set_title('Netflix Movie/TV Show per Years') # Título\r\n",
        "ax.set_xlabel('Ano_de_lançamento') # Label\r\n",
        "ax.set_ylabel('# of Movies/Tv Shows')\r\n",
        "ax.legend() # Legend\r\n",
        "plt.show()"
      ],
      "execution_count": 63,
      "outputs": [
        {
          "output_type": "display_data",
          "data": {
            "image/png": "[encoded data removed]",
            "text/plain": [
              "<Figure size 1080x504 with 1 Axes>"
            ]
          },
          "metadata": {
            "tags": [],
            "needs_background": "light"
          }
        }
      ]
    },
    {
      "cell_type": "code",
      "metadata": {
        "colab": {
          "base_uri": "https://localhost:8080/",
          "height": 342
        },
        "id": "dQHrHupu5iEm",
        "outputId": "455d3614-ab1d-4187-a08e-4251523a3581"
      },
      "source": [
        "fig = plt.figure(figsize=(5, 5))\r\n",
        "ax = fig.add_subplot(111)\r\n",
        "ax.text(0.5, 0.5, s='Default')"
      ],
      "execution_count": 64,
      "outputs": [
        {
          "output_type": "execute_result",
          "data": {
            "text/plain": [
              "Text(0.5, 0.5, 'Default')"
            ]
          },
          "metadata": {
            "tags": []
          },
          "execution_count": 64
        },
        {
          "output_type": "display_data",
          "data": {
            "image/png": "[encoded data removed]",
            "text/plain": [
              "<Figure size 360x360 with 1 Axes>"
            ]
          },
          "metadata": {
            "tags": [],
            "needs_background": "light"
          }
        }
      ]
    },
    {
      "cell_type": "code",
      "metadata": {
        "id": "IDRIMDe_7GNT"
      },
      "source": [
        "for spine in ['top', 'bottom', 'left', 'right']:\r\n",
        "    ax.spines[spine].set_visible(False)\r\n",
        "    \r\n",
        "ax.set_xticks([])\r\n",
        "ax.set_yticks([])\r\n",
        "plt.show()"
      ],
      "execution_count": 66,
      "outputs": []
    },
    {
      "cell_type": "code",
      "metadata": {
        "colab": {
          "base_uri": "https://localhost:8080/",
          "height": 324
        },
        "id": "ZJqjpqJa7cUr",
        "outputId": "2e2b5b05-548d-4af4-cbf6-449431603192"
      },
      "source": [
        "fig = plt.figure(figsize=(5, 5))\r\n",
        "ax = fig.add_subplot(111)"
      ],
      "execution_count": 69,
      "outputs": [
        {
          "output_type": "display_data",
          "data": {
            "image/png": "[encoded data removed]",
            "text/plain": [
              "<Figure size 360x360 with 1 Axes>"
            ]
          },
          "metadata": {
            "tags": [],
            "needs_background": "light"
          }
        }
      ]
    },
    {
      "cell_type": "code",
      "metadata": {
        "id": "KP8lOFbN7iKg"
      },
      "source": [
        "for idx, size in enumerate( ['xx-small', 'x-small', 'small', 'medium', 'large', 'x-large', 'xx-large'], 1):\r\n",
        "    ax.text(0.5, 1-0.12*idx, size,\r\n",
        "           size=size)"
      ],
      "execution_count": 70,
      "outputs": []
    },
    {
      "cell_type": "code",
      "metadata": {
        "id": "hZzo7Ep68Gy9"
      },
      "source": [
        "for spine in ['top', 'bottom', 'left', 'right']:\r\n",
        "    ax.spines[spine].set_visible(False)"
      ],
      "execution_count": 72,
      "outputs": []
    },
    {
      "cell_type": "code",
      "metadata": {
        "id": "afQM9B-A8J_Q"
      },
      "source": [
        "ax.set_xticks([])\r\n",
        "ax.set_yticks([])\r\n",
        "plt.show()"
      ],
      "execution_count": 73,
      "outputs": []
    },
    {
      "cell_type": "code",
      "metadata": {
        "colab": {
          "base_uri": "https://localhost:8080/",
          "height": 324
        },
        "id": "eI2u1GVY8QL_",
        "outputId": "7cdfc752-f9ef-419f-eedb-51eda2d91a69"
      },
      "source": [
        "fig = plt.figure(figsize=(5, 5))\r\n",
        "ax = fig.add_subplot(111)"
      ],
      "execution_count": 74,
      "outputs": [
        {
          "output_type": "display_data",
          "data": {
            "image/png": "[encoded data removed]",
            "text/plain": [
              "<Figure size 360x360 with 1 Axes>"
            ]
          },
          "metadata": {
            "tags": [],
            "needs_background": "light"
          }
        }
      ]
    },
    {
      "cell_type": "code",
      "metadata": {
        "colab": {
          "base_uri": "https://localhost:8080/",
          "height": 324
        },
        "id": "DYC6105v8YkZ",
        "outputId": "ce2d57fb-f46a-46a3-8865-f0ec314201de"
      },
      "source": [
        "fig = plt.figure(figsize=(5, 5))\r\n",
        "ax = fig.add_subplot(111)\r\n",
        "\r\n",
        "for idx, size in enumerate( ['xx-small', 'x-small', 'small', 'medium', 'large', 'x-large', 'xx-large'], 1):\r\n",
        "    ax.text(0.5, 1-0.12*idx, size,\r\n",
        "           size=size)"
      ],
      "execution_count": 81,
      "outputs": [
        {
          "output_type": "display_data",
          "data": {
            "image/png": "[encoded data removed]",
            "text/plain": [
              "<Figure size 360x360 with 1 Axes>"
            ]
          },
          "metadata": {
            "tags": [],
            "needs_background": "light"
          }
        }
      ]
    },
    {
      "cell_type": "code",
      "metadata": {
        "colab": {
          "base_uri": "https://localhost:8080/",
          "height": 303
        },
        "id": "3CALuH6W9EUR",
        "outputId": "95608ae4-cf84-4269-d1e9-70bb371b0f62"
      },
      "source": [
        "fig = plt.figure(figsize=(5, 5))\r\n",
        "ax = fig.add_subplot(111)\r\n",
        "\r\n",
        "for idx, weight in enumerate(['light', 'normal', 'medium', 'semibold', 'bold', 'heavy', 'black'], 1):\r\n",
        "    ax.text(0.5, 1-0.12*idx, weight,\r\n",
        "           weight=weight)\r\n",
        "\r\n",
        "\r\n",
        "for spine in ['top', 'bottom', 'left', 'right']:\r\n",
        "    ax.spines[spine].set_visible(False)\r\n",
        "    \r\n",
        "ax.set_xticks([])\r\n",
        "ax.set_yticks([])\r\n",
        "plt.show()"
      ],
      "execution_count": 79,
      "outputs": [
        {
          "output_type": "display_data",
          "data": {
            "image/png": "[encoded data removed]",
            "text/plain": [
              "<Figure size 360x360 with 1 Axes>"
            ]
          },
          "metadata": {
            "tags": []
          }
        }
      ]
    },
    {
      "cell_type": "code",
      "metadata": {
        "colab": {
          "base_uri": "https://localhost:8080/",
          "height": 321
        },
        "id": "OqdA1ZkW8hXu",
        "outputId": "84b90d40-662d-4586-e596-7a261c530cf5"
      },
      "source": [
        "fig = plt.figure(figsize=(5, 5))\r\n",
        "ax = fig.add_subplot(111)\r\n",
        "\r\n",
        "for idx, family in enumerate(['serif', 'sans-serif', 'cursive', 'fantasy', 'monospace'], 1):\r\n",
        "    ax.text(0.5, 1-0.15*idx, family,\r\n",
        "           family=family)\r\n",
        "\r\n",
        "for spine in ['top', 'bottom', 'left', 'right']:\r\n",
        "    ax.spines[spine].set_visible(False)\r\n",
        "    \r\n",
        "ax.set_xticks([])\r\n",
        "ax.set_yticks([])\r\n",
        "plt.show()"
      ],
      "execution_count": 78,
      "outputs": [
        {
          "output_type": "stream",
          "text": [
            "findfont: Font family ['cursive'] not found. Falling back to DejaVu Sans.\n"
          ],
          "name": "stderr"
        },
        {
          "output_type": "display_data",
          "data": {
            "image/png": "[encoded data removed]",
            "text/plain": [
              "<Figure size 360x360 with 1 Axes>"
            ]
          },
          "metadata": {
            "tags": []
          }
        }
      ]
    },
    {
      "cell_type": "code",
      "metadata": {
        "colab": {
          "base_uri": "https://localhost:8080/",
          "height": 303
        },
        "id": "UjMS5hSM8lao",
        "outputId": "dff8e993-e01a-4240-b538-b668fd6b5d9f"
      },
      "source": [
        "fig = plt.figure(figsize=(5, 5))\r\n",
        "ax = fig.add_subplot(111)\r\n",
        "\r\n",
        "for idx, style in enumerate(['normal', 'italic', 'oblique'], 1):\r\n",
        "    ax.text(0.5, 1-0.15*idx, style,\r\n",
        "           style=style)\r\n",
        "\r\n",
        "for spine in ['top', 'bottom', 'left', 'right']:\r\n",
        "    ax.spines[spine].set_visible(False)\r\n",
        "    \r\n",
        "ax.set_xticks([])\r\n",
        "ax.set_yticks([])\r\n",
        "plt.show()"
      ],
      "execution_count": 83,
      "outputs": [
        {
          "output_type": "display_data",
          "data": {
            "image/png": "[encoded data removed]",
            "text/plain": [
              "<Figure size 360x360 with 1 Axes>"
            ]
          },
          "metadata": {
            "tags": []
          }
        }
      ]
    },
    {
      "cell_type": "markdown",
      "metadata": {
        "id": "5BoMm7mh-Cf2"
      },
      "source": [
        "Conjunto de dados "
      ]
    },
    {
      "cell_type": "code",
      "metadata": {
        "colab": {
          "base_uri": "https://localhost:8080/"
        },
        "id": "DaBxjpOU9gMP",
        "outputId": "cabcb430-d514-4ff1-d263-c616c78bdf92"
      },
      "source": [
        "dados.shape"
      ],
      "execution_count": 84,
      "outputs": [
        {
          "output_type": "execute_result",
          "data": {
            "text/plain": [
              "(7787, 12)"
            ]
          },
          "metadata": {
            "tags": []
          },
          "execution_count": 84
        }
      ]
    },
    {
      "cell_type": "markdown",
      "metadata": {
        "id": "uadNElzR-lkL"
      },
      "source": [
        "Verificando os valores nulos e ausentes"
      ]
    },
    {
      "cell_type": "code",
      "metadata": {
        "colab": {
          "base_uri": "https://localhost:8080/"
        },
        "id": "8SGRtYsM98FY",
        "outputId": "a518193e-afae-4b4f-d3c4-a9b462c5af51"
      },
      "source": [
        "dados.isnull().sum()"
      ],
      "execution_count": 86,
      "outputs": [
        {
          "output_type": "execute_result",
          "data": {
            "text/plain": [
              "show_id                 0\n",
              "Modelo                  0\n",
              "Título                  0\n",
              "Diretor              2389\n",
              "Elenco                718\n",
              "País                  507\n",
              "Data_Adicionado        10\n",
              "Ano_de_lançamento       0\n",
              "Avaliação               7\n",
              "Duração                 0\n",
              "Listados_em             0\n",
              "Descrição               0\n",
              "dtype: int64"
            ]
          },
          "metadata": {
            "tags": []
          },
          "execution_count": 86
        }
      ]
    },
    {
      "cell_type": "markdown",
      "metadata": {
        "id": "vltb5vWw_ER7"
      },
      "source": [
        "Comparação de programas de TV e filmes\r\n"
      ]
    },
    {
      "cell_type": "code",
      "metadata": {
        "colab": {
          "base_uri": "https://localhost:8080/",
          "height": 32
        },
        "id": "ZxHAbZxI-pu4",
        "outputId": "9cd0529c-3b40-4271-8cc9-0d5e90d8f9c6"
      },
      "source": [
        "dados_df = pd.DataFrame()\r\n",
        "dados_df"
      ],
      "execution_count": 99,
      "outputs": [
        {
          "output_type": "execute_result",
          "data": {
            "text/html": [
              "<div>\n",
              "<style scoped>\n",
              "    .dataframe tbody tr th:only-of-type {\n",
              "        vertical-align: middle;\n",
              "    }\n",
              "\n",
              "    .dataframe tbody tr th {\n",
              "        vertical-align: top;\n",
              "    }\n",
              "\n",
              "    .dataframe thead th {\n",
              "        text-align: right;\n",
              "    }\n",
              "</style>\n",
              "<table border=\"1\" class=\"dataframe\">\n",
              "  <thead>\n",
              "    <tr style=\"text-align: right;\">\n",
              "      <th></th>\n",
              "    </tr>\n",
              "  </thead>\n",
              "  <tbody>\n",
              "  </tbody>\n",
              "</table>\n",
              "</div>"
            ],
            "text/plain": [
              "Empty DataFrame\n",
              "Columns: []\n",
              "Index: []"
            ]
          },
          "metadata": {
            "tags": []
          },
          "execution_count": 99
        }
      ]
    },
    {
      "cell_type": "code",
      "metadata": {
        "id": "QkQUwocq_JpO"
      },
      "source": [
        "movies_count = dados[dados.Modelo == \"Movie\"]\r\n",
        "tvshows_count = dados[dados[\"Modelo\"] == \"TV Show\"]"
      ],
      "execution_count": 115,
      "outputs": []
    },
    {
      "cell_type": "code",
      "metadata": {
        "colab": {
          "base_uri": "https://localhost:8080/",
          "height": 515
        },
        "id": "KHxJjRadBUvD",
        "outputId": "98b49748-1701-4a21-f897-ea95485144cd"
      },
      "source": [
        "plt.figure(figsize=(10,8))\r\n",
        "sns.set_style(\"white\")\r\n",
        "sns.countplot(x=\"Modelo\", data=dados, palette=\"viridis\")"
      ],
      "execution_count": 117,
      "outputs": [
        {
          "output_type": "execute_result",
          "data": {
            "text/plain": [
              "<matplotlib.axes._subplots.AxesSubplot at 0x7ffae31ef2d0>"
            ]
          },
          "metadata": {
            "tags": []
          },
          "execution_count": 117
        },
        {
          "output_type": "display_data",
          "data": {
            "image/png": "[encoded data removed]",
            "text/plain": [
              "<Figure size 720x576 with 1 Axes>"
            ]
          },
          "metadata": {
            "tags": []
          }
        }
      ]
    },
    {
      "cell_type": "code",
      "metadata": {
        "colab": {
          "base_uri": "https://localhost:8080/",
          "height": 1000
        },
        "id": "S_AY6aZ2Dqm4",
        "outputId": "344fd381-9f62-4510-9092-029438c7ef8a"
      },
      "source": [
        "dados"
      ],
      "execution_count": 118,
      "outputs": [
        {
          "output_type": "execute_result",
          "data": {
            "text/html": [
              "<div>\n",
              "<style scoped>\n",
              "    .dataframe tbody tr th:only-of-type {\n",
              "        vertical-align: middle;\n",
              "    }\n",
              "\n",
              "    .dataframe tbody tr th {\n",
              "        vertical-align: top;\n",
              "    }\n",
              "\n",
              "    .dataframe thead th {\n",
              "        text-align: right;\n",
              "    }\n",
              "</style>\n",
              "<table border=\"1\" class=\"dataframe\">\n",
              "  <thead>\n",
              "    <tr style=\"text-align: right;\">\n",
              "      <th></th>\n",
              "      <th>show_id</th>\n",
              "      <th>Modelo</th>\n",
              "      <th>Título</th>\n",
              "      <th>Diretor</th>\n",
              "      <th>Elenco</th>\n",
              "      <th>País</th>\n",
              "      <th>Data_Adicionado</th>\n",
              "      <th>Ano_de_lançamento</th>\n",
              "      <th>Avaliação</th>\n",
              "      <th>Duração</th>\n",
              "      <th>Listados_em</th>\n",
              "      <th>Descrição</th>\n",
              "    </tr>\n",
              "  </thead>\n",
              "  <tbody>\n",
              "    <tr>\n",
              "      <th>0</th>\n",
              "      <td>s1</td>\n",
              "      <td>TV Show</td>\n",
              "      <td>3%</td>\n",
              "      <td>NaN</td>\n",
              "      <td>João Miguel, Bianca Comparato, Michel Gomes, R...</td>\n",
              "      <td>Brazil</td>\n",
              "      <td>August 14, 2020</td>\n",
              "      <td>2020</td>\n",
              "      <td>TV-MA</td>\n",
              "      <td>4 Seasons</td>\n",
              "      <td>International TV Shows, TV Dramas, TV Sci-Fi &amp;...</td>\n",
              "      <td>In a future where the elite inhabit an island ...</td>\n",
              "    </tr>\n",
              "    <tr>\n",
              "      <th>1</th>\n",
              "      <td>s2</td>\n",
              "      <td>Movie</td>\n",
              "      <td>7:19</td>\n",
              "      <td>Jorge Michel Grau</td>\n",
              "      <td>Demián Bichir, Héctor Bonilla, Oscar Serrano, ...</td>\n",
              "      <td>Mexico</td>\n",
              "      <td>December 23, 2016</td>\n",
              "      <td>2016</td>\n",
              "      <td>TV-MA</td>\n",
              "      <td>93 min</td>\n",
              "      <td>Dramas, International Movies</td>\n",
              "      <td>After a devastating earthquake hits Mexico Cit...</td>\n",
              "    </tr>\n",
              "    <tr>\n",
              "      <th>2</th>\n",
              "      <td>s3</td>\n",
              "      <td>Movie</td>\n",
              "      <td>23:59</td>\n",
              "      <td>Gilbert Chan</td>\n",
              "      <td>Tedd Chan, Stella Chung, Henley Hii, Lawrence ...</td>\n",
              "      <td>Singapore</td>\n",
              "      <td>December 20, 2018</td>\n",
              "      <td>2011</td>\n",
              "      <td>R</td>\n",
              "      <td>78 min</td>\n",
              "      <td>Horror Movies, International Movies</td>\n",
              "      <td>When an army recruit is found dead, his fellow...</td>\n",
              "    </tr>\n",
              "    <tr>\n",
              "      <th>3</th>\n",
              "      <td>s4</td>\n",
              "      <td>Movie</td>\n",
              "      <td>9</td>\n",
              "      <td>Shane Acker</td>\n",
              "      <td>Elijah Wood, John C. Reilly, Jennifer Connelly...</td>\n",
              "      <td>United States</td>\n",
              "      <td>November 16, 2017</td>\n",
              "      <td>2009</td>\n",
              "      <td>PG-13</td>\n",
              "      <td>80 min</td>\n",
              "      <td>Action &amp; Adventure, Independent Movies, Sci-Fi...</td>\n",
              "      <td>In a postapocalyptic world, rag-doll robots hi...</td>\n",
              "    </tr>\n",
              "    <tr>\n",
              "      <th>4</th>\n",
              "      <td>s5</td>\n",
              "      <td>Movie</td>\n",
              "      <td>21</td>\n",
              "      <td>Robert Luketic</td>\n",
              "      <td>Jim Sturgess, Kevin Spacey, Kate Bosworth, Aar...</td>\n",
              "      <td>United States</td>\n",
              "      <td>January 1, 2020</td>\n",
              "      <td>2008</td>\n",
              "      <td>PG-13</td>\n",
              "      <td>123 min</td>\n",
              "      <td>Dramas</td>\n",
              "      <td>A brilliant group of students become card-coun...</td>\n",
              "    </tr>\n",
              "    <tr>\n",
              "      <th>...</th>\n",
              "      <td>...</td>\n",
              "      <td>...</td>\n",
              "      <td>...</td>\n",
              "      <td>...</td>\n",
              "      <td>...</td>\n",
              "      <td>...</td>\n",
              "      <td>...</td>\n",
              "      <td>...</td>\n",
              "      <td>...</td>\n",
              "      <td>...</td>\n",
              "      <td>...</td>\n",
              "      <td>...</td>\n",
              "    </tr>\n",
              "    <tr>\n",
              "      <th>7782</th>\n",
              "      <td>s7783</td>\n",
              "      <td>Movie</td>\n",
              "      <td>Zozo</td>\n",
              "      <td>Josef Fares</td>\n",
              "      <td>Imad Creidi, Antoinette Turk, Elias Gergi, Car...</td>\n",
              "      <td>Sweden, Czech Republic, United Kingdom, Denmar...</td>\n",
              "      <td>October 19, 2020</td>\n",
              "      <td>2005</td>\n",
              "      <td>TV-MA</td>\n",
              "      <td>99 min</td>\n",
              "      <td>Dramas, International Movies</td>\n",
              "      <td>When Lebanon's Civil War deprives Zozo of his ...</td>\n",
              "    </tr>\n",
              "    <tr>\n",
              "      <th>7783</th>\n",
              "      <td>s7784</td>\n",
              "      <td>Movie</td>\n",
              "      <td>Zubaan</td>\n",
              "      <td>Mozez Singh</td>\n",
              "      <td>Vicky Kaushal, Sarah-Jane Dias, Raaghav Chanan...</td>\n",
              "      <td>India</td>\n",
              "      <td>March 2, 2019</td>\n",
              "      <td>2015</td>\n",
              "      <td>TV-14</td>\n",
              "      <td>111 min</td>\n",
              "      <td>Dramas, International Movies, Music &amp; Musicals</td>\n",
              "      <td>A scrappy but poor boy worms his way into a ty...</td>\n",
              "    </tr>\n",
              "    <tr>\n",
              "      <th>7784</th>\n",
              "      <td>s7785</td>\n",
              "      <td>Movie</td>\n",
              "      <td>Zulu Man in Japan</td>\n",
              "      <td>NaN</td>\n",
              "      <td>Nasty C</td>\n",
              "      <td>NaN</td>\n",
              "      <td>September 25, 2020</td>\n",
              "      <td>2019</td>\n",
              "      <td>TV-MA</td>\n",
              "      <td>44 min</td>\n",
              "      <td>Documentaries, International Movies, Music &amp; M...</td>\n",
              "      <td>In this documentary, South African rapper Nast...</td>\n",
              "    </tr>\n",
              "    <tr>\n",
              "      <th>7785</th>\n",
              "      <td>s7786</td>\n",
              "      <td>TV Show</td>\n",
              "      <td>Zumbo's Just Desserts</td>\n",
              "      <td>NaN</td>\n",
              "      <td>Adriano Zumbo, Rachel Khoo</td>\n",
              "      <td>Australia</td>\n",
              "      <td>October 31, 2020</td>\n",
              "      <td>2019</td>\n",
              "      <td>TV-PG</td>\n",
              "      <td>1 Season</td>\n",
              "      <td>International TV Shows, Reality TV</td>\n",
              "      <td>Dessert wizard Adriano Zumbo looks for the nex...</td>\n",
              "    </tr>\n",
              "    <tr>\n",
              "      <th>7786</th>\n",
              "      <td>s7787</td>\n",
              "      <td>Movie</td>\n",
              "      <td>ZZ TOP: THAT LITTLE OL' BAND FROM TEXAS</td>\n",
              "      <td>Sam Dunn</td>\n",
              "      <td>NaN</td>\n",
              "      <td>United Kingdom, Canada, United States</td>\n",
              "      <td>March 1, 2020</td>\n",
              "      <td>2019</td>\n",
              "      <td>TV-MA</td>\n",
              "      <td>90 min</td>\n",
              "      <td>Documentaries, Music &amp; Musicals</td>\n",
              "      <td>This documentary delves into the mystique behi...</td>\n",
              "    </tr>\n",
              "  </tbody>\n",
              "</table>\n",
              "<p>7787 rows × 12 columns</p>\n",
              "</div>"
            ],
            "text/plain": [
              "     show_id  ...                                          Descrição\n",
              "0         s1  ...  In a future where the elite inhabit an island ...\n",
              "1         s2  ...  After a devastating earthquake hits Mexico Cit...\n",
              "2         s3  ...  When an army recruit is found dead, his fellow...\n",
              "3         s4  ...  In a postapocalyptic world, rag-doll robots hi...\n",
              "4         s5  ...  A brilliant group of students become card-coun...\n",
              "...      ...  ...                                                ...\n",
              "7782   s7783  ...  When Lebanon's Civil War deprives Zozo of his ...\n",
              "7783   s7784  ...  A scrappy but poor boy worms his way into a ty...\n",
              "7784   s7785  ...  In this documentary, South African rapper Nast...\n",
              "7785   s7786  ...  Dessert wizard Adriano Zumbo looks for the nex...\n",
              "7786   s7787  ...  This documentary delves into the mystique behi...\n",
              "\n",
              "[7787 rows x 12 columns]"
            ]
          },
          "metadata": {
            "tags": []
          },
          "execution_count": 118
        }
      ]
    },
    {
      "cell_type": "code",
      "metadata": {
        "colab": {
          "base_uri": "https://localhost:8080/"
        },
        "id": "A_3PZMfwDrv5",
        "outputId": "ecca61db-8ae0-487d-e7af-a0a4cde3f581"
      },
      "source": [
        "dados_counts = dados.País.value_counts()\r\n",
        "dados_counts"
      ],
      "execution_count": 125,
      "outputs": [
        {
          "output_type": "execute_result",
          "data": {
            "text/plain": [
              "United States                             2555\n",
              "India                                      923\n",
              "United Kingdom                             397\n",
              "Japan                                      226\n",
              "South Korea                                183\n",
              "                                          ... \n",
              "United Kingdom, United States, Japan         1\n",
              "Bulgaria, United States, Spain, Canada       1\n",
              "Germany, Czech Republic                      1\n",
              "Bulgaria                                     1\n",
              "Singapore, Japan, France                     1\n",
              "Name: País, Length: 681, dtype: int64"
            ]
          },
          "metadata": {
            "tags": []
          },
          "execution_count": 125
        }
      ]
    },
    {
      "cell_type": "code",
      "metadata": {
        "id": "gP71VxqtFSvL"
      },
      "source": [
        "dados_diretor = dados.dropna(subset=[\"Diretor\"])"
      ],
      "execution_count": 132,
      "outputs": []
    },
    {
      "cell_type": "code",
      "metadata": {
        "colab": {
          "base_uri": "https://localhost:8080/",
          "height": 1000
        },
        "id": "pX_210JjGLTt",
        "outputId": "a42edaac-893f-4c58-b556-615bc39365e8"
      },
      "source": [
        "dados_diretor"
      ],
      "execution_count": 133,
      "outputs": [
        {
          "output_type": "execute_result",
          "data": {
            "text/html": [
              "<div>\n",
              "<style scoped>\n",
              "    .dataframe tbody tr th:only-of-type {\n",
              "        vertical-align: middle;\n",
              "    }\n",
              "\n",
              "    .dataframe tbody tr th {\n",
              "        vertical-align: top;\n",
              "    }\n",
              "\n",
              "    .dataframe thead th {\n",
              "        text-align: right;\n",
              "    }\n",
              "</style>\n",
              "<table border=\"1\" class=\"dataframe\">\n",
              "  <thead>\n",
              "    <tr style=\"text-align: right;\">\n",
              "      <th></th>\n",
              "      <th>show_id</th>\n",
              "      <th>Modelo</th>\n",
              "      <th>Título</th>\n",
              "      <th>Diretor</th>\n",
              "      <th>Elenco</th>\n",
              "      <th>País</th>\n",
              "      <th>Data_Adicionado</th>\n",
              "      <th>Ano_de_lançamento</th>\n",
              "      <th>Avaliação</th>\n",
              "      <th>Duração</th>\n",
              "      <th>Listados_em</th>\n",
              "      <th>Descrição</th>\n",
              "    </tr>\n",
              "  </thead>\n",
              "  <tbody>\n",
              "    <tr>\n",
              "      <th>1</th>\n",
              "      <td>s2</td>\n",
              "      <td>Movie</td>\n",
              "      <td>7:19</td>\n",
              "      <td>Jorge Michel Grau</td>\n",
              "      <td>Demián Bichir, Héctor Bonilla, Oscar Serrano, ...</td>\n",
              "      <td>Mexico</td>\n",
              "      <td>December 23, 2016</td>\n",
              "      <td>2016</td>\n",
              "      <td>TV-MA</td>\n",
              "      <td>93 min</td>\n",
              "      <td>Dramas, International Movies</td>\n",
              "      <td>After a devastating earthquake hits Mexico Cit...</td>\n",
              "    </tr>\n",
              "    <tr>\n",
              "      <th>2</th>\n",
              "      <td>s3</td>\n",
              "      <td>Movie</td>\n",
              "      <td>23:59</td>\n",
              "      <td>Gilbert Chan</td>\n",
              "      <td>Tedd Chan, Stella Chung, Henley Hii, Lawrence ...</td>\n",
              "      <td>Singapore</td>\n",
              "      <td>December 20, 2018</td>\n",
              "      <td>2011</td>\n",
              "      <td>R</td>\n",
              "      <td>78 min</td>\n",
              "      <td>Horror Movies, International Movies</td>\n",
              "      <td>When an army recruit is found dead, his fellow...</td>\n",
              "    </tr>\n",
              "    <tr>\n",
              "      <th>3</th>\n",
              "      <td>s4</td>\n",
              "      <td>Movie</td>\n",
              "      <td>9</td>\n",
              "      <td>Shane Acker</td>\n",
              "      <td>Elijah Wood, John C. Reilly, Jennifer Connelly...</td>\n",
              "      <td>United States</td>\n",
              "      <td>November 16, 2017</td>\n",
              "      <td>2009</td>\n",
              "      <td>PG-13</td>\n",
              "      <td>80 min</td>\n",
              "      <td>Action &amp; Adventure, Independent Movies, Sci-Fi...</td>\n",
              "      <td>In a postapocalyptic world, rag-doll robots hi...</td>\n",
              "    </tr>\n",
              "    <tr>\n",
              "      <th>4</th>\n",
              "      <td>s5</td>\n",
              "      <td>Movie</td>\n",
              "      <td>21</td>\n",
              "      <td>Robert Luketic</td>\n",
              "      <td>Jim Sturgess, Kevin Spacey, Kate Bosworth, Aar...</td>\n",
              "      <td>United States</td>\n",
              "      <td>January 1, 2020</td>\n",
              "      <td>2008</td>\n",
              "      <td>PG-13</td>\n",
              "      <td>123 min</td>\n",
              "      <td>Dramas</td>\n",
              "      <td>A brilliant group of students become card-coun...</td>\n",
              "    </tr>\n",
              "    <tr>\n",
              "      <th>5</th>\n",
              "      <td>s6</td>\n",
              "      <td>TV Show</td>\n",
              "      <td>46</td>\n",
              "      <td>Serdar Akar</td>\n",
              "      <td>Erdal Beşikçioğlu, Yasemin Allen, Melis Birkan...</td>\n",
              "      <td>Turkey</td>\n",
              "      <td>July 1, 2017</td>\n",
              "      <td>2016</td>\n",
              "      <td>TV-MA</td>\n",
              "      <td>1 Season</td>\n",
              "      <td>International TV Shows, TV Dramas, TV Mysteries</td>\n",
              "      <td>A genetics professor experiments with a treatm...</td>\n",
              "    </tr>\n",
              "    <tr>\n",
              "      <th>...</th>\n",
              "      <td>...</td>\n",
              "      <td>...</td>\n",
              "      <td>...</td>\n",
              "      <td>...</td>\n",
              "      <td>...</td>\n",
              "      <td>...</td>\n",
              "      <td>...</td>\n",
              "      <td>...</td>\n",
              "      <td>...</td>\n",
              "      <td>...</td>\n",
              "      <td>...</td>\n",
              "      <td>...</td>\n",
              "    </tr>\n",
              "    <tr>\n",
              "      <th>7780</th>\n",
              "      <td>s7781</td>\n",
              "      <td>Movie</td>\n",
              "      <td>Zoo</td>\n",
              "      <td>Shlok Sharma</td>\n",
              "      <td>Shashank Arora, Shweta Tripathi, Rahul Kumar, ...</td>\n",
              "      <td>India</td>\n",
              "      <td>July 1, 2018</td>\n",
              "      <td>2018</td>\n",
              "      <td>TV-MA</td>\n",
              "      <td>94 min</td>\n",
              "      <td>Dramas, Independent Movies, International Movies</td>\n",
              "      <td>A drug dealer starts having doubts about his t...</td>\n",
              "    </tr>\n",
              "    <tr>\n",
              "      <th>7781</th>\n",
              "      <td>s7782</td>\n",
              "      <td>Movie</td>\n",
              "      <td>Zoom</td>\n",
              "      <td>Peter Hewitt</td>\n",
              "      <td>Tim Allen, Courteney Cox, Chevy Chase, Kate Ma...</td>\n",
              "      <td>United States</td>\n",
              "      <td>January 11, 2020</td>\n",
              "      <td>2006</td>\n",
              "      <td>PG</td>\n",
              "      <td>88 min</td>\n",
              "      <td>Children &amp; Family Movies, Comedies</td>\n",
              "      <td>Dragged from civilian life, a former superhero...</td>\n",
              "    </tr>\n",
              "    <tr>\n",
              "      <th>7782</th>\n",
              "      <td>s7783</td>\n",
              "      <td>Movie</td>\n",
              "      <td>Zozo</td>\n",
              "      <td>Josef Fares</td>\n",
              "      <td>Imad Creidi, Antoinette Turk, Elias Gergi, Car...</td>\n",
              "      <td>Sweden, Czech Republic, United Kingdom, Denmar...</td>\n",
              "      <td>October 19, 2020</td>\n",
              "      <td>2005</td>\n",
              "      <td>TV-MA</td>\n",
              "      <td>99 min</td>\n",
              "      <td>Dramas, International Movies</td>\n",
              "      <td>When Lebanon's Civil War deprives Zozo of his ...</td>\n",
              "    </tr>\n",
              "    <tr>\n",
              "      <th>7783</th>\n",
              "      <td>s7784</td>\n",
              "      <td>Movie</td>\n",
              "      <td>Zubaan</td>\n",
              "      <td>Mozez Singh</td>\n",
              "      <td>Vicky Kaushal, Sarah-Jane Dias, Raaghav Chanan...</td>\n",
              "      <td>India</td>\n",
              "      <td>March 2, 2019</td>\n",
              "      <td>2015</td>\n",
              "      <td>TV-14</td>\n",
              "      <td>111 min</td>\n",
              "      <td>Dramas, International Movies, Music &amp; Musicals</td>\n",
              "      <td>A scrappy but poor boy worms his way into a ty...</td>\n",
              "    </tr>\n",
              "    <tr>\n",
              "      <th>7786</th>\n",
              "      <td>s7787</td>\n",
              "      <td>Movie</td>\n",
              "      <td>ZZ TOP: THAT LITTLE OL' BAND FROM TEXAS</td>\n",
              "      <td>Sam Dunn</td>\n",
              "      <td>NaN</td>\n",
              "      <td>United Kingdom, Canada, United States</td>\n",
              "      <td>March 1, 2020</td>\n",
              "      <td>2019</td>\n",
              "      <td>TV-MA</td>\n",
              "      <td>90 min</td>\n",
              "      <td>Documentaries, Music &amp; Musicals</td>\n",
              "      <td>This documentary delves into the mystique behi...</td>\n",
              "    </tr>\n",
              "  </tbody>\n",
              "</table>\n",
              "<p>5398 rows × 12 columns</p>\n",
              "</div>"
            ],
            "text/plain": [
              "     show_id  ...                                          Descrição\n",
              "1         s2  ...  After a devastating earthquake hits Mexico Cit...\n",
              "2         s3  ...  When an army recruit is found dead, his fellow...\n",
              "3         s4  ...  In a postapocalyptic world, rag-doll robots hi...\n",
              "4         s5  ...  A brilliant group of students become card-coun...\n",
              "5         s6  ...  A genetics professor experiments with a treatm...\n",
              "...      ...  ...                                                ...\n",
              "7780   s7781  ...  A drug dealer starts having doubts about his t...\n",
              "7781   s7782  ...  Dragged from civilian life, a former superhero...\n",
              "7782   s7783  ...  When Lebanon's Civil War deprives Zozo of his ...\n",
              "7783   s7784  ...  A scrappy but poor boy worms his way into a ty...\n",
              "7786   s7787  ...  This documentary delves into the mystique behi...\n",
              "\n",
              "[5398 rows x 12 columns]"
            ]
          },
          "metadata": {
            "tags": []
          },
          "execution_count": 133
        }
      ]
    },
    {
      "cell_type": "code",
      "metadata": {
        "colab": {
          "base_uri": "https://localhost:8080/"
        },
        "id": "LzyCmNQmGQJB",
        "outputId": "20044bf0-41e0-4f07-cea3-616d8882d6e4"
      },
      "source": [
        "dados_diretor_counts = dados_diretor.Diretor.value_counts()\r\n",
        "dados_diretor_counts"
      ],
      "execution_count": 135,
      "outputs": [
        {
          "output_type": "execute_result",
          "data": {
            "text/plain": [
              "Raúl Campos, Jan Suter    18\n",
              "Marcus Raboy              16\n",
              "Jay Karas                 14\n",
              "Cathy Garcia-Molina       13\n",
              "Youssef Chahine           12\n",
              "                          ..\n",
              "Felipe Cano                1\n",
              "Erik White                 1\n",
              "Roman Gackowski            1\n",
              "Ramesh Talwar              1\n",
              "Richard Sears              1\n",
              "Name: Diretor, Length: 4049, dtype: int64"
            ]
          },
          "metadata": {
            "tags": []
          },
          "execution_count": 135
        }
      ]
    },
    {
      "cell_type": "markdown",
      "metadata": {
        "id": "Ypx6MRK6NUK3"
      },
      "source": [
        "Conteúdo anual lançado na netflix\r\n"
      ]
    },
    {
      "cell_type": "code",
      "metadata": {
        "colab": {
          "base_uri": "https://localhost:8080/"
        },
        "id": "qToFxTC0LFNQ",
        "outputId": "6b3aab7e-d8cb-4316-fdbd-a6c125ec773f"
      },
      "source": [
        "conteudo_por_ano = dados.Ano_de_lançamento.value_counts().index[:20]\r\n",
        "conteudo_por_ano"
      ],
      "execution_count": 141,
      "outputs": [
        {
          "output_type": "execute_result",
          "data": {
            "text/plain": [
              "Int64Index([2018, 2017, 2019, 2016, 2020, 2015, 2014, 2013, 2012, 2010, 2011,\n",
              "            2009, 2008, 2006, 2007, 2005, 2004, 2003, 2002, 2001],\n",
              "           dtype='int64')"
            ]
          },
          "metadata": {
            "tags": []
          },
          "execution_count": 141
        }
      ]
    },
    {
      "cell_type": "code",
      "metadata": {
        "colab": {
          "base_uri": "https://localhost:8080/",
          "height": 625
        },
        "id": "56h5BcsfLvgG",
        "outputId": "99585088-7f08-4801-af3c-8573efa98df7"
      },
      "source": [
        "plt.figure(figsize=(12,10))\r\n",
        "sns.set_style(\"dark\")\r\n",
        "sns.countplot(data=dados, y=\"Ano_de_lançamento\", order=conteudo_por_ano, palette=\"viridis\")"
      ],
      "execution_count": 142,
      "outputs": [
        {
          "output_type": "execute_result",
          "data": {
            "text/plain": [
              "<matplotlib.axes._subplots.AxesSubplot at 0x7ffae34d59d0>"
            ]
          },
          "metadata": {
            "tags": []
          },
          "execution_count": 142
        },
        {
          "output_type": "display_data",
          "data": {
            "image/png": "[encoded data removed]",
            "text/plain": [
              "<Figure size 864x720 with 1 Axes>"
            ]
          },
          "metadata": {
            "tags": []
          }
        }
      ]
    },
    {
      "cell_type": "markdown",
      "metadata": {
        "id": "0A7kZ7YgOntf"
      },
      "source": [
        "Convertendo todos os valores da string de duração em inteiros"
      ]
    },
    {
      "cell_type": "code",
      "metadata": {
        "colab": {
          "base_uri": "https://localhost:8080/"
        },
        "id": "nB9mVOTcOQ35",
        "outputId": "7fa79868-7d0a-43f3-a42e-fbe05f044113"
      },
      "source": [
        "movies_count['Duração']=movies_count['Duração'].str.replace(' min','')\r\n",
        "movies_count['Duração']=movies_count['Duração'].astype(str).astype(int)\r\n",
        "movies_count['Duração']"
      ],
      "execution_count": 146,
      "outputs": [
        {
          "output_type": "stream",
          "text": [
            "/usr/local/lib/python3.7/dist-packages/ipykernel_launcher.py:1: SettingWithCopyWarning:\n",
            "\n",
            "\n",
            "A value is trying to be set on a copy of a slice from a DataFrame.\n",
            "Try using .loc[row_indexer,col_indexer] = value instead\n",
            "\n",
            "See the caveats in the documentation: https://pandas.pydata.org/pandas-docs/stable/user_guide/indexing.html#returning-a-view-versus-a-copy\n",
            "\n",
            "/usr/local/lib/python3.7/dist-packages/ipykernel_launcher.py:2: SettingWithCopyWarning:\n",
            "\n",
            "\n",
            "A value is trying to be set on a copy of a slice from a DataFrame.\n",
            "Try using .loc[row_indexer,col_indexer] = value instead\n",
            "\n",
            "See the caveats in the documentation: https://pandas.pydata.org/pandas-docs/stable/user_guide/indexing.html#returning-a-view-versus-a-copy\n",
            "\n"
          ],
          "name": "stderr"
        },
        {
          "output_type": "execute_result",
          "data": {
            "text/plain": [
              "1        93\n",
              "2        78\n",
              "3        80\n",
              "4       123\n",
              "6        95\n",
              "       ... \n",
              "7781     88\n",
              "7782     99\n",
              "7783    111\n",
              "7784     44\n",
              "7786     90\n",
              "Name: Duração, Length: 5377, dtype: int64"
            ]
          },
          "metadata": {
            "tags": []
          },
          "execution_count": 146
        }
      ]
    },
    {
      "cell_type": "code",
      "metadata": {
        "colab": {
          "base_uri": "https://localhost:8080/",
          "height": 515
        },
        "id": "_FdsFYzaO-re",
        "outputId": "34dbf275-5245-4338-f9a7-83ac8c2f9690"
      },
      "source": [
        "plt.figure(figsize=(10,8))\r\n",
        "sns.set_style(\"darkgrid\")\r\n",
        "sns.kdeplot(data=movies_count[\"Duração\"], shade=True)"
      ],
      "execution_count": 147,
      "outputs": [
        {
          "output_type": "execute_result",
          "data": {
            "text/plain": [
              "<matplotlib.axes._subplots.AxesSubplot at 0x7ffae3470290>"
            ]
          },
          "metadata": {
            "tags": []
          },
          "execution_count": 147
        },
        {
          "output_type": "display_data",
          "data": {
            "image/png": "[encoded data removed]",
            "text/plain": [
              "<Figure size 720x576 with 1 Axes>"
            ]
          },
          "metadata": {
            "tags": []
          }
        }
      ]
    },
    {
      "cell_type": "markdown",
      "metadata": {
        "id": "7IgMH5dnSEzW"
      },
      "source": [
        "Conteúdo **Indiano** na Netflix "
      ]
    },
    {
      "cell_type": "markdown",
      "metadata": {
        "id": "icEYmDWGSLQg"
      },
      "source": [
        "Filtrando o País India"
      ]
    },
    {
      "cell_type": "code",
      "metadata": {
        "colab": {
          "base_uri": "https://localhost:8080/",
          "height": 546
        },
        "id": "bl-OocXURJ6u",
        "outputId": "2f33c692-2b7d-4f9f-a667-c1a9ec8bb241"
      },
      "source": [
        "dados_india = dados[dados.País == \"India\"]\r\n",
        "dados_india.head()"
      ],
      "execution_count": 150,
      "outputs": [
        {
          "output_type": "execute_result",
          "data": {
            "text/html": [
              "<div>\n",
              "<style scoped>\n",
              "    .dataframe tbody tr th:only-of-type {\n",
              "        vertical-align: middle;\n",
              "    }\n",
              "\n",
              "    .dataframe tbody tr th {\n",
              "        vertical-align: top;\n",
              "    }\n",
              "\n",
              "    .dataframe thead th {\n",
              "        text-align: right;\n",
              "    }\n",
              "</style>\n",
              "<table border=\"1\" class=\"dataframe\">\n",
              "  <thead>\n",
              "    <tr style=\"text-align: right;\">\n",
              "      <th></th>\n",
              "      <th>show_id</th>\n",
              "      <th>Modelo</th>\n",
              "      <th>Título</th>\n",
              "      <th>Diretor</th>\n",
              "      <th>Elenco</th>\n",
              "      <th>País</th>\n",
              "      <th>Data_Adicionado</th>\n",
              "      <th>Ano_de_lançamento</th>\n",
              "      <th>Avaliação</th>\n",
              "      <th>Duração</th>\n",
              "      <th>Listados_em</th>\n",
              "      <th>Descrição</th>\n",
              "    </tr>\n",
              "  </thead>\n",
              "  <tbody>\n",
              "    <tr>\n",
              "      <th>8</th>\n",
              "      <td>s9</td>\n",
              "      <td>Movie</td>\n",
              "      <td>706</td>\n",
              "      <td>Shravan Kumar</td>\n",
              "      <td>Divya Dutta, Atul Kulkarni, Mohan Agashe, Anup...</td>\n",
              "      <td>India</td>\n",
              "      <td>April 1, 2019</td>\n",
              "      <td>2019</td>\n",
              "      <td>TV-14</td>\n",
              "      <td>118 min</td>\n",
              "      <td>Horror Movies, International Movies</td>\n",
              "      <td>When a doctor goes missing, his psychiatrist w...</td>\n",
              "    </tr>\n",
              "    <tr>\n",
              "      <th>9</th>\n",
              "      <td>s10</td>\n",
              "      <td>Movie</td>\n",
              "      <td>1920</td>\n",
              "      <td>Vikram Bhatt</td>\n",
              "      <td>Rajneesh Duggal, Adah Sharma, Indraneil Sengup...</td>\n",
              "      <td>India</td>\n",
              "      <td>December 15, 2017</td>\n",
              "      <td>2008</td>\n",
              "      <td>TV-MA</td>\n",
              "      <td>143 min</td>\n",
              "      <td>Horror Movies, International Movies, Thrillers</td>\n",
              "      <td>An architect and his wife move into a castle t...</td>\n",
              "    </tr>\n",
              "    <tr>\n",
              "      <th>18</th>\n",
              "      <td>s19</td>\n",
              "      <td>Movie</td>\n",
              "      <td>15-Aug</td>\n",
              "      <td>Swapnaneel Jayakar</td>\n",
              "      <td>Rahul Pethe, Mrunmayee Deshpande, Adinath Koth...</td>\n",
              "      <td>India</td>\n",
              "      <td>March 29, 2019</td>\n",
              "      <td>2019</td>\n",
              "      <td>TV-14</td>\n",
              "      <td>124 min</td>\n",
              "      <td>Comedies, Dramas, Independent Movies</td>\n",
              "      <td>On India's Independence Day, a zany mishap in ...</td>\n",
              "    </tr>\n",
              "    <tr>\n",
              "      <th>20</th>\n",
              "      <td>s21</td>\n",
              "      <td>Movie</td>\n",
              "      <td>​​Kuch Bheege Alfaaz</td>\n",
              "      <td>Onir</td>\n",
              "      <td>Geetanjali Thapa, Zain Khan Durrani, Shray Rai...</td>\n",
              "      <td>India</td>\n",
              "      <td>September 1, 2018</td>\n",
              "      <td>2018</td>\n",
              "      <td>TV-14</td>\n",
              "      <td>110 min</td>\n",
              "      <td>Dramas, Independent Movies, International Movies</td>\n",
              "      <td>After accidentally connecting over the Interne...</td>\n",
              "    </tr>\n",
              "    <tr>\n",
              "      <th>21</th>\n",
              "      <td>s22</td>\n",
              "      <td>Movie</td>\n",
              "      <td>​Goli Soda 2</td>\n",
              "      <td>Vijay Milton</td>\n",
              "      <td>Samuthirakani, Bharath Seeni, Vinoth, Esakki B...</td>\n",
              "      <td>India</td>\n",
              "      <td>September 15, 2018</td>\n",
              "      <td>2018</td>\n",
              "      <td>TV-14</td>\n",
              "      <td>128 min</td>\n",
              "      <td>Action &amp; Adventure, Dramas, International Movies</td>\n",
              "      <td>A taxi driver, a gangster and an athlete strug...</td>\n",
              "    </tr>\n",
              "  </tbody>\n",
              "</table>\n",
              "</div>"
            ],
            "text/plain": [
              "   show_id  ...                                          Descrição\n",
              "8       s9  ...  When a doctor goes missing, his psychiatrist w...\n",
              "9      s10  ...  An architect and his wife move into a castle t...\n",
              "18     s19  ...  On India's Independence Day, a zany mishap in ...\n",
              "20     s21  ...  After accidentally connecting over the Interne...\n",
              "21     s22  ...  A taxi driver, a gangster and an athlete strug...\n",
              "\n",
              "[5 rows x 12 columns]"
            ]
          },
          "metadata": {
            "tags": []
          },
          "execution_count": 150
        }
      ]
    },
    {
      "cell_type": "code",
      "metadata": {
        "colab": {
          "base_uri": "https://localhost:8080/",
          "height": 625
        },
        "id": "dl-LJ8cYSoeQ",
        "outputId": "d7cbfbc9-103c-4008-93b7-90e65da9b107"
      },
      "source": [
        "plt.figure(figsize=(12,10))\r\n",
        "sns.set_style(\"dark\")\r\n",
        "sns.countplot(data=dados_india, y=\"Ano_de_lançamento\", \r\n",
        "              order=dados_india.Ano_de_lançamento.value_counts().index[:20], \r\n",
        "              palette=\"viridis\")"
      ],
      "execution_count": 151,
      "outputs": [
        {
          "output_type": "execute_result",
          "data": {
            "text/plain": [
              "<matplotlib.axes._subplots.AxesSubplot at 0x7ffae1c48e10>"
            ]
          },
          "metadata": {
            "tags": []
          },
          "execution_count": 151
        },
        {
          "output_type": "display_data",
          "data": {
            "image/png": "[encoded data removed]",
            "text/plain": [
              "<Figure size 864x720 with 1 Axes>"
            ]
          },
          "metadata": {
            "tags": []
          }
        }
      ]
    },
    {
      "cell_type": "code",
      "metadata": {
        "id": "1V614rkUS5fS"
      },
      "source": [
        "import matplotlib.pyplot as plt\r\n",
        "import seaborn as sns \r\n",
        "import matplotlib\r\n",
        "import plotly.graph_objects as go\r\n",
        "import plotly.express as px"
      ],
      "execution_count": 153,
      "outputs": []
    },
    {
      "cell_type": "code",
      "metadata": {
        "id": "PP_Yt8g6UyND"
      },
      "source": [
        "sns.set(context='notebook', style='darkgrid', palette='colorblind', font='sans-serif', font_scale=1, rc=None)\r\n",
        "matplotlib.rcParams['figure.figsize'] =[8,8]\r\n",
        "matplotlib.rcParams.update({'font.size': 15})\r\n",
        "matplotlib.rcParams['font.family'] = 'sans-serif'"
      ],
      "execution_count": 154,
      "outputs": []
    },
    {
      "cell_type": "code",
      "metadata": {
        "id": "LthoukhwU7sq"
      },
      "source": [
        "import plotly.graph_objects as go\r\n",
        "from plotly.offline import init_notebook_mode, iplot"
      ],
      "execution_count": 155,
      "outputs": []
    },
    {
      "cell_type": "code",
      "metadata": {
        "colab": {
          "base_uri": "https://localhost:8080/"
        },
        "id": "0W5OeF2eVBxn",
        "outputId": "e7518ebf-258d-4048-b1e2-5827858b3c32"
      },
      "source": [
        "dados.info()"
      ],
      "execution_count": 160,
      "outputs": [
        {
          "output_type": "stream",
          "text": [
            "<class 'pandas.core.frame.DataFrame'>\n",
            "RangeIndex: 7787 entries, 0 to 7786\n",
            "Data columns (total 12 columns):\n",
            " #   Column             Non-Null Count  Dtype \n",
            "---  ------             --------------  ----- \n",
            " 0   show_id            7787 non-null   object\n",
            " 1   Modelo             7787 non-null   object\n",
            " 2   Título             7787 non-null   object\n",
            " 3   Diretor            5398 non-null   object\n",
            " 4   Elenco             7069 non-null   object\n",
            " 5   País               7280 non-null   object\n",
            " 6   Data_Adicionado    7777 non-null   object\n",
            " 7   Ano_de_lançamento  7787 non-null   int64 \n",
            " 8   Avaliação          7780 non-null   object\n",
            " 9   Duração            7787 non-null   object\n",
            " 10  Listados_em        7787 non-null   object\n",
            " 11  Descrição          7787 non-null   object\n",
            "dtypes: int64(1), object(11)\n",
            "memory usage: 730.2+ KB\n"
          ],
          "name": "stdout"
        }
      ]
    },
    {
      "cell_type": "code",
      "metadata": {
        "colab": {
          "base_uri": "https://localhost:8080/",
          "height": 499
        },
        "id": "ak4fWg6hVFmZ",
        "outputId": "01e21965-20ba-4647-f69e-acb69378eb40"
      },
      "source": [
        "dados.dtypes.value_counts().plot.pie(explode=[0.1,0.1],autopct='%1.1f%%',shadow=True)\r\n",
        "plt.title('O tipo de nossos dados')"
      ],
      "execution_count": 162,
      "outputs": [
        {
          "output_type": "execute_result",
          "data": {
            "text/plain": [
              "Text(0.5, 1.0, 'O tipo de nossos dados')"
            ]
          },
          "metadata": {
            "tags": []
          },
          "execution_count": 162
        },
        {
          "output_type": "display_data",
          "data": {
            "image/png": "[encoded data removed]",
            "text/plain": [
              "<Figure size 576x576 with 1 Axes>"
            ]
          },
          "metadata": {
            "tags": []
          }
        }
      ]
    },
    {
      "cell_type": "code",
      "metadata": {
        "colab": {
          "base_uri": "https://localhost:8080/"
        },
        "id": "3tvUSv-iVmfq",
        "outputId": "aa678f9a-155a-4fb3-b7f6-bff305c1cfae"
      },
      "source": [
        "dados.columns"
      ],
      "execution_count": 163,
      "outputs": [
        {
          "output_type": "execute_result",
          "data": {
            "text/plain": [
              "Index(['show_id', 'Modelo', 'Título', 'Diretor', 'Elenco', 'País',\n",
              "       'Data_Adicionado', 'Ano_de_lançamento', 'Avaliação', 'Duração',\n",
              "       'Listados_em', 'Descrição'],\n",
              "      dtype='object')"
            ]
          },
          "metadata": {
            "tags": []
          },
          "execution_count": 163
        }
      ]
    },
    {
      "cell_type": "code",
      "metadata": {
        "colab": {
          "base_uri": "https://localhost:8080/",
          "height": 461
        },
        "id": "zNDMuftyWDJi",
        "outputId": "591b896d-0e56-406c-c5f7-f463eb7a21f6"
      },
      "source": [
        "dados.describe(include='all')"
      ],
      "execution_count": 164,
      "outputs": [
        {
          "output_type": "execute_result",
          "data": {
            "text/html": [
              "<div>\n",
              "<style scoped>\n",
              "    .dataframe tbody tr th:only-of-type {\n",
              "        vertical-align: middle;\n",
              "    }\n",
              "\n",
              "    .dataframe tbody tr th {\n",
              "        vertical-align: top;\n",
              "    }\n",
              "\n",
              "    .dataframe thead th {\n",
              "        text-align: right;\n",
              "    }\n",
              "</style>\n",
              "<table border=\"1\" class=\"dataframe\">\n",
              "  <thead>\n",
              "    <tr style=\"text-align: right;\">\n",
              "      <th></th>\n",
              "      <th>show_id</th>\n",
              "      <th>Modelo</th>\n",
              "      <th>Título</th>\n",
              "      <th>Diretor</th>\n",
              "      <th>Elenco</th>\n",
              "      <th>País</th>\n",
              "      <th>Data_Adicionado</th>\n",
              "      <th>Ano_de_lançamento</th>\n",
              "      <th>Avaliação</th>\n",
              "      <th>Duração</th>\n",
              "      <th>Listados_em</th>\n",
              "      <th>Descrição</th>\n",
              "    </tr>\n",
              "  </thead>\n",
              "  <tbody>\n",
              "    <tr>\n",
              "      <th>count</th>\n",
              "      <td>7787</td>\n",
              "      <td>7787</td>\n",
              "      <td>7787</td>\n",
              "      <td>5398</td>\n",
              "      <td>7069</td>\n",
              "      <td>7280</td>\n",
              "      <td>7777</td>\n",
              "      <td>7787.000000</td>\n",
              "      <td>7780</td>\n",
              "      <td>7787</td>\n",
              "      <td>7787</td>\n",
              "      <td>7787</td>\n",
              "    </tr>\n",
              "    <tr>\n",
              "      <th>unique</th>\n",
              "      <td>7787</td>\n",
              "      <td>2</td>\n",
              "      <td>7787</td>\n",
              "      <td>4049</td>\n",
              "      <td>6831</td>\n",
              "      <td>681</td>\n",
              "      <td>1565</td>\n",
              "      <td>NaN</td>\n",
              "      <td>14</td>\n",
              "      <td>216</td>\n",
              "      <td>492</td>\n",
              "      <td>7769</td>\n",
              "    </tr>\n",
              "    <tr>\n",
              "      <th>top</th>\n",
              "      <td>s3560</td>\n",
              "      <td>Movie</td>\n",
              "      <td>The Break</td>\n",
              "      <td>Raúl Campos, Jan Suter</td>\n",
              "      <td>David Attenborough</td>\n",
              "      <td>United States</td>\n",
              "      <td>January 1, 2020</td>\n",
              "      <td>NaN</td>\n",
              "      <td>TV-MA</td>\n",
              "      <td>1 Season</td>\n",
              "      <td>Documentaries</td>\n",
              "      <td>A surly septuagenarian gets another chance at ...</td>\n",
              "    </tr>\n",
              "    <tr>\n",
              "      <th>freq</th>\n",
              "      <td>1</td>\n",
              "      <td>5377</td>\n",
              "      <td>1</td>\n",
              "      <td>18</td>\n",
              "      <td>18</td>\n",
              "      <td>2555</td>\n",
              "      <td>118</td>\n",
              "      <td>NaN</td>\n",
              "      <td>2863</td>\n",
              "      <td>1608</td>\n",
              "      <td>334</td>\n",
              "      <td>3</td>\n",
              "    </tr>\n",
              "    <tr>\n",
              "      <th>mean</th>\n",
              "      <td>NaN</td>\n",
              "      <td>NaN</td>\n",
              "      <td>NaN</td>\n",
              "      <td>NaN</td>\n",
              "      <td>NaN</td>\n",
              "      <td>NaN</td>\n",
              "      <td>NaN</td>\n",
              "      <td>2013.932580</td>\n",
              "      <td>NaN</td>\n",
              "      <td>NaN</td>\n",
              "      <td>NaN</td>\n",
              "      <td>NaN</td>\n",
              "    </tr>\n",
              "    <tr>\n",
              "      <th>std</th>\n",
              "      <td>NaN</td>\n",
              "      <td>NaN</td>\n",
              "      <td>NaN</td>\n",
              "      <td>NaN</td>\n",
              "      <td>NaN</td>\n",
              "      <td>NaN</td>\n",
              "      <td>NaN</td>\n",
              "      <td>8.757395</td>\n",
              "      <td>NaN</td>\n",
              "      <td>NaN</td>\n",
              "      <td>NaN</td>\n",
              "      <td>NaN</td>\n",
              "    </tr>\n",
              "    <tr>\n",
              "      <th>min</th>\n",
              "      <td>NaN</td>\n",
              "      <td>NaN</td>\n",
              "      <td>NaN</td>\n",
              "      <td>NaN</td>\n",
              "      <td>NaN</td>\n",
              "      <td>NaN</td>\n",
              "      <td>NaN</td>\n",
              "      <td>1925.000000</td>\n",
              "      <td>NaN</td>\n",
              "      <td>NaN</td>\n",
              "      <td>NaN</td>\n",
              "      <td>NaN</td>\n",
              "    </tr>\n",
              "    <tr>\n",
              "      <th>25%</th>\n",
              "      <td>NaN</td>\n",
              "      <td>NaN</td>\n",
              "      <td>NaN</td>\n",
              "      <td>NaN</td>\n",
              "      <td>NaN</td>\n",
              "      <td>NaN</td>\n",
              "      <td>NaN</td>\n",
              "      <td>2013.000000</td>\n",
              "      <td>NaN</td>\n",
              "      <td>NaN</td>\n",
              "      <td>NaN</td>\n",
              "      <td>NaN</td>\n",
              "    </tr>\n",
              "    <tr>\n",
              "      <th>50%</th>\n",
              "      <td>NaN</td>\n",
              "      <td>NaN</td>\n",
              "      <td>NaN</td>\n",
              "      <td>NaN</td>\n",
              "      <td>NaN</td>\n",
              "      <td>NaN</td>\n",
              "      <td>NaN</td>\n",
              "      <td>2017.000000</td>\n",
              "      <td>NaN</td>\n",
              "      <td>NaN</td>\n",
              "      <td>NaN</td>\n",
              "      <td>NaN</td>\n",
              "    </tr>\n",
              "    <tr>\n",
              "      <th>75%</th>\n",
              "      <td>NaN</td>\n",
              "      <td>NaN</td>\n",
              "      <td>NaN</td>\n",
              "      <td>NaN</td>\n",
              "      <td>NaN</td>\n",
              "      <td>NaN</td>\n",
              "      <td>NaN</td>\n",
              "      <td>2018.000000</td>\n",
              "      <td>NaN</td>\n",
              "      <td>NaN</td>\n",
              "      <td>NaN</td>\n",
              "      <td>NaN</td>\n",
              "    </tr>\n",
              "    <tr>\n",
              "      <th>max</th>\n",
              "      <td>NaN</td>\n",
              "      <td>NaN</td>\n",
              "      <td>NaN</td>\n",
              "      <td>NaN</td>\n",
              "      <td>NaN</td>\n",
              "      <td>NaN</td>\n",
              "      <td>NaN</td>\n",
              "      <td>2021.000000</td>\n",
              "      <td>NaN</td>\n",
              "      <td>NaN</td>\n",
              "      <td>NaN</td>\n",
              "      <td>NaN</td>\n",
              "    </tr>\n",
              "  </tbody>\n",
              "</table>\n",
              "</div>"
            ],
            "text/plain": [
              "       show_id  ...                                          Descrição\n",
              "count     7787  ...                                               7787\n",
              "unique    7787  ...                                               7769\n",
              "top      s3560  ...  A surly septuagenarian gets another chance at ...\n",
              "freq         1  ...                                                  3\n",
              "mean       NaN  ...                                                NaN\n",
              "std        NaN  ...                                                NaN\n",
              "min        NaN  ...                                                NaN\n",
              "25%        NaN  ...                                                NaN\n",
              "50%        NaN  ...                                                NaN\n",
              "75%        NaN  ...                                                NaN\n",
              "max        NaN  ...                                                NaN\n",
              "\n",
              "[11 rows x 12 columns]"
            ]
          },
          "metadata": {
            "tags": []
          },
          "execution_count": 164
        }
      ]
    },
    {
      "cell_type": "markdown",
      "metadata": {
        "id": "G_huprolWX1j"
      },
      "source": [
        "\r\n",
        "encontrando valores **ausentes**"
      ]
    },
    {
      "cell_type": "code",
      "metadata": {
        "colab": {
          "base_uri": "https://localhost:8080/",
          "height": 421
        },
        "id": "IYUjXSJWWIH5",
        "outputId": "f21165ef-e339-443d-81fe-f588353a0ebc"
      },
      "source": [
        "missing_values=dados.isnull().sum()\r\n",
        "percent_missing = dados.isnull().sum()/df.shape[0]*100\r\n",
        "\r\n",
        "value = {\r\n",
        "    'missing_values':missing_values,\r\n",
        "    'percent_missing %':percent_missing\r\n",
        "}\r\n",
        "frame=pd.DataFrame(value)\r\n",
        "frame"
      ],
      "execution_count": 165,
      "outputs": [
        {
          "output_type": "execute_result",
          "data": {
            "text/html": [
              "<div>\n",
              "<style scoped>\n",
              "    .dataframe tbody tr th:only-of-type {\n",
              "        vertical-align: middle;\n",
              "    }\n",
              "\n",
              "    .dataframe tbody tr th {\n",
              "        vertical-align: top;\n",
              "    }\n",
              "\n",
              "    .dataframe thead th {\n",
              "        text-align: right;\n",
              "    }\n",
              "</style>\n",
              "<table border=\"1\" class=\"dataframe\">\n",
              "  <thead>\n",
              "    <tr style=\"text-align: right;\">\n",
              "      <th></th>\n",
              "      <th>missing_values</th>\n",
              "      <th>percent_missing %</th>\n",
              "    </tr>\n",
              "  </thead>\n",
              "  <tbody>\n",
              "    <tr>\n",
              "      <th>show_id</th>\n",
              "      <td>0</td>\n",
              "      <td>NaN</td>\n",
              "    </tr>\n",
              "    <tr>\n",
              "      <th>Modelo</th>\n",
              "      <td>0</td>\n",
              "      <td>NaN</td>\n",
              "    </tr>\n",
              "    <tr>\n",
              "      <th>Título</th>\n",
              "      <td>0</td>\n",
              "      <td>NaN</td>\n",
              "    </tr>\n",
              "    <tr>\n",
              "      <th>Diretor</th>\n",
              "      <td>2389</td>\n",
              "      <td>inf</td>\n",
              "    </tr>\n",
              "    <tr>\n",
              "      <th>Elenco</th>\n",
              "      <td>718</td>\n",
              "      <td>inf</td>\n",
              "    </tr>\n",
              "    <tr>\n",
              "      <th>País</th>\n",
              "      <td>507</td>\n",
              "      <td>inf</td>\n",
              "    </tr>\n",
              "    <tr>\n",
              "      <th>Data_Adicionado</th>\n",
              "      <td>10</td>\n",
              "      <td>inf</td>\n",
              "    </tr>\n",
              "    <tr>\n",
              "      <th>Ano_de_lançamento</th>\n",
              "      <td>0</td>\n",
              "      <td>NaN</td>\n",
              "    </tr>\n",
              "    <tr>\n",
              "      <th>Avaliação</th>\n",
              "      <td>7</td>\n",
              "      <td>inf</td>\n",
              "    </tr>\n",
              "    <tr>\n",
              "      <th>Duração</th>\n",
              "      <td>0</td>\n",
              "      <td>NaN</td>\n",
              "    </tr>\n",
              "    <tr>\n",
              "      <th>Listados_em</th>\n",
              "      <td>0</td>\n",
              "      <td>NaN</td>\n",
              "    </tr>\n",
              "    <tr>\n",
              "      <th>Descrição</th>\n",
              "      <td>0</td>\n",
              "      <td>NaN</td>\n",
              "    </tr>\n",
              "  </tbody>\n",
              "</table>\n",
              "</div>"
            ],
            "text/plain": [
              "                   missing_values  percent_missing %\n",
              "show_id                         0                NaN\n",
              "Modelo                          0                NaN\n",
              "Título                          0                NaN\n",
              "Diretor                      2389                inf\n",
              "Elenco                        718                inf\n",
              "País                          507                inf\n",
              "Data_Adicionado                10                inf\n",
              "Ano_de_lançamento               0                NaN\n",
              "Avaliação                       7                inf\n",
              "Duração                         0                NaN\n",
              "Listados_em                     0                NaN\n",
              "Descrição                       0                NaN"
            ]
          },
          "metadata": {
            "tags": []
          },
          "execution_count": 165
        }
      ]
    },
    {
      "cell_type": "code",
      "metadata": {
        "colab": {
          "base_uri": "https://localhost:8080/"
        },
        "id": "tuJBTaNeW_RL",
        "outputId": "22c0f9e6-8b0c-4e31-9cfb-14598e78e554"
      },
      "source": [
        "dados.shape"
      ],
      "execution_count": 166,
      "outputs": [
        {
          "output_type": "execute_result",
          "data": {
            "text/plain": [
              "(7787, 12)"
            ]
          },
          "metadata": {
            "tags": []
          },
          "execution_count": 166
        }
      ]
    },
    {
      "cell_type": "code",
      "metadata": {
        "colab": {
          "base_uri": "https://localhost:8080/",
          "height": 798
        },
        "id": "5A17cB79XWoO",
        "outputId": "fd23c923-8b60-403d-ee33-289ee4566f63"
      },
      "source": [
        "freq_value=dados.Avaliação.value_counts()\r\n",
        "print(freq_value)\r\n",
        "freq_value.plot.bar()"
      ],
      "execution_count": 169,
      "outputs": [
        {
          "output_type": "stream",
          "text": [
            "TV-MA       2863\n",
            "TV-14       1931\n",
            "TV-PG        806\n",
            "R            665\n",
            "PG-13        386\n",
            "TV-Y         280\n",
            "TV-Y7        271\n",
            "PG           247\n",
            "TV-G         194\n",
            "NR            84\n",
            "G             39\n",
            "TV-Y7-FV       6\n",
            "UR             5\n",
            "NC-17          3\n",
            "Name: Avaliação, dtype: int64\n"
          ],
          "name": "stdout"
        },
        {
          "output_type": "execute_result",
          "data": {
            "text/plain": [
              "<matplotlib.axes._subplots.AxesSubplot at 0x7ffae1b10410>"
            ]
          },
          "metadata": {
            "tags": []
          },
          "execution_count": 169
        },
        {
          "output_type": "display_data",
          "data": {
            "image/png": "[encoded data removed]",
            "text/plain": [
              "<Figure size 576x576 with 1 Axes>"
            ]
          },
          "metadata": {
            "tags": []
          }
        }
      ]
    },
    {
      "cell_type": "code",
      "metadata": {
        "id": "GnfosNghXcio"
      },
      "source": [
        "freq_rating=dados.Avaliação.mode()"
      ],
      "execution_count": 171,
      "outputs": []
    },
    {
      "cell_type": "code",
      "metadata": {
        "id": "TrzbyOFVXuoo"
      },
      "source": [
        "dados['Avaliação'].fillna(dados['Avaliação'].mode,inplace=True)"
      ],
      "execution_count": 174,
      "outputs": []
    },
    {
      "cell_type": "code",
      "metadata": {
        "colab": {
          "base_uri": "https://localhost:8080/"
        },
        "id": "EFbbqNswYLSo",
        "outputId": "0764ea13-551d-4613-f464-fee9b39fddf4"
      },
      "source": [
        "dados.Avaliação.isnull().sum()"
      ],
      "execution_count": 175,
      "outputs": [
        {
          "output_type": "execute_result",
          "data": {
            "text/plain": [
              "0"
            ]
          },
          "metadata": {
            "tags": []
          },
          "execution_count": 175
        }
      ]
    },
    {
      "cell_type": "markdown",
      "metadata": {
        "id": "E7YFA8Ilbcve"
      },
      "source": [
        "*Pesquisa pela data que foi adicionado**"
      ]
    },
    {
      "cell_type": "code",
      "metadata": {
        "colab": {
          "base_uri": "https://localhost:8080/"
        },
        "id": "41dU4X4uYyJm",
        "outputId": "b3602b3f-9c81-4253-88f8-805c2f74721f"
      },
      "source": [
        "freq_data=dados.Data_Adicionado.value_counts()\r\n",
        "freq_data"
      ],
      "execution_count": 180,
      "outputs": [
        {
          "output_type": "execute_result",
          "data": {
            "text/plain": [
              "January 1, 2020      118\n",
              "November 1, 2019      94\n",
              "March 1, 2018         76\n",
              "December 31, 2019     76\n",
              "October 1, 2018       72\n",
              "                    ... \n",
              " April 20, 2017        1\n",
              "December 4, 2015       1\n",
              "May 13, 2019           1\n",
              "October 25, 2015       1\n",
              " April 16, 2019        1\n",
              "Name: Data_Adicionado, Length: 1565, dtype: int64"
            ]
          },
          "metadata": {
            "tags": []
          },
          "execution_count": 180
        }
      ]
    },
    {
      "cell_type": "code",
      "metadata": {
        "id": "uN0XgTXzZ01s"
      },
      "source": [
        "dados=dados.dropna(axis=0, subset=['Data_Adicionado'])"
      ],
      "execution_count": 181,
      "outputs": []
    },
    {
      "cell_type": "code",
      "metadata": {
        "colab": {
          "base_uri": "https://localhost:8080/"
        },
        "id": "ogJKf1bZaeZd",
        "outputId": "aa3978ad-61fa-40a8-aaaa-458a149643fd"
      },
      "source": [
        "dados.Data_Adicionado.isnull().sum()"
      ],
      "execution_count": 182,
      "outputs": [
        {
          "output_type": "execute_result",
          "data": {
            "text/plain": [
              "0"
            ]
          },
          "metadata": {
            "tags": []
          },
          "execution_count": 182
        }
      ]
    },
    {
      "cell_type": "markdown",
      "metadata": {
        "id": "ZFEZRuQgbSIm"
      },
      "source": [
        "**Por Países**"
      ]
    },
    {
      "cell_type": "code",
      "metadata": {
        "colab": {
          "base_uri": "https://localhost:8080/"
        },
        "id": "exHmBfBLbNgK",
        "outputId": "db698bb7-116d-4238-f4fc-7db61520bad2"
      },
      "source": [
        "dados.País.value_counts()"
      ],
      "execution_count": 184,
      "outputs": [
        {
          "output_type": "execute_result",
          "data": {
            "text/plain": [
              "United States                             2549\n",
              "India                                      923\n",
              "United Kingdom                             396\n",
              "Japan                                      225\n",
              "South Korea                                183\n",
              "                                          ... \n",
              "United Kingdom, United States, Japan         1\n",
              "Bulgaria, United States, Spain, Canada       1\n",
              "Germany, Czech Republic                      1\n",
              "Bulgaria                                     1\n",
              "Singapore, Japan, France                     1\n",
              "Name: País, Length: 681, dtype: int64"
            ]
          },
          "metadata": {
            "tags": []
          },
          "execution_count": 184
        }
      ]
    },
    {
      "cell_type": "code",
      "metadata": {
        "colab": {
          "base_uri": "https://localhost:8080/",
          "height": 248
        },
        "id": "X_hBEuFjb2Dq",
        "outputId": "5057db75-9c36-4c53-e806-5c86a8315a82"
      },
      "source": [
        "plt.figure(figsize=(15,8))\r\n",
        "País_val=dados.País.value_counts().head(15)\r\n",
        "sns.barplot(País.index,País)\r\n",
        "plt.xticks(rotation=45)\r\n",
        "plt.title('Conteúdo disponível em diferentes países')"
      ],
      "execution_count": 189,
      "outputs": [
        {
          "output_type": "error",
          "ename": "NameError",
          "evalue": "ignored",
          "traceback": [
            "\u001b[0;31m---------------------------------------------------------------------------\u001b[0m",
            "\u001b[0;31mNameError\u001b[0m                                 Traceback (most recent call last)",
            "\u001b[0;32m<ipython-input-189-c2ce7ce85bf2>\u001b[0m in \u001b[0;36m<module>\u001b[0;34m()\u001b[0m\n\u001b[1;32m      1\u001b[0m \u001b[0mplt\u001b[0m\u001b[0;34m.\u001b[0m\u001b[0mfigure\u001b[0m\u001b[0;34m(\u001b[0m\u001b[0mfigsize\u001b[0m\u001b[0;34m=\u001b[0m\u001b[0;34m(\u001b[0m\u001b[0;36m15\u001b[0m\u001b[0;34m,\u001b[0m\u001b[0;36m8\u001b[0m\u001b[0;34m)\u001b[0m\u001b[0;34m)\u001b[0m\u001b[0;34m\u001b[0m\u001b[0;34m\u001b[0m\u001b[0m\n\u001b[1;32m      2\u001b[0m \u001b[0mPaís_val\u001b[0m\u001b[0;34m=\u001b[0m\u001b[0mdados\u001b[0m\u001b[0;34m.\u001b[0m\u001b[0mPaís\u001b[0m\u001b[0;34m.\u001b[0m\u001b[0mvalue_counts\u001b[0m\u001b[0;34m(\u001b[0m\u001b[0;34m)\u001b[0m\u001b[0;34m.\u001b[0m\u001b[0mhead\u001b[0m\u001b[0;34m(\u001b[0m\u001b[0;36m15\u001b[0m\u001b[0;34m)\u001b[0m\u001b[0;34m\u001b[0m\u001b[0;34m\u001b[0m\u001b[0m\n\u001b[0;32m----> 3\u001b[0;31m \u001b[0msns\u001b[0m\u001b[0;34m.\u001b[0m\u001b[0mbarplot\u001b[0m\u001b[0;34m(\u001b[0m\u001b[0mPaís\u001b[0m\u001b[0;34m.\u001b[0m\u001b[0mindex\u001b[0m\u001b[0;34m,\u001b[0m\u001b[0mPaís\u001b[0m\u001b[0;34m)\u001b[0m\u001b[0;34m\u001b[0m\u001b[0;34m\u001b[0m\u001b[0m\n\u001b[0m\u001b[1;32m      4\u001b[0m \u001b[0mplt\u001b[0m\u001b[0;34m.\u001b[0m\u001b[0mxticks\u001b[0m\u001b[0;34m(\u001b[0m\u001b[0mrotation\u001b[0m\u001b[0;34m=\u001b[0m\u001b[0;36m45\u001b[0m\u001b[0;34m)\u001b[0m\u001b[0;34m\u001b[0m\u001b[0;34m\u001b[0m\u001b[0m\n\u001b[1;32m      5\u001b[0m \u001b[0mplt\u001b[0m\u001b[0;34m.\u001b[0m\u001b[0mtitle\u001b[0m\u001b[0;34m(\u001b[0m\u001b[0;34m'Conteúdo disponível em diferentes países'\u001b[0m\u001b[0;34m)\u001b[0m\u001b[0;34m\u001b[0m\u001b[0;34m\u001b[0m\u001b[0m\n",
            "\u001b[0;31mNameError\u001b[0m: name 'País' is not defined"
          ]
        },
        {
          "output_type": "display_data",
          "data": {
            "text/plain": [
              "<Figure size 1080x576 with 0 Axes>"
            ]
          },
          "metadata": {
            "tags": []
          }
        }
      ]
    },
    {
      "cell_type": "code",
      "metadata": {
        "colab": {
          "base_uri": "https://localhost:8080/",
          "height": 666
        },
        "id": "p0vvn9MWcPFl",
        "outputId": "a2b4f7e5-04d4-4438-8ed7-439c2fe5b536"
      },
      "source": [
        "plt.figure(figsize=(12,8))\r\n",
        "País=dados.País.value_counts().head(15)\r\n",
        "sns.barplot(País.index,País)\r\n",
        "plt.xticks(rotation=45)\r\n",
        "plt.title('conteúdo disponível em diferentes países')"
      ],
      "execution_count": 192,
      "outputs": [
        {
          "output_type": "stream",
          "text": [
            "/usr/local/lib/python3.7/dist-packages/seaborn/_decorators.py:43: FutureWarning:\n",
            "\n",
            "Pass the following variables as keyword args: x, y. From version 0.12, the only valid positional argument will be `data`, and passing other arguments without an explicit keyword will result in an error or misinterpretation.\n",
            "\n"
          ],
          "name": "stderr"
        },
        {
          "output_type": "execute_result",
          "data": {
            "text/plain": [
              "Text(0.5, 1.0, 'conteúdo disponível em diferentes países')"
            ]
          },
          "metadata": {
            "tags": []
          },
          "execution_count": 192
        },
        {
          "output_type": "display_data",
          "data": {
            "image/png": "[encoded data removed]",
            "text/plain": [
              "<Figure size 864x576 with 1 Axes>"
            ]
          },
          "metadata": {
            "tags": []
          }
        }
      ]
    },
    {
      "cell_type": "code",
      "metadata": {
        "colab": {
          "base_uri": "https://localhost:8080/"
        },
        "id": "_ZLIO1Ccc-1n",
        "outputId": "98671099-7506-4989-8b8a-bc9e575a31ea"
      },
      "source": [
        "dados.País.mode()"
      ],
      "execution_count": 193,
      "outputs": [
        {
          "output_type": "execute_result",
          "data": {
            "text/plain": [
              "0    United States\n",
              "dtype: object"
            ]
          },
          "metadata": {
            "tags": []
          },
          "execution_count": 193
        }
      ]
    },
    {
      "cell_type": "code",
      "metadata": {
        "colab": {
          "base_uri": "https://localhost:8080/"
        },
        "id": "BKEuS9CNdLjl",
        "outputId": "2274755d-550d-4990-b6d7-5c887cfd7303"
      },
      "source": [
        "dados['País'].fillna(dados['País'].mode,inplace=True)"
      ],
      "execution_count": 195,
      "outputs": [
        {
          "output_type": "stream",
          "text": [
            "/usr/local/lib/python3.7/dist-packages/pandas/core/series.py:4536: SettingWithCopyWarning:\n",
            "\n",
            "\n",
            "A value is trying to be set on a copy of a slice from a DataFrame\n",
            "\n",
            "See the caveats in the documentation: https://pandas.pydata.org/pandas-docs/stable/user_guide/indexing.html#returning-a-view-versus-a-copy\n",
            "\n"
          ],
          "name": "stderr"
        }
      ]
    },
    {
      "cell_type": "code",
      "metadata": {
        "colab": {
          "base_uri": "https://localhost:8080/"
        },
        "id": "SydmDYkjdR7a",
        "outputId": "09572726-59f1-44b0-a9f2-2f419bb884dc"
      },
      "source": [
        "dados.País.isnull().sum()"
      ],
      "execution_count": 197,
      "outputs": [
        {
          "output_type": "execute_result",
          "data": {
            "text/plain": [
              "0"
            ]
          },
          "metadata": {
            "tags": []
          },
          "execution_count": 197
        }
      ]
    },
    {
      "cell_type": "markdown",
      "metadata": {
        "id": "kCexGGRQdjQw"
      },
      "source": [
        "Pesquisa por **elenco**"
      ]
    },
    {
      "cell_type": "code",
      "metadata": {
        "colab": {
          "base_uri": "https://localhost:8080/"
        },
        "id": "fg-Su-l3dapW",
        "outputId": "4235ba74-6392-4f70-87f2-4eb95f01e587"
      },
      "source": [
        "dados.Elenco.value_counts().count()"
      ],
      "execution_count": 199,
      "outputs": [
        {
          "output_type": "execute_result",
          "data": {
            "text/plain": [
              "6821"
            ]
          },
          "metadata": {
            "tags": []
          },
          "execution_count": 199
        }
      ]
    },
    {
      "cell_type": "code",
      "metadata": {
        "id": "dyuNfHt9dvqp"
      },
      "source": [
        "dados=dados.dropna(axis=0, subset=['Elenco'])"
      ],
      "execution_count": 200,
      "outputs": []
    },
    {
      "cell_type": "code",
      "metadata": {
        "colab": {
          "base_uri": "https://localhost:8080/"
        },
        "id": "fY6zlLmgd4Jz",
        "outputId": "64bf1331-d2c3-4cc3-9835-241026a540a6"
      },
      "source": [
        "dados.isnull().sum()"
      ],
      "execution_count": 201,
      "outputs": [
        {
          "output_type": "execute_result",
          "data": {
            "text/plain": [
              "show_id                 0\n",
              "Modelo                  0\n",
              "Título                  0\n",
              "Diretor              2080\n",
              "Elenco                  0\n",
              "País                    0\n",
              "Data_Adicionado         0\n",
              "Ano_de_lançamento       0\n",
              "Avaliação               0\n",
              "Duração                 0\n",
              "Listados_em             0\n",
              "Descrição               0\n",
              "dtype: int64"
            ]
          },
          "metadata": {
            "tags": []
          },
          "execution_count": 201
        }
      ]
    },
    {
      "cell_type": "code",
      "metadata": {
        "colab": {
          "base_uri": "https://localhost:8080/"
        },
        "id": "8cdSW4Y-d7tZ",
        "outputId": "5c4743a5-9bc7-464e-f202-36a243eaf957"
      },
      "source": [
        "dados.Diretor.value_counts()"
      ],
      "execution_count": 202,
      "outputs": [
        {
          "output_type": "execute_result",
          "data": {
            "text/plain": [
              "Raúl Campos, Jan Suter    18\n",
              "Marcus Raboy              16\n",
              "Jay Karas                 14\n",
              "Cathy Garcia-Molina       13\n",
              "Youssef Chahine           12\n",
              "                          ..\n",
              "Moataz El Tony             1\n",
              "Kunal Kohli                1\n",
              "Johan Brisinger            1\n",
              "Gene Quintano              1\n",
              "Richard Sears              1\n",
              "Name: Diretor, Length: 3711, dtype: int64"
            ]
          },
          "metadata": {
            "tags": []
          },
          "execution_count": 202
        }
      ]
    },
    {
      "cell_type": "markdown",
      "metadata": {
        "id": "RfdXGFdDeG0e"
      },
      "source": [
        "Tipo de conteúdo no **Netflix**"
      ]
    },
    {
      "cell_type": "code",
      "metadata": {
        "colab": {
          "base_uri": "https://localhost:8080/",
          "height": 417
        },
        "id": "G6MEy9HmeB_b",
        "outputId": "4a8813d9-f160-4e86-d46d-5d4a2348293e"
      },
      "source": [
        "col = \"Modelo\"\r\n",
        "grouped = dados[col].value_counts().reset_index()\r\n",
        "grouped = grouped.rename(columns = {col : \"count\", \"index\" : col})\r\n",
        "\r\n",
        "## plot\r\n",
        "trace = go.Pie(labels=grouped[col], values=grouped['count'], pull=[0.05, 0], marker=dict(colors=[\"#6ad49b\", \"#a678de\"]))\r\n",
        "layout = go.Layout(title=\"\", height=400, legend=dict(x=0.1, y=1.1))\r\n",
        "fig = go.Figure(data = [trace], layout = layout)\r\n",
        "iplot(fig)"
      ],
      "execution_count": 205,
      "outputs": [
        {
          "output_type": "display_data",
          "data": {
            "text/html": [
              "<html>\n",
              "<head><meta charset=\"utf-8\" /></head>\n",
              "<body>\n",
              "    <div>\n",
              "            <script src=\"https://cdnjs.cloudflare.com/ajax/libs/mathjax/2.7.5/MathJax.js?config=TeX-AMS-MML_SVG\"></script><script type=\"text/javascript\">if (window.MathJax) {MathJax.Hub.Config({SVG: {font: \"STIX-Web\"}});}</script>\n",
              "                <script type=\"text/javascript\">window.PlotlyConfig = {MathJaxConfig: 'local'};</script>\n",
              "        <script src=\"https://cdn.plot.ly/plotly-latest.min.js\"></script>    \n",
              "            <div id=\"be403616-317d-4f2f-b0b1-68ed3ed9e602\" class=\"plotly-graph-div\" style=\"height:400px; width:100%;\"></div>\n",
              "            <script type=\"text/javascript\">\n",
              "                \n",
              "                    window.PLOTLYENV=window.PLOTLYENV || {};\n",
              "                    \n",
              "                if (document.getElementById(\"be403616-317d-4f2f-b0b1-68ed3ed9e602\")) {\n",
              "                    Plotly.newPlot(\n",
              "                        'be403616-317d-4f2f-b0b1-68ed3ed9e602',\n",
              "                        [{\"labels\": [\"Movie\", \"TV Show\"], \"marker\": {\"colors\": [\"#6ad49b\", \"#a678de\"]}, \"pull\": [0.05, 0], \"type\": \"pie\", \"values\": [4951, 2108]}],\n",
              "                        {\"height\": 400, \"legend\": {\"x\": 0.1, \"y\": 1.1}, \"template\": {\"data\": {\"bar\": [{\"error_x\": {\"color\": \"#2a3f5f\"}, \"error_y\": {\"color\": \"#2a3f5f\"}, \"marker\": {\"line\": {\"color\": \"#E5ECF6\", \"width\": 0.5}}, \"type\": \"bar\"}], \"barpolar\": [{\"marker\": {\"line\": {\"color\": \"#E5ECF6\", \"width\": 0.5}}, \"type\": \"barpolar\"}], \"carpet\": [{\"aaxis\": {\"endlinecolor\": \"#2a3f5f\", \"gridcolor\": \"white\", \"linecolor\": \"white\", \"minorgridcolor\": \"white\", \"startlinecolor\": \"#2a3f5f\"}, \"baxis\": {\"endlinecolor\": \"#2a3f5f\", \"gridcolor\": \"white\", \"linecolor\": \"white\", \"minorgridcolor\": \"white\", \"startlinecolor\": \"#2a3f5f\"}, \"type\": \"carpet\"}], \"choropleth\": [{\"colorbar\": {\"outlinewidth\": 0, \"ticks\": \"\"}, \"type\": \"choropleth\"}], \"contour\": [{\"colorbar\": {\"outlinewidth\": 0, \"ticks\": \"\"}, \"colorscale\": [[0.0, \"#0d0887\"], [0.1111111111111111, \"#46039f\"], [0.2222222222222222, \"#7201a8\"], [0.3333333333333333, \"#9c179e\"], [0.4444444444444444, \"#bd3786\"], [0.5555555555555556, \"#d8576b\"], [0.6666666666666666, \"#ed7953\"], [0.7777777777777778, \"#fb9f3a\"], [0.8888888888888888, \"#fdca26\"], [1.0, \"#f0f921\"]], \"type\": \"contour\"}], \"contourcarpet\": [{\"colorbar\": {\"outlinewidth\": 0, \"ticks\": \"\"}, \"type\": \"contourcarpet\"}], \"heatmap\": [{\"colorbar\": {\"outlinewidth\": 0, \"ticks\": \"\"}, \"colorscale\": [[0.0, \"#0d0887\"], [0.1111111111111111, \"#46039f\"], [0.2222222222222222, \"#7201a8\"], [0.3333333333333333, \"#9c179e\"], [0.4444444444444444, \"#bd3786\"], [0.5555555555555556, \"#d8576b\"], [0.6666666666666666, \"#ed7953\"], [0.7777777777777778, \"#fb9f3a\"], [0.8888888888888888, \"#fdca26\"], [1.0, \"#f0f921\"]], \"type\": \"heatmap\"}], \"heatmapgl\": [{\"colorbar\": {\"outlinewidth\": 0, \"ticks\": \"\"}, \"colorscale\": [[0.0, \"#0d0887\"], [0.1111111111111111, \"#46039f\"], [0.2222222222222222, \"#7201a8\"], [0.3333333333333333, \"#9c179e\"], [0.4444444444444444, \"#bd3786\"], [0.5555555555555556, \"#d8576b\"], [0.6666666666666666, \"#ed7953\"], [0.7777777777777778, \"#fb9f3a\"], [0.8888888888888888, \"#fdca26\"], [1.0, \"#f0f921\"]], \"type\": \"heatmapgl\"}], \"histogram\": [{\"marker\": {\"colorbar\": {\"outlinewidth\": 0, \"ticks\": \"\"}}, \"type\": \"histogram\"}], \"histogram2d\": [{\"colorbar\": {\"outlinewidth\": 0, \"ticks\": \"\"}, \"colorscale\": [[0.0, \"#0d0887\"], [0.1111111111111111, \"#46039f\"], [0.2222222222222222, \"#7201a8\"], [0.3333333333333333, \"#9c179e\"], [0.4444444444444444, \"#bd3786\"], [0.5555555555555556, \"#d8576b\"], [0.6666666666666666, \"#ed7953\"], [0.7777777777777778, \"#fb9f3a\"], [0.8888888888888888, \"#fdca26\"], [1.0, \"#f0f921\"]], \"type\": \"histogram2d\"}], \"histogram2dcontour\": [{\"colorbar\": {\"outlinewidth\": 0, \"ticks\": \"\"}, \"colorscale\": [[0.0, \"#0d0887\"], [0.1111111111111111, \"#46039f\"], [0.2222222222222222, \"#7201a8\"], [0.3333333333333333, \"#9c179e\"], [0.4444444444444444, \"#bd3786\"], [0.5555555555555556, \"#d8576b\"], [0.6666666666666666, \"#ed7953\"], [0.7777777777777778, \"#fb9f3a\"], [0.8888888888888888, \"#fdca26\"], [1.0, \"#f0f921\"]], \"type\": \"histogram2dcontour\"}], \"mesh3d\": [{\"colorbar\": {\"outlinewidth\": 0, \"ticks\": \"\"}, \"type\": \"mesh3d\"}], \"parcoords\": [{\"line\": {\"colorbar\": {\"outlinewidth\": 0, \"ticks\": \"\"}}, \"type\": \"parcoords\"}], \"pie\": [{\"automargin\": true, \"type\": \"pie\"}], \"scatter\": [{\"marker\": {\"colorbar\": {\"outlinewidth\": 0, \"ticks\": \"\"}}, \"type\": \"scatter\"}], \"scatter3d\": [{\"line\": {\"colorbar\": {\"outlinewidth\": 0, \"ticks\": \"\"}}, \"marker\": {\"colorbar\": {\"outlinewidth\": 0, \"ticks\": \"\"}}, \"type\": \"scatter3d\"}], \"scattercarpet\": [{\"marker\": {\"colorbar\": {\"outlinewidth\": 0, \"ticks\": \"\"}}, \"type\": \"scattercarpet\"}], \"scattergeo\": [{\"marker\": {\"colorbar\": {\"outlinewidth\": 0, \"ticks\": \"\"}}, \"type\": \"scattergeo\"}], \"scattergl\": [{\"marker\": {\"colorbar\": {\"outlinewidth\": 0, \"ticks\": \"\"}}, \"type\": \"scattergl\"}], \"scattermapbox\": [{\"marker\": {\"colorbar\": {\"outlinewidth\": 0, \"ticks\": \"\"}}, \"type\": \"scattermapbox\"}], \"scatterpolar\": [{\"marker\": {\"colorbar\": {\"outlinewidth\": 0, \"ticks\": \"\"}}, \"type\": \"scatterpolar\"}], \"scatterpolargl\": [{\"marker\": {\"colorbar\": {\"outlinewidth\": 0, \"ticks\": \"\"}}, \"type\": \"scatterpolargl\"}], \"scatterternary\": [{\"marker\": {\"colorbar\": {\"outlinewidth\": 0, \"ticks\": \"\"}}, \"type\": \"scatterternary\"}], \"surface\": [{\"colorbar\": {\"outlinewidth\": 0, \"ticks\": \"\"}, \"colorscale\": [[0.0, \"#0d0887\"], [0.1111111111111111, \"#46039f\"], [0.2222222222222222, \"#7201a8\"], [0.3333333333333333, \"#9c179e\"], [0.4444444444444444, \"#bd3786\"], [0.5555555555555556, \"#d8576b\"], [0.6666666666666666, \"#ed7953\"], [0.7777777777777778, \"#fb9f3a\"], [0.8888888888888888, \"#fdca26\"], [1.0, \"#f0f921\"]], \"type\": \"surface\"}], \"table\": [{\"cells\": {\"fill\": {\"color\": \"#EBF0F8\"}, \"line\": {\"color\": \"white\"}}, \"header\": {\"fill\": {\"color\": \"#C8D4E3\"}, \"line\": {\"color\": \"white\"}}, \"type\": \"table\"}]}, \"layout\": {\"annotationdefaults\": {\"arrowcolor\": \"#2a3f5f\", \"arrowhead\": 0, \"arrowwidth\": 1}, \"coloraxis\": {\"colorbar\": {\"outlinewidth\": 0, \"ticks\": \"\"}}, \"colorscale\": {\"diverging\": [[0, \"#8e0152\"], [0.1, \"#c51b7d\"], [0.2, \"#de77ae\"], [0.3, \"#f1b6da\"], [0.4, \"#fde0ef\"], [0.5, \"#f7f7f7\"], [0.6, \"#e6f5d0\"], [0.7, \"#b8e186\"], [0.8, \"#7fbc41\"], [0.9, \"#4d9221\"], [1, \"#276419\"]], \"sequential\": [[0.0, \"#0d0887\"], [0.1111111111111111, \"#46039f\"], [0.2222222222222222, \"#7201a8\"], [0.3333333333333333, \"#9c179e\"], [0.4444444444444444, \"#bd3786\"], [0.5555555555555556, \"#d8576b\"], [0.6666666666666666, \"#ed7953\"], [0.7777777777777778, \"#fb9f3a\"], [0.8888888888888888, \"#fdca26\"], [1.0, \"#f0f921\"]], \"sequentialminus\": [[0.0, \"#0d0887\"], [0.1111111111111111, \"#46039f\"], [0.2222222222222222, \"#7201a8\"], [0.3333333333333333, \"#9c179e\"], [0.4444444444444444, \"#bd3786\"], [0.5555555555555556, \"#d8576b\"], [0.6666666666666666, \"#ed7953\"], [0.7777777777777778, \"#fb9f3a\"], [0.8888888888888888, \"#fdca26\"], [1.0, \"#f0f921\"]]}, \"colorway\": [\"#636efa\", \"#EF553B\", \"#00cc96\", \"#ab63fa\", \"#FFA15A\", \"#19d3f3\", \"#FF6692\", \"#B6E880\", \"#FF97FF\", \"#FECB52\"], \"font\": {\"color\": \"#2a3f5f\"}, \"geo\": {\"bgcolor\": \"white\", \"lakecolor\": \"white\", \"landcolor\": \"#E5ECF6\", \"showlakes\": true, \"showland\": true, \"subunitcolor\": \"white\"}, \"hoverlabel\": {\"align\": \"left\"}, \"hovermode\": \"closest\", \"mapbox\": {\"style\": \"light\"}, \"paper_bgcolor\": \"white\", \"plot_bgcolor\": \"#E5ECF6\", \"polar\": {\"angularaxis\": {\"gridcolor\": \"white\", \"linecolor\": \"white\", \"ticks\": \"\"}, \"bgcolor\": \"#E5ECF6\", \"radialaxis\": {\"gridcolor\": \"white\", \"linecolor\": \"white\", \"ticks\": \"\"}}, \"scene\": {\"xaxis\": {\"backgroundcolor\": \"#E5ECF6\", \"gridcolor\": \"white\", \"gridwidth\": 2, \"linecolor\": \"white\", \"showbackground\": true, \"ticks\": \"\", \"zerolinecolor\": \"white\"}, \"yaxis\": {\"backgroundcolor\": \"#E5ECF6\", \"gridcolor\": \"white\", \"gridwidth\": 2, \"linecolor\": \"white\", \"showbackground\": true, \"ticks\": \"\", \"zerolinecolor\": \"white\"}, \"zaxis\": {\"backgroundcolor\": \"#E5ECF6\", \"gridcolor\": \"white\", \"gridwidth\": 2, \"linecolor\": \"white\", \"showbackground\": true, \"ticks\": \"\", \"zerolinecolor\": \"white\"}}, \"shapedefaults\": {\"line\": {\"color\": \"#2a3f5f\"}}, \"ternary\": {\"aaxis\": {\"gridcolor\": \"white\", \"linecolor\": \"white\", \"ticks\": \"\"}, \"baxis\": {\"gridcolor\": \"white\", \"linecolor\": \"white\", \"ticks\": \"\"}, \"bgcolor\": \"#E5ECF6\", \"caxis\": {\"gridcolor\": \"white\", \"linecolor\": \"white\", \"ticks\": \"\"}}, \"title\": {\"x\": 0.05}, \"xaxis\": {\"automargin\": true, \"gridcolor\": \"white\", \"linecolor\": \"white\", \"ticks\": \"\", \"title\": {\"standoff\": 15}, \"zerolinecolor\": \"white\", \"zerolinewidth\": 2}, \"yaxis\": {\"automargin\": true, \"gridcolor\": \"white\", \"linecolor\": \"white\", \"ticks\": \"\", \"title\": {\"standoff\": 15}, \"zerolinecolor\": \"white\", \"zerolinewidth\": 2}}}, \"title\": {\"text\": \"\"}},\n",
              "                        {\"responsive\": true}\n",
              "                    ).then(function(){\n",
              "                            \n",
              "var gd = document.getElementById('be403616-317d-4f2f-b0b1-68ed3ed9e602');\n",
              "var x = new MutationObserver(function (mutations, observer) {{\n",
              "        var display = window.getComputedStyle(gd).display;\n",
              "        if (!display || display === 'none') {{\n",
              "            console.log([gd, 'removed!']);\n",
              "            Plotly.purge(gd);\n",
              "            observer.disconnect();\n",
              "        }}\n",
              "}});\n",
              "\n",
              "// Listen for the removal of the full notebook cells\n",
              "var notebookContainer = gd.closest('#notebook-container');\n",
              "if (notebookContainer) {{\n",
              "    x.observe(notebookContainer, {childList: true});\n",
              "}}\n",
              "\n",
              "// Listen for the clearing of the current output cell\n",
              "var outputEl = gd.closest('.output');\n",
              "if (outputEl) {{\n",
              "    x.observe(outputEl, {childList: true});\n",
              "}}\n",
              "\n",
              "                        })\n",
              "                };\n",
              "                \n",
              "            </script>\n",
              "        </div>\n",
              "</body>\n",
              "</html>"
            ]
          },
          "metadata": {
            "tags": []
          }
        }
      ]
    },
    {
      "cell_type": "code",
      "metadata": {
        "colab": {
          "base_uri": "https://localhost:8080/",
          "height": 542
        },
        "id": "EXDAdANKeOzk",
        "outputId": "e65b1997-5e74-4891-b229-ad74dedc177b"
      },
      "source": [
        "d1 = dados[dados[\"Modelo\"] == \"TV Show\"]\r\n",
        "d2 = dados[dados[\"Modelo\"] == \"Movie\"]\r\n",
        "\r\n",
        "col = \"Ano_de_lançamento\"\r\n",
        "\r\n",
        "vc1 = d1[col].value_counts().reset_index()\r\n",
        "vc1 = vc1.rename(columns = {col : \"count\", \"index\" : col})\r\n",
        "vc1['percent'] = vc1['count'].apply(lambda x : 100*x/sum(vc1['count']))\r\n",
        "vc1 = vc1.sort_values(col)\r\n",
        "\r\n",
        "vc2 = d2[col].value_counts().reset_index()\r\n",
        "vc2 = vc2.rename(columns = {col : \"count\", \"index\" : col})\r\n",
        "vc2['percent'] = vc2['count'].apply(lambda x : 100*x/sum(vc2['count']))\r\n",
        "vc2 = vc2.sort_values(col)\r\n",
        "\r\n",
        "trace1 = go.Scatter(x=vc1[col], y=vc1[\"count\"], name=\"TV Shows\", marker=dict(color=\"#a678de\"))\r\n",
        "trace2 = go.Scatter(x=vc2[col], y=vc2[\"count\"], name=\"Movies\", marker=dict(color=\"#6ad49b\"))\r\n",
        "data = [trace1, trace2]\r\n",
        "layout = go.Layout(title=\"Conteúdo adicionado ao longo dos anos\", legend=dict(x=0.1, y=1.1, orientation=\"h\"))\r\n",
        "fig = go.Figure(data, layout=layout)\r\n",
        "fig.show()"
      ],
      "execution_count": 213,
      "outputs": [
        {
          "output_type": "display_data",
          "data": {
            "text/html": [
              "<html>\n",
              "<head><meta charset=\"utf-8\" /></head>\n",
              "<body>\n",
              "    <div>\n",
              "            <script src=\"https://cdnjs.cloudflare.com/ajax/libs/mathjax/2.7.5/MathJax.js?config=TeX-AMS-MML_SVG\"></script><script type=\"text/javascript\">if (window.MathJax) {MathJax.Hub.Config({SVG: {font: \"STIX-Web\"}});}</script>\n",
              "                <script type=\"text/javascript\">window.PlotlyConfig = {MathJaxConfig: 'local'};</script>\n",
              "        <script src=\"https://cdn.plot.ly/plotly-latest.min.js\"></script>    \n",
              "            <div id=\"91f33c7f-199f-44ba-81ac-922d165a0e72\" class=\"plotly-graph-div\" style=\"height:525px; width:100%;\"></div>\n",
              "            <script type=\"text/javascript\">\n",
              "                \n",
              "                    window.PLOTLYENV=window.PLOTLYENV || {};\n",
              "                    \n",
              "                if (document.getElementById(\"91f33c7f-199f-44ba-81ac-922d165a0e72\")) {\n",
              "                    Plotly.newPlot(\n",
              "                        '91f33c7f-199f-44ba-81ac-922d165a0e72',\n",
              "                        [{\"marker\": {\"color\": \"#a678de\"}, \"name\": \"TV Shows\", \"type\": \"scatter\", \"x\": [1963, 1967, 1968, 1972, 1974, 1977, 1979, 1981, 1985, 1986, 1988, 1989, 1990, 1991, 1992, 1993, 1994, 1995, 1996, 1997, 1998, 1999, 2000, 2001, 2002, 2003, 2004, 2005, 2006, 2007, 2008, 2009, 2010, 2011, 2012, 2013, 2014, 2015, 2016, 2017, 2018, 2019, 2020, 2021], \"y\": [1, 1, 1, 1, 1, 1, 1, 1, 1, 2, 1, 1, 3, 1, 2, 3, 1, 2, 3, 4, 4, 7, 4, 3, 6, 7, 8, 11, 12, 11, 21, 33, 34, 37, 54, 61, 80, 146, 210, 239, 333, 361, 379, 15]}, {\"marker\": {\"color\": \"#6ad49b\"}, \"name\": \"Movies\", \"type\": \"scatter\", \"x\": [1942, 1944, 1945, 1946, 1947, 1954, 1955, 1956, 1958, 1959, 1960, 1962, 1963, 1964, 1965, 1966, 1967, 1968, 1969, 1970, 1971, 1972, 1973, 1974, 1975, 1976, 1977, 1978, 1979, 1980, 1981, 1982, 1983, 1984, 1985, 1986, 1987, 1988, 1989, 1990, 1991, 1992, 1993, 1994, 1995, 1996, 1997, 1998, 1999, 2000, 2001, 2002, 2003, 2004, 2005, 2006, 2007, 2008, 2009, 2010, 2011, 2012, 2013, 2014, 2015, 2016, 2017, 2018, 2019, 2020, 2021], \"y\": [1, 1, 1, 1, 1, 2, 3, 2, 3, 1, 4, 3, 1, 1, 2, 1, 4, 3, 2, 2, 5, 3, 10, 6, 6, 9, 5, 6, 9, 9, 8, 15, 9, 9, 8, 8, 7, 14, 12, 16, 16, 16, 17, 14, 17, 16, 26, 27, 26, 30, 32, 39, 40, 50, 60, 72, 69, 102, 103, 129, 124, 153, 186, 230, 348, 572, 654, 666, 521, 374, 9]}],\n",
              "                        {\"legend\": {\"orientation\": \"h\", \"x\": 0.1, \"y\": 1.1}, \"template\": {\"data\": {\"bar\": [{\"error_x\": {\"color\": \"#2a3f5f\"}, \"error_y\": {\"color\": \"#2a3f5f\"}, \"marker\": {\"line\": {\"color\": \"#E5ECF6\", \"width\": 0.5}}, \"type\": \"bar\"}], \"barpolar\": [{\"marker\": {\"line\": {\"color\": \"#E5ECF6\", \"width\": 0.5}}, \"type\": \"barpolar\"}], \"carpet\": [{\"aaxis\": {\"endlinecolor\": \"#2a3f5f\", \"gridcolor\": \"white\", \"linecolor\": \"white\", \"minorgridcolor\": \"white\", \"startlinecolor\": \"#2a3f5f\"}, \"baxis\": {\"endlinecolor\": \"#2a3f5f\", \"gridcolor\": \"white\", \"linecolor\": \"white\", \"minorgridcolor\": \"white\", \"startlinecolor\": \"#2a3f5f\"}, \"type\": \"carpet\"}], \"choropleth\": [{\"colorbar\": {\"outlinewidth\": 0, \"ticks\": \"\"}, \"type\": \"choropleth\"}], \"contour\": [{\"colorbar\": {\"outlinewidth\": 0, \"ticks\": \"\"}, \"colorscale\": [[0.0, \"#0d0887\"], [0.1111111111111111, \"#46039f\"], [0.2222222222222222, \"#7201a8\"], [0.3333333333333333, \"#9c179e\"], [0.4444444444444444, \"#bd3786\"], [0.5555555555555556, \"#d8576b\"], [0.6666666666666666, \"#ed7953\"], [0.7777777777777778, \"#fb9f3a\"], [0.8888888888888888, \"#fdca26\"], [1.0, \"#f0f921\"]], \"type\": \"contour\"}], \"contourcarpet\": [{\"colorbar\": {\"outlinewidth\": 0, \"ticks\": \"\"}, \"type\": \"contourcarpet\"}], \"heatmap\": [{\"colorbar\": {\"outlinewidth\": 0, \"ticks\": \"\"}, \"colorscale\": [[0.0, \"#0d0887\"], [0.1111111111111111, \"#46039f\"], [0.2222222222222222, \"#7201a8\"], [0.3333333333333333, \"#9c179e\"], [0.4444444444444444, \"#bd3786\"], [0.5555555555555556, \"#d8576b\"], [0.6666666666666666, \"#ed7953\"], [0.7777777777777778, \"#fb9f3a\"], [0.8888888888888888, \"#fdca26\"], [1.0, \"#f0f921\"]], \"type\": \"heatmap\"}], \"heatmapgl\": [{\"colorbar\": {\"outlinewidth\": 0, \"ticks\": \"\"}, \"colorscale\": [[0.0, \"#0d0887\"], [0.1111111111111111, \"#46039f\"], [0.2222222222222222, \"#7201a8\"], [0.3333333333333333, \"#9c179e\"], [0.4444444444444444, \"#bd3786\"], [0.5555555555555556, \"#d8576b\"], [0.6666666666666666, \"#ed7953\"], [0.7777777777777778, \"#fb9f3a\"], [0.8888888888888888, \"#fdca26\"], [1.0, \"#f0f921\"]], \"type\": \"heatmapgl\"}], \"histogram\": [{\"marker\": {\"colorbar\": {\"outlinewidth\": 0, \"ticks\": \"\"}}, \"type\": \"histogram\"}], \"histogram2d\": [{\"colorbar\": {\"outlinewidth\": 0, \"ticks\": \"\"}, \"colorscale\": [[0.0, \"#0d0887\"], [0.1111111111111111, \"#46039f\"], [0.2222222222222222, \"#7201a8\"], [0.3333333333333333, \"#9c179e\"], [0.4444444444444444, \"#bd3786\"], [0.5555555555555556, \"#d8576b\"], [0.6666666666666666, \"#ed7953\"], [0.7777777777777778, \"#fb9f3a\"], [0.8888888888888888, \"#fdca26\"], [1.0, \"#f0f921\"]], \"type\": \"histogram2d\"}], \"histogram2dcontour\": [{\"colorbar\": {\"outlinewidth\": 0, \"ticks\": \"\"}, \"colorscale\": [[0.0, \"#0d0887\"], [0.1111111111111111, \"#46039f\"], [0.2222222222222222, \"#7201a8\"], [0.3333333333333333, \"#9c179e\"], [0.4444444444444444, \"#bd3786\"], [0.5555555555555556, \"#d8576b\"], [0.6666666666666666, \"#ed7953\"], [0.7777777777777778, \"#fb9f3a\"], [0.8888888888888888, \"#fdca26\"], [1.0, \"#f0f921\"]], \"type\": \"histogram2dcontour\"}], \"mesh3d\": [{\"colorbar\": {\"outlinewidth\": 0, \"ticks\": \"\"}, \"type\": \"mesh3d\"}], \"parcoords\": [{\"line\": {\"colorbar\": {\"outlinewidth\": 0, \"ticks\": \"\"}}, \"type\": \"parcoords\"}], \"pie\": [{\"automargin\": true, \"type\": \"pie\"}], \"scatter\": [{\"marker\": {\"colorbar\": {\"outlinewidth\": 0, \"ticks\": \"\"}}, \"type\": \"scatter\"}], \"scatter3d\": [{\"line\": {\"colorbar\": {\"outlinewidth\": 0, \"ticks\": \"\"}}, \"marker\": {\"colorbar\": {\"outlinewidth\": 0, \"ticks\": \"\"}}, \"type\": \"scatter3d\"}], \"scattercarpet\": [{\"marker\": {\"colorbar\": {\"outlinewidth\": 0, \"ticks\": \"\"}}, \"type\": \"scattercarpet\"}], \"scattergeo\": [{\"marker\": {\"colorbar\": {\"outlinewidth\": 0, \"ticks\": \"\"}}, \"type\": \"scattergeo\"}], \"scattergl\": [{\"marker\": {\"colorbar\": {\"outlinewidth\": 0, \"ticks\": \"\"}}, \"type\": \"scattergl\"}], \"scattermapbox\": [{\"marker\": {\"colorbar\": {\"outlinewidth\": 0, \"ticks\": \"\"}}, \"type\": \"scattermapbox\"}], \"scatterpolar\": [{\"marker\": {\"colorbar\": {\"outlinewidth\": 0, \"ticks\": \"\"}}, \"type\": \"scatterpolar\"}], \"scatterpolargl\": [{\"marker\": {\"colorbar\": {\"outlinewidth\": 0, \"ticks\": \"\"}}, \"type\": \"scatterpolargl\"}], \"scatterternary\": [{\"marker\": {\"colorbar\": {\"outlinewidth\": 0, \"ticks\": \"\"}}, \"type\": \"scatterternary\"}], \"surface\": [{\"colorbar\": {\"outlinewidth\": 0, \"ticks\": \"\"}, \"colorscale\": [[0.0, \"#0d0887\"], [0.1111111111111111, \"#46039f\"], [0.2222222222222222, \"#7201a8\"], [0.3333333333333333, \"#9c179e\"], [0.4444444444444444, \"#bd3786\"], [0.5555555555555556, \"#d8576b\"], [0.6666666666666666, \"#ed7953\"], [0.7777777777777778, \"#fb9f3a\"], [0.8888888888888888, \"#fdca26\"], [1.0, \"#f0f921\"]], \"type\": \"surface\"}], \"table\": [{\"cells\": {\"fill\": {\"color\": \"#EBF0F8\"}, \"line\": {\"color\": \"white\"}}, \"header\": {\"fill\": {\"color\": \"#C8D4E3\"}, \"line\": {\"color\": \"white\"}}, \"type\": \"table\"}]}, \"layout\": {\"annotationdefaults\": {\"arrowcolor\": \"#2a3f5f\", \"arrowhead\": 0, \"arrowwidth\": 1}, \"coloraxis\": {\"colorbar\": {\"outlinewidth\": 0, \"ticks\": \"\"}}, \"colorscale\": {\"diverging\": [[0, \"#8e0152\"], [0.1, \"#c51b7d\"], [0.2, \"#de77ae\"], [0.3, \"#f1b6da\"], [0.4, \"#fde0ef\"], [0.5, \"#f7f7f7\"], [0.6, \"#e6f5d0\"], [0.7, \"#b8e186\"], [0.8, \"#7fbc41\"], [0.9, \"#4d9221\"], [1, \"#276419\"]], \"sequential\": [[0.0, \"#0d0887\"], [0.1111111111111111, \"#46039f\"], [0.2222222222222222, \"#7201a8\"], [0.3333333333333333, \"#9c179e\"], [0.4444444444444444, \"#bd3786\"], [0.5555555555555556, \"#d8576b\"], [0.6666666666666666, \"#ed7953\"], [0.7777777777777778, \"#fb9f3a\"], [0.8888888888888888, \"#fdca26\"], [1.0, \"#f0f921\"]], \"sequentialminus\": [[0.0, \"#0d0887\"], [0.1111111111111111, \"#46039f\"], [0.2222222222222222, \"#7201a8\"], [0.3333333333333333, \"#9c179e\"], [0.4444444444444444, \"#bd3786\"], [0.5555555555555556, \"#d8576b\"], [0.6666666666666666, \"#ed7953\"], [0.7777777777777778, \"#fb9f3a\"], [0.8888888888888888, \"#fdca26\"], [1.0, \"#f0f921\"]]}, \"colorway\": [\"#636efa\", \"#EF553B\", \"#00cc96\", \"#ab63fa\", \"#FFA15A\", \"#19d3f3\", \"#FF6692\", \"#B6E880\", \"#FF97FF\", \"#FECB52\"], \"font\": {\"color\": \"#2a3f5f\"}, \"geo\": {\"bgcolor\": \"white\", \"lakecolor\": \"white\", \"landcolor\": \"#E5ECF6\", \"showlakes\": true, \"showland\": true, \"subunitcolor\": \"white\"}, \"hoverlabel\": {\"align\": \"left\"}, \"hovermode\": \"closest\", \"mapbox\": {\"style\": \"light\"}, \"paper_bgcolor\": \"white\", \"plot_bgcolor\": \"#E5ECF6\", \"polar\": {\"angularaxis\": {\"gridcolor\": \"white\", \"linecolor\": \"white\", \"ticks\": \"\"}, \"bgcolor\": \"#E5ECF6\", \"radialaxis\": {\"gridcolor\": \"white\", \"linecolor\": \"white\", \"ticks\": \"\"}}, \"scene\": {\"xaxis\": {\"backgroundcolor\": \"#E5ECF6\", \"gridcolor\": \"white\", \"gridwidth\": 2, \"linecolor\": \"white\", \"showbackground\": true, \"ticks\": \"\", \"zerolinecolor\": \"white\"}, \"yaxis\": {\"backgroundcolor\": \"#E5ECF6\", \"gridcolor\": \"white\", \"gridwidth\": 2, \"linecolor\": \"white\", \"showbackground\": true, \"ticks\": \"\", \"zerolinecolor\": \"white\"}, \"zaxis\": {\"backgroundcolor\": \"#E5ECF6\", \"gridcolor\": \"white\", \"gridwidth\": 2, \"linecolor\": \"white\", \"showbackground\": true, \"ticks\": \"\", \"zerolinecolor\": \"white\"}}, \"shapedefaults\": {\"line\": {\"color\": \"#2a3f5f\"}}, \"ternary\": {\"aaxis\": {\"gridcolor\": \"white\", \"linecolor\": \"white\", \"ticks\": \"\"}, \"baxis\": {\"gridcolor\": \"white\", \"linecolor\": \"white\", \"ticks\": \"\"}, \"bgcolor\": \"#E5ECF6\", \"caxis\": {\"gridcolor\": \"white\", \"linecolor\": \"white\", \"ticks\": \"\"}}, \"title\": {\"x\": 0.05}, \"xaxis\": {\"automargin\": true, \"gridcolor\": \"white\", \"linecolor\": \"white\", \"ticks\": \"\", \"title\": {\"standoff\": 15}, \"zerolinecolor\": \"white\", \"zerolinewidth\": 2}, \"yaxis\": {\"automargin\": true, \"gridcolor\": \"white\", \"linecolor\": \"white\", \"ticks\": \"\", \"title\": {\"standoff\": 15}, \"zerolinecolor\": \"white\", \"zerolinewidth\": 2}}}, \"title\": {\"text\": \"Conte\\u00fado adicionado ao longo dos anos\"}},\n",
              "                        {\"responsive\": true}\n",
              "                    ).then(function(){\n",
              "                            \n",
              "var gd = document.getElementById('91f33c7f-199f-44ba-81ac-922d165a0e72');\n",
              "var x = new MutationObserver(function (mutations, observer) {{\n",
              "        var display = window.getComputedStyle(gd).display;\n",
              "        if (!display || display === 'none') {{\n",
              "            console.log([gd, 'removed!']);\n",
              "            Plotly.purge(gd);\n",
              "            observer.disconnect();\n",
              "        }}\n",
              "}});\n",
              "\n",
              "// Listen for the removal of the full notebook cells\n",
              "var notebookContainer = gd.closest('#notebook-container');\n",
              "if (notebookContainer) {{\n",
              "    x.observe(notebookContainer, {childList: true});\n",
              "}}\n",
              "\n",
              "// Listen for the clearing of the current output cell\n",
              "var outputEl = gd.closest('.output');\n",
              "if (outputEl) {{\n",
              "    x.observe(outputEl, {childList: true});\n",
              "}}\n",
              "\n",
              "                        })\n",
              "                };\n",
              "                \n",
              "            </script>\n",
              "        </div>\n",
              "</body>\n",
              "</html>"
            ]
          },
          "metadata": {
            "tags": []
          }
        }
      ]
    },
    {
      "cell_type": "markdown",
      "metadata": {
        "id": "_m49J7WfiZG8"
      },
      "source": [
        "Ano de lançamento original dos **filmes**"
      ]
    },
    {
      "cell_type": "code",
      "metadata": {
        "colab": {
          "base_uri": "https://localhost:8080/",
          "height": 502
        },
        "id": "tBgBOMuFePbx",
        "outputId": "c03b5d0f-2c36-4072-eee0-0c1104e1fd43"
      },
      "source": [
        "matplotlib.pyplot.plot(dados.Ano_de_lançamento)"
      ],
      "execution_count": 216,
      "outputs": [
        {
          "output_type": "execute_result",
          "data": {
            "text/plain": [
              "[<matplotlib.lines.Line2D at 0x7ffadef8add0>]"
            ]
          },
          "metadata": {
            "tags": []
          },
          "execution_count": 216
        },
        {
          "output_type": "display_data",
          "data": {
            "image/png": "[encoded data removed]",
            "text/plain": [
              "<Figure size 576x576 with 1 Axes>"
            ]
          },
          "metadata": {
            "tags": []
          }
        }
      ]
    },
    {
      "cell_type": "code",
      "metadata": {
        "id": "8YHUSCGtjUde"
      },
      "source": [
        ""
      ],
      "execution_count": null,
      "outputs": []
    }
  ]
}