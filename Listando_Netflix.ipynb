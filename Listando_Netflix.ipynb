{
  "nbformat": 4,
  "nbformat_minor": 0,
  "metadata": {
    "colab": {
      "name": "Listando_Netflix.ipynb",
      "private_outputs": true,
      "provenance": [],
      "authorship_tag": "ABX9TyPJq9vdpymPkvCQrf2H1e/G",
      "include_colab_link": true
    },
    "kernelspec": {
      "name": "python3",
      "display_name": "Python 3"
    }
  },
  "cells": [
    {
      "cell_type": "markdown",
      "metadata": {
        "id": "view-in-github",
        "colab_type": "text"
      },
      "source": [
        "<a href=\"https://colab.research.google.com/github/eduardosousa1992/Trabalhando_com_dados_Netflix/blob/main/Listando_Netflix.ipynb\" target=\"_parent\"><img src=\"https://colab.research.google.com/assets/colab-badge.svg\" alt=\"Open In Colab\"/></a>"
      ]
    },
    {
      "cell_type": "code",
      "metadata": {
        "id": "GY9txiQFO_Dj"
      },
      "source": [
        "import pandas as pd\r\n",
        "import matplotlib.pyplot as plt\r\n",
        "import seaborn as sns\r\n",
        "import numpy as np"
      ],
      "execution_count": null,
      "outputs": []
    },
    {
      "cell_type": "code",
      "metadata": {
        "id": "nhauR9e1WHyk"
      },
      "source": [
        "dados = pd.read_csv('netflix_titles.csv')"
      ],
      "execution_count": null,
      "outputs": []
    },
    {
      "cell_type": "code",
      "metadata": {
        "id": "PF9CVRdsWszP"
      },
      "source": [
        "dados"
      ],
      "execution_count": null,
      "outputs": []
    },
    {
      "cell_type": "code",
      "metadata": {
        "id": "4-rpRCWyWt3z"
      },
      "source": [
        "dados.head()"
      ],
      "execution_count": null,
      "outputs": []
    },
    {
      "cell_type": "code",
      "metadata": {
        "id": "UORdxmYJW0Ts"
      },
      "source": [
        "from scipy.special import comb"
      ],
      "execution_count": null,
      "outputs": []
    },
    {
      "cell_type": "code",
      "metadata": {
        "id": "HB6sBaCZXKIH"
      },
      "source": [
        "dados.columns = [\"show_id\", \"Modelo\", \"Título\", \"Diretor\", \"Elenco\", \"País\", \"Data_Adicionado\", \"Ano_de_lançamento\",\"Avaliação\", \"Duração\", \"Listados_em\", \"Descrição\"]"
      ],
      "execution_count": null,
      "outputs": []
    },
    {
      "cell_type": "code",
      "metadata": {
        "id": "9HsAcsdHZ2rL"
      },
      "source": [
        "dados.head()"
      ],
      "execution_count": null,
      "outputs": []
    },
    {
      "cell_type": "code",
      "metadata": {
        "id": "Poag4ELSZ58T"
      },
      "source": [
        "dados[\"Título\"]"
      ],
      "execution_count": null,
      "outputs": []
    },
    {
      "cell_type": "code",
      "metadata": {
        "id": "wi_A33woaMmV"
      },
      "source": [
        "dados[\"Título\"].unique()"
      ],
      "execution_count": null,
      "outputs": []
    },
    {
      "cell_type": "code",
      "metadata": {
        "id": "3aRZBhs2asdD"
      },
      "source": [
        "dados.País"
      ],
      "execution_count": null,
      "outputs": []
    },
    {
      "cell_type": "code",
      "metadata": {
        "id": "51RDqy4XbBmO"
      },
      "source": [
        "dados[\"País\"].unique()"
      ],
      "execution_count": null,
      "outputs": []
    },
    {
      "cell_type": "code",
      "metadata": {
        "id": "v4s9aOjobGK2"
      },
      "source": [
        "dados[\"País\"].value_counts()"
      ],
      "execution_count": null,
      "outputs": []
    },
    {
      "cell_type": "code",
      "metadata": {
        "id": "wRGWn6v8br2S"
      },
      "source": [
        "dados[\"Ano_de_lançamento\"].mean()"
      ],
      "execution_count": null,
      "outputs": []
    },
    {
      "cell_type": "code",
      "metadata": {
        "id": "ttz5uz6kb7zx"
      },
      "source": [
        "dados[\"Ano_de_lançamento\"]"
      ],
      "execution_count": null,
      "outputs": []
    },
    {
      "cell_type": "code",
      "metadata": {
        "id": "ux6yKPr1cYqF"
      },
      "source": [
        "dados.Ano_de_lançamento.plot()"
      ],
      "execution_count": null,
      "outputs": []
    },
    {
      "cell_type": "code",
      "metadata": {
        "id": "TZv827SecmH7"
      },
      "source": [
        "dados.Ano_de_lançamento.plot(kind='hist')"
      ],
      "execution_count": null,
      "outputs": []
    },
    {
      "cell_type": "code",
      "metadata": {
        "id": "g8CKMplYcx5C"
      },
      "source": [
        "dados.sample(3)"
      ],
      "execution_count": null,
      "outputs": []
    },
    {
      "cell_type": "code",
      "metadata": {
        "id": "8gS37B37dTRy"
      },
      "source": [
        "cnt_tmp = dados.groupby('Modelo')['Ano_de_lançamento'].value_counts().unstack().fillna(0).astype(int).T\r\n",
        "movie_count, tvshow_count = cnt_tmp['Movie'], cnt_tmp['TV Show']"
      ],
      "execution_count": null,
      "outputs": []
    },
    {
      "cell_type": "code",
      "metadata": {
        "id": "kt-68cW0eCMW"
      },
      "source": [
        "cnt_tmp"
      ],
      "execution_count": null,
      "outputs": []
    },
    {
      "cell_type": "code",
      "metadata": {
        "id": "CA_s11CdeaET"
      },
      "source": [
        "movie_count = dados[dados['Modelo']=='Movie']['Ano_de_lançamento'].value_counts().sort_index()"
      ],
      "execution_count": null,
      "outputs": []
    },
    {
      "cell_type": "code",
      "metadata": {
        "id": "3gaI8t01e18P"
      },
      "source": [
        "movie_count"
      ],
      "execution_count": null,
      "outputs": []
    },
    {
      "cell_type": "code",
      "metadata": {
        "id": "dyhjwQJlfE-G"
      },
      "source": [
        "tvshow_count = dados[dados['Modelo']=='TV Show']['Ano_de_lançamento'].value_counts().sort_index()"
      ],
      "execution_count": null,
      "outputs": []
    },
    {
      "cell_type": "code",
      "metadata": {
        "id": "loEm0VjrfRI5"
      },
      "source": [
        "tvshow_count"
      ],
      "execution_count": null,
      "outputs": []
    },
    {
      "cell_type": "code",
      "metadata": {
        "id": "T2-OxZuFfW3Z"
      },
      "source": [
        "print (\"Media\", dados[\"Ano_de_lançamento\"].mean())\r\n",
        "print (\"Mediana\", dados[\"Ano_de_lançamento\"].median())"
      ],
      "execution_count": null,
      "outputs": []
    },
    {
      "cell_type": "code",
      "metadata": {
        "id": "39f0OsBufxFy"
      },
      "source": [
        "dados.Ano_de_lançamento.describe()"
      ],
      "execution_count": null,
      "outputs": []
    },
    {
      "cell_type": "code",
      "metadata": {
        "id": "InDtZiROgN3T"
      },
      "source": [
        "sns.boxplot(dados.Ano_de_lançamento)"
      ],
      "execution_count": null,
      "outputs": []
    },
    {
      "cell_type": "code",
      "metadata": {
        "id": "cD7e-0ibhD5M"
      },
      "source": [
        "import numpy as np\r\n",
        "import pandas as pd\r\n",
        "import seaborn as sns\r\n",
        "import matplotlib.pyplot as plt"
      ],
      "execution_count": null,
      "outputs": []
    },
    {
      "cell_type": "code",
      "metadata": {
        "id": "l2GnomHVhUNC"
      },
      "source": [
        "import matplotlib.pyplot as plt"
      ],
      "execution_count": null,
      "outputs": []
    },
    {
      "cell_type": "code",
      "metadata": {
        "id": "G53EFdPihaKw"
      },
      "source": [
        "sns.distplot(dados.Ano_de_lançamento)"
      ],
      "execution_count": null,
      "outputs": []
    },
    {
      "cell_type": "code",
      "metadata": {
        "id": "bKgnspQJhhI8"
      },
      "source": [
        "sns.distplot(dados.Ano_de_lançamento)\r\n",
        "sns.distplot(dados.Ano_de_lançamento, kde=False)"
      ],
      "execution_count": null,
      "outputs": []
    },
    {
      "cell_type": "code",
      "metadata": {
        "id": "n4Moc13nhxPm"
      },
      "source": [
        "\r\n",
        "sns.countplot(dados.Ano_de_lançamento)"
      ],
      "execution_count": null,
      "outputs": []
    },
    {
      "cell_type": "code",
      "metadata": {
        "id": "hbhtYDf4h7hE"
      },
      "source": [
        "sns.distplot(dados.Ano_de_lançamento)\r\n",
        "sns.distplot(dados.Ano_de_lançamento, kde=False)"
      ],
      "execution_count": null,
      "outputs": []
    },
    {
      "cell_type": "code",
      "metadata": {
        "id": "v_1zCDJKiKon"
      },
      "source": [
        "fig, ax = plt.subplots(1, 1, figsize=(15, 7))\r\n",
        "ax.bar(movie_count.index, movie_count, label='Movie') # Label for legend\r\n",
        "ax.set_title('Netflix Movie/TV Show per Years') # Título\r\n",
        "ax.set_xlabel('Ano_de_lançamento') # Label\r\n",
        "ax.set_ylabel('# of Movies/Tv Shows')\r\n",
        "ax.legend() # Legend\r\n",
        "plt.show()"
      ],
      "execution_count": null,
      "outputs": []
    },
    {
      "cell_type": "code",
      "metadata": {
        "id": "dQHrHupu5iEm"
      },
      "source": [
        "fig = plt.figure(figsize=(5, 5))\r\n",
        "ax = fig.add_subplot(111)\r\n",
        "ax.text(0.5, 0.5, s='Default')"
      ],
      "execution_count": null,
      "outputs": []
    },
    {
      "cell_type": "code",
      "metadata": {
        "id": "IDRIMDe_7GNT"
      },
      "source": [
        "for spine in ['top', 'bottom', 'left', 'right']:\r\n",
        "    ax.spines[spine].set_visible(False)\r\n",
        "    \r\n",
        "ax.set_xticks([])\r\n",
        "ax.set_yticks([])\r\n",
        "plt.show()"
      ],
      "execution_count": null,
      "outputs": []
    },
    {
      "cell_type": "code",
      "metadata": {
        "id": "ZJqjpqJa7cUr"
      },
      "source": [
        "fig = plt.figure(figsize=(5, 5))\r\n",
        "ax = fig.add_subplot(111)"
      ],
      "execution_count": null,
      "outputs": []
    },
    {
      "cell_type": "code",
      "metadata": {
        "id": "KP8lOFbN7iKg"
      },
      "source": [
        "for idx, size in enumerate( ['xx-small', 'x-small', 'small', 'medium', 'large', 'x-large', 'xx-large'], 1):\r\n",
        "    ax.text(0.5, 1-0.12*idx, size,\r\n",
        "           size=size)"
      ],
      "execution_count": null,
      "outputs": []
    },
    {
      "cell_type": "code",
      "metadata": {
        "id": "hZzo7Ep68Gy9"
      },
      "source": [
        "for spine in ['top', 'bottom', 'left', 'right']:\r\n",
        "    ax.spines[spine].set_visible(False)"
      ],
      "execution_count": null,
      "outputs": []
    },
    {
      "cell_type": "code",
      "metadata": {
        "id": "afQM9B-A8J_Q"
      },
      "source": [
        "ax.set_xticks([])\r\n",
        "ax.set_yticks([])\r\n",
        "plt.show()"
      ],
      "execution_count": null,
      "outputs": []
    },
    {
      "cell_type": "code",
      "metadata": {
        "id": "eI2u1GVY8QL_"
      },
      "source": [
        "fig = plt.figure(figsize=(5, 5))\r\n",
        "ax = fig.add_subplot(111)"
      ],
      "execution_count": null,
      "outputs": []
    },
    {
      "cell_type": "code",
      "metadata": {
        "id": "DYC6105v8YkZ"
      },
      "source": [
        "fig = plt.figure(figsize=(5, 5))\r\n",
        "ax = fig.add_subplot(111)\r\n",
        "\r\n",
        "for idx, size in enumerate( ['xx-small', 'x-small', 'small', 'medium', 'large', 'x-large', 'xx-large'], 1):\r\n",
        "    ax.text(0.5, 1-0.12*idx, size,\r\n",
        "           size=size)"
      ],
      "execution_count": null,
      "outputs": []
    },
    {
      "cell_type": "code",
      "metadata": {
        "id": "3CALuH6W9EUR"
      },
      "source": [
        "fig = plt.figure(figsize=(5, 5))\r\n",
        "ax = fig.add_subplot(111)\r\n",
        "\r\n",
        "for idx, weight in enumerate(['light', 'normal', 'medium', 'semibold', 'bold', 'heavy', 'black'], 1):\r\n",
        "    ax.text(0.5, 1-0.12*idx, weight,\r\n",
        "           weight=weight)\r\n",
        "\r\n",
        "\r\n",
        "for spine in ['top', 'bottom', 'left', 'right']:\r\n",
        "    ax.spines[spine].set_visible(False)\r\n",
        "    \r\n",
        "ax.set_xticks([])\r\n",
        "ax.set_yticks([])\r\n",
        "plt.show()"
      ],
      "execution_count": null,
      "outputs": []
    },
    {
      "cell_type": "code",
      "metadata": {
        "id": "OqdA1ZkW8hXu"
      },
      "source": [
        "fig = plt.figure(figsize=(5, 5))\r\n",
        "ax = fig.add_subplot(111)\r\n",
        "\r\n",
        "for idx, family in enumerate(['serif', 'sans-serif', 'cursive', 'fantasy', 'monospace'], 1):\r\n",
        "    ax.text(0.5, 1-0.15*idx, family,\r\n",
        "           family=family)\r\n",
        "\r\n",
        "for spine in ['top', 'bottom', 'left', 'right']:\r\n",
        "    ax.spines[spine].set_visible(False)\r\n",
        "    \r\n",
        "ax.set_xticks([])\r\n",
        "ax.set_yticks([])\r\n",
        "plt.show()"
      ],
      "execution_count": null,
      "outputs": []
    },
    {
      "cell_type": "code",
      "metadata": {
        "id": "UjMS5hSM8lao"
      },
      "source": [
        "fig = plt.figure(figsize=(5, 5))\r\n",
        "ax = fig.add_subplot(111)\r\n",
        "\r\n",
        "for idx, style in enumerate(['normal', 'italic', 'oblique'], 1):\r\n",
        "    ax.text(0.5, 1-0.15*idx, style,\r\n",
        "           style=style)\r\n",
        "\r\n",
        "for spine in ['top', 'bottom', 'left', 'right']:\r\n",
        "    ax.spines[spine].set_visible(False)\r\n",
        "    \r\n",
        "ax.set_xticks([])\r\n",
        "ax.set_yticks([])\r\n",
        "plt.show()"
      ],
      "execution_count": null,
      "outputs": []
    },
    {
      "cell_type": "markdown",
      "metadata": {
        "id": "5BoMm7mh-Cf2"
      },
      "source": [
        "Conjunto de dados "
      ]
    },
    {
      "cell_type": "code",
      "metadata": {
        "id": "DaBxjpOU9gMP"
      },
      "source": [
        "dados.shape"
      ],
      "execution_count": null,
      "outputs": []
    },
    {
      "cell_type": "markdown",
      "metadata": {
        "id": "uadNElzR-lkL"
      },
      "source": [
        "Verificando os valores nulos e ausentes"
      ]
    },
    {
      "cell_type": "code",
      "metadata": {
        "id": "8SGRtYsM98FY"
      },
      "source": [
        "dados.isnull().sum()"
      ],
      "execution_count": null,
      "outputs": []
    },
    {
      "cell_type": "markdown",
      "metadata": {
        "id": "vltb5vWw_ER7"
      },
      "source": [
        "Comparação de programas de TV e filmes\r\n"
      ]
    },
    {
      "cell_type": "code",
      "metadata": {
        "id": "ZxHAbZxI-pu4"
      },
      "source": [
        "dados_df = pd.DataFrame()\r\n",
        "dados_df"
      ],
      "execution_count": null,
      "outputs": []
    },
    {
      "cell_type": "code",
      "metadata": {
        "id": "QkQUwocq_JpO"
      },
      "source": [
        "movies_count = dados[dados.Modelo == \"Movie\"]\r\n",
        "tvshows_count = dados[dados[\"Modelo\"] == \"TV Show\"]"
      ],
      "execution_count": null,
      "outputs": []
    },
    {
      "cell_type": "code",
      "metadata": {
        "id": "KHxJjRadBUvD"
      },
      "source": [
        "plt.figure(figsize=(10,8))\r\n",
        "sns.set_style(\"white\")\r\n",
        "sns.countplot(x=\"Modelo\", data=dados, palette=\"viridis\")"
      ],
      "execution_count": null,
      "outputs": []
    },
    {
      "cell_type": "code",
      "metadata": {
        "id": "S_AY6aZ2Dqm4"
      },
      "source": [
        "dados"
      ],
      "execution_count": null,
      "outputs": []
    },
    {
      "cell_type": "code",
      "metadata": {
        "id": "A_3PZMfwDrv5"
      },
      "source": [
        "dados_counts = dados.País.value_counts()\r\n",
        "dados_counts"
      ],
      "execution_count": null,
      "outputs": []
    },
    {
      "cell_type": "code",
      "metadata": {
        "id": "gP71VxqtFSvL"
      },
      "source": [
        "dados_diretor = dados.dropna(subset=[\"Diretor\"])"
      ],
      "execution_count": null,
      "outputs": []
    },
    {
      "cell_type": "code",
      "metadata": {
        "id": "pX_210JjGLTt"
      },
      "source": [
        "dados_diretor"
      ],
      "execution_count": null,
      "outputs": []
    },
    {
      "cell_type": "code",
      "metadata": {
        "id": "LzyCmNQmGQJB"
      },
      "source": [
        "dados_diretor_counts = dados_diretor.Diretor.value_counts()\r\n",
        "dados_diretor_counts"
      ],
      "execution_count": null,
      "outputs": []
    },
    {
      "cell_type": "markdown",
      "metadata": {
        "id": "Ypx6MRK6NUK3"
      },
      "source": [
        "Conteúdo anual lançado na netflix\r\n"
      ]
    },
    {
      "cell_type": "code",
      "metadata": {
        "id": "qToFxTC0LFNQ"
      },
      "source": [
        "conteudo_por_ano = dados.Ano_de_lançamento.value_counts().index[:20]\r\n",
        "conteudo_por_ano"
      ],
      "execution_count": null,
      "outputs": []
    },
    {
      "cell_type": "code",
      "metadata": {
        "id": "56h5BcsfLvgG"
      },
      "source": [
        "plt.figure(figsize=(12,10))\r\n",
        "sns.set_style(\"dark\")\r\n",
        "sns.countplot(data=dados, y=\"Ano_de_lançamento\", order=conteudo_por_ano, palette=\"viridis\")"
      ],
      "execution_count": null,
      "outputs": []
    },
    {
      "cell_type": "markdown",
      "metadata": {
        "id": "0A7kZ7YgOntf"
      },
      "source": [
        "Convertendo todos os valores da string de duração em inteiros"
      ]
    },
    {
      "cell_type": "code",
      "metadata": {
        "id": "nB9mVOTcOQ35"
      },
      "source": [
        "movies_count['Duração']=movies_count['Duração'].str.replace(' min','')\r\n",
        "movies_count['Duração']=movies_count['Duração'].astype(str).astype(int)\r\n",
        "movies_count['Duração']"
      ],
      "execution_count": null,
      "outputs": []
    },
    {
      "cell_type": "code",
      "metadata": {
        "id": "_FdsFYzaO-re"
      },
      "source": [
        "plt.figure(figsize=(10,8))\r\n",
        "sns.set_style(\"darkgrid\")\r\n",
        "sns.kdeplot(data=movies_count[\"Duração\"], shade=True)"
      ],
      "execution_count": null,
      "outputs": []
    },
    {
      "cell_type": "markdown",
      "metadata": {
        "id": "7IgMH5dnSEzW"
      },
      "source": [
        "Conteúdo **Indiano** na Netflix "
      ]
    },
    {
      "cell_type": "markdown",
      "metadata": {
        "id": "icEYmDWGSLQg"
      },
      "source": [
        "Filtrando o País India"
      ]
    },
    {
      "cell_type": "code",
      "metadata": {
        "id": "bl-OocXURJ6u"
      },
      "source": [
        "dados_india = dados[dados.País == \"India\"]\r\n",
        "dados_india.head()"
      ],
      "execution_count": null,
      "outputs": []
    },
    {
      "cell_type": "code",
      "metadata": {
        "id": "dl-LJ8cYSoeQ"
      },
      "source": [
        "plt.figure(figsize=(12,10))\r\n",
        "sns.set_style(\"dark\")\r\n",
        "sns.countplot(data=dados_india, y=\"Ano_de_lançamento\", \r\n",
        "              order=dados_india.Ano_de_lançamento.value_counts().index[:20], \r\n",
        "              palette=\"viridis\")"
      ],
      "execution_count": null,
      "outputs": []
    },
    {
      "cell_type": "code",
      "metadata": {
        "id": "1V614rkUS5fS"
      },
      "source": [
        "import matplotlib.pyplot as plt\r\n",
        "import seaborn as sns \r\n",
        "import matplotlib\r\n",
        "import plotly.graph_objects as go\r\n",
        "import plotly.express as px"
      ],
      "execution_count": null,
      "outputs": []
    },
    {
      "cell_type": "code",
      "metadata": {
        "id": "PP_Yt8g6UyND"
      },
      "source": [
        "sns.set(context='notebook', style='darkgrid', palette='colorblind', font='sans-serif', font_scale=1, rc=None)\r\n",
        "matplotlib.rcParams['figure.figsize'] =[8,8]\r\n",
        "matplotlib.rcParams.update({'font.size': 15})\r\n",
        "matplotlib.rcParams['font.family'] = 'sans-serif'"
      ],
      "execution_count": null,
      "outputs": []
    },
    {
      "cell_type": "code",
      "metadata": {
        "id": "LthoukhwU7sq"
      },
      "source": [
        "import plotly.graph_objects as go\r\n",
        "from plotly.offline import init_notebook_mode, iplot"
      ],
      "execution_count": null,
      "outputs": []
    },
    {
      "cell_type": "code",
      "metadata": {
        "id": "0W5OeF2eVBxn"
      },
      "source": [
        "dados.info()"
      ],
      "execution_count": null,
      "outputs": []
    },
    {
      "cell_type": "code",
      "metadata": {
        "id": "ak4fWg6hVFmZ"
      },
      "source": [
        "dados.dtypes.value_counts().plot.pie(explode=[0.1,0.1],autopct='%1.1f%%',shadow=True)\r\n",
        "plt.title('O tipo de nossos dados')"
      ],
      "execution_count": null,
      "outputs": []
    },
    {
      "cell_type": "code",
      "metadata": {
        "id": "3tvUSv-iVmfq"
      },
      "source": [
        "dados.columns"
      ],
      "execution_count": null,
      "outputs": []
    },
    {
      "cell_type": "code",
      "metadata": {
        "id": "zNDMuftyWDJi"
      },
      "source": [
        "dados.describe(include='all')"
      ],
      "execution_count": null,
      "outputs": []
    },
    {
      "cell_type": "markdown",
      "metadata": {
        "id": "G_huprolWX1j"
      },
      "source": [
        "\r\n",
        "encontrando valores **ausentes**"
      ]
    },
    {
      "cell_type": "code",
      "metadata": {
        "id": "IYUjXSJWWIH5"
      },
      "source": [
        "missing_values=dados.isnull().sum()\r\n",
        "percent_missing = dados.isnull().sum()/df.shape[0]*100\r\n",
        "\r\n",
        "value = {\r\n",
        "    'missing_values':missing_values,\r\n",
        "    'percent_missing %':percent_missing\r\n",
        "}\r\n",
        "frame=pd.DataFrame(value)\r\n",
        "frame"
      ],
      "execution_count": null,
      "outputs": []
    },
    {
      "cell_type": "code",
      "metadata": {
        "id": "tuJBTaNeW_RL"
      },
      "source": [
        "dados.shape"
      ],
      "execution_count": null,
      "outputs": []
    },
    {
      "cell_type": "code",
      "metadata": {
        "id": "5A17cB79XWoO"
      },
      "source": [
        "freq_value=dados.Avaliação.value_counts()\r\n",
        "print(freq_value)\r\n",
        "freq_value.plot.bar()"
      ],
      "execution_count": null,
      "outputs": []
    },
    {
      "cell_type": "code",
      "metadata": {
        "id": "GnfosNghXcio"
      },
      "source": [
        "freq_rating=dados.Avaliação.mode()"
      ],
      "execution_count": null,
      "outputs": []
    },
    {
      "cell_type": "code",
      "metadata": {
        "id": "TrzbyOFVXuoo"
      },
      "source": [
        "dados['Avaliação'].fillna(dados['Avaliação'].mode,inplace=True)"
      ],
      "execution_count": null,
      "outputs": []
    },
    {
      "cell_type": "code",
      "metadata": {
        "id": "EFbbqNswYLSo"
      },
      "source": [
        "dados.Avaliação.isnull().sum()"
      ],
      "execution_count": null,
      "outputs": []
    },
    {
      "cell_type": "markdown",
      "metadata": {
        "id": "E7YFA8Ilbcve"
      },
      "source": [
        "*Pesquisa pela data que foi adicionado**"
      ]
    },
    {
      "cell_type": "code",
      "metadata": {
        "id": "41dU4X4uYyJm"
      },
      "source": [
        "freq_data=dados.Data_Adicionado.value_counts()\r\n",
        "freq_data"
      ],
      "execution_count": null,
      "outputs": []
    },
    {
      "cell_type": "code",
      "metadata": {
        "id": "uN0XgTXzZ01s"
      },
      "source": [
        "dados=dados.dropna(axis=0, subset=['Data_Adicionado'])"
      ],
      "execution_count": null,
      "outputs": []
    },
    {
      "cell_type": "code",
      "metadata": {
        "id": "ogJKf1bZaeZd"
      },
      "source": [
        "dados.Data_Adicionado.isnull().sum()"
      ],
      "execution_count": null,
      "outputs": []
    },
    {
      "cell_type": "markdown",
      "metadata": {
        "id": "ZFEZRuQgbSIm"
      },
      "source": [
        "**Por Países**"
      ]
    },
    {
      "cell_type": "code",
      "metadata": {
        "id": "exHmBfBLbNgK"
      },
      "source": [
        "dados.País.value_counts()"
      ],
      "execution_count": null,
      "outputs": []
    },
    {
      "cell_type": "code",
      "metadata": {
        "id": "X_hBEuFjb2Dq"
      },
      "source": [
        "plt.figure(figsize=(15,8))\r\n",
        "País_val=dados.País.value_counts().head(15)\r\n",
        "sns.barplot(País.index,País)\r\n",
        "plt.xticks(rotation=45)\r\n",
        "plt.title('Conteúdo disponível em diferentes países')"
      ],
      "execution_count": null,
      "outputs": []
    },
    {
      "cell_type": "code",
      "metadata": {
        "id": "p0vvn9MWcPFl"
      },
      "source": [
        "plt.figure(figsize=(12,8))\r\n",
        "País=dados.País.value_counts().head(15)\r\n",
        "sns.barplot(País.index,País)\r\n",
        "plt.xticks(rotation=45)\r\n",
        "plt.title('conteúdo disponível em diferentes países')"
      ],
      "execution_count": null,
      "outputs": []
    },
    {
      "cell_type": "code",
      "metadata": {
        "id": "_ZLIO1Ccc-1n"
      },
      "source": [
        "dados.País.mode()"
      ],
      "execution_count": null,
      "outputs": []
    },
    {
      "cell_type": "code",
      "metadata": {
        "id": "BKEuS9CNdLjl"
      },
      "source": [
        "dados['País'].fillna(dados['País'].mode,inplace=True)"
      ],
      "execution_count": null,
      "outputs": []
    },
    {
      "cell_type": "code",
      "metadata": {
        "id": "SydmDYkjdR7a"
      },
      "source": [
        "dados.País.isnull().sum()"
      ],
      "execution_count": null,
      "outputs": []
    },
    {
      "cell_type": "markdown",
      "metadata": {
        "id": "kCexGGRQdjQw"
      },
      "source": [
        "Pesquisa por **elenco**"
      ]
    },
    {
      "cell_type": "code",
      "metadata": {
        "id": "fg-Su-l3dapW"
      },
      "source": [
        "dados.Elenco.value_counts().count()"
      ],
      "execution_count": null,
      "outputs": []
    },
    {
      "cell_type": "code",
      "metadata": {
        "id": "dyuNfHt9dvqp"
      },
      "source": [
        "dados=dados.dropna(axis=0, subset=['Elenco'])"
      ],
      "execution_count": null,
      "outputs": []
    },
    {
      "cell_type": "code",
      "metadata": {
        "id": "fY6zlLmgd4Jz"
      },
      "source": [
        "dados.isnull().sum()"
      ],
      "execution_count": null,
      "outputs": []
    },
    {
      "cell_type": "code",
      "metadata": {
        "id": "8cdSW4Y-d7tZ"
      },
      "source": [
        "dados.Diretor.value_counts()"
      ],
      "execution_count": null,
      "outputs": []
    },
    {
      "cell_type": "markdown",
      "metadata": {
        "id": "RfdXGFdDeG0e"
      },
      "source": [
        "Tipo de conteúdo no **Netflix**"
      ]
    },
    {
      "cell_type": "code",
      "metadata": {
        "id": "G6MEy9HmeB_b"
      },
      "source": [
        "col = \"Modelo\"\r\n",
        "grouped = dados[col].value_counts().reset_index()\r\n",
        "grouped = grouped.rename(columns = {col : \"count\", \"index\" : col})\r\n",
        "\r\n",
        "## plot\r\n",
        "trace = go.Pie(labels=grouped[col], values=grouped['count'], pull=[0.05, 0], marker=dict(colors=[\"#6ad49b\", \"#a678de\"]))\r\n",
        "layout = go.Layout(title=\"\", height=400, legend=dict(x=0.1, y=1.1))\r\n",
        "fig = go.Figure(data = [trace], layout = layout)\r\n",
        "iplot(fig)"
      ],
      "execution_count": null,
      "outputs": []
    },
    {
      "cell_type": "code",
      "metadata": {
        "id": "EXDAdANKeOzk"
      },
      "source": [
        "d1 = dados[dados[\"Modelo\"] == \"TV Show\"]\r\n",
        "d2 = dados[dados[\"Modelo\"] == \"Movie\"]\r\n",
        "\r\n",
        "col = \"Ano_de_lançamento\"\r\n",
        "\r\n",
        "vc1 = d1[col].value_counts().reset_index()\r\n",
        "vc1 = vc1.rename(columns = {col : \"count\", \"index\" : col})\r\n",
        "vc1['percent'] = vc1['count'].apply(lambda x : 100*x/sum(vc1['count']))\r\n",
        "vc1 = vc1.sort_values(col)\r\n",
        "\r\n",
        "vc2 = d2[col].value_counts().reset_index()\r\n",
        "vc2 = vc2.rename(columns = {col : \"count\", \"index\" : col})\r\n",
        "vc2['percent'] = vc2['count'].apply(lambda x : 100*x/sum(vc2['count']))\r\n",
        "vc2 = vc2.sort_values(col)\r\n",
        "\r\n",
        "trace1 = go.Scatter(x=vc1[col], y=vc1[\"count\"], name=\"TV Shows\", marker=dict(color=\"#a678de\"))\r\n",
        "trace2 = go.Scatter(x=vc2[col], y=vc2[\"count\"], name=\"Movies\", marker=dict(color=\"#6ad49b\"))\r\n",
        "data = [trace1, trace2]\r\n",
        "layout = go.Layout(title=\"Conteúdo adicionado ao longo dos anos\", legend=dict(x=0.1, y=1.1, orientation=\"h\"))\r\n",
        "fig = go.Figure(data, layout=layout)\r\n",
        "fig.show()"
      ],
      "execution_count": null,
      "outputs": []
    },
    {
      "cell_type": "markdown",
      "metadata": {
        "id": "_m49J7WfiZG8"
      },
      "source": [
        "Ano de lançamento original dos **filmes**"
      ]
    },
    {
      "cell_type": "code",
      "metadata": {
        "id": "tBgBOMuFePbx"
      },
      "source": [
        "matplotlib.pyplot.plot(dados.Ano_de_lançamento)"
      ],
      "execution_count": null,
      "outputs": []
    },
    {
      "cell_type": "code",
      "metadata": {
        "id": "8YHUSCGtjUde"
      },
      "source": [
        ""
      ],
      "execution_count": null,
      "outputs": []
    }
  ]
}